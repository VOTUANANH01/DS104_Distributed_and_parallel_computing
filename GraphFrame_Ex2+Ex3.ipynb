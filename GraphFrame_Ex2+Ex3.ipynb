{
  "nbformat": 4,
  "nbformat_minor": 0,
  "metadata": {
    "colab": {
      "provenance": [],
      "collapsed_sections": [],
      "authorship_tag": "ABX9TyOrSZ4wNZ5IW/+oTemaByES",
      "include_colab_link": true
    },
    "kernelspec": {
      "name": "python3",
      "display_name": "Python 3"
    },
    "language_info": {
      "name": "python"
    }
  },
  "cells": [
    {
      "cell_type": "markdown",
      "metadata": {
        "id": "view-in-github",
        "colab_type": "text"
      },
      "source": [
        "<a href=\"https://colab.research.google.com/github/VOTUANANH01/DS104_Distributed_and_parallel_computing/blob/main/GraphFrame_Ex2%2BEx3.ipynb\" target=\"_parent\"><img src=\"https://colab.research.google.com/assets/colab-badge.svg\" alt=\"Open In Colab\"/></a>"
      ]
    },
    {
      "cell_type": "code",
      "execution_count": null,
      "metadata": {
        "colab": {
          "base_uri": "https://localhost:8080/"
        },
        "id": "5_CeGG3sOFOK",
        "outputId": "79bc8d1d-4796-48d7-97f0-b1d112e6a9f2"
      },
      "outputs": [
        {
          "output_type": "stream",
          "name": "stdout",
          "text": [
            "Cloning into 'DS104_Distributed_and_parallel_computing'...\n",
            "remote: Enumerating objects: 31, done.\u001b[K\n",
            "remote: Counting objects: 100% (31/31), done.\u001b[K\n",
            "remote: Compressing objects: 100% (28/28), done.\u001b[K\n",
            "remote: Total 31 (delta 11), reused 9 (delta 0), pack-reused 0\u001b[K\n",
            "Unpacking objects: 100% (31/31), done.\n"
          ]
        }
      ],
      "source": [
        "!git clone https://github.com/VOTUANANH01/DS104_Distributed_and_parallel_computing"
      ]
    },
    {
      "cell_type": "code",
      "source": [
        "!pip install pyspark==3.0.1\n",
        "%cd /usr/local/lib/python3.7/dist-packages/pyspark/jars\n",
        "!wget https://repos.spark-packages.org/graphframes/graphframes/0.8.1-spark3.0-s_2.12/graphframes-0.8.1-spark3.0-s_2.12.jar\n",
        "%cd '/content/'\n",
        "!wget https://repos.spark-packages.org/graphframes/graphframes/0.8.1-spark3.0-s_2.12/graphframes-0.8.1-spark3.0-s_2.12.jar\n",
        "!jar xf /content/graphframes-0.8.1-spark3.0-s_2.12.jar"
      ],
      "metadata": {
        "colab": {
          "base_uri": "https://localhost:8080/"
        },
        "id": "5_bTAirQOePZ",
        "outputId": "2a114495-e82a-4a62-8f54-919181a50575"
      },
      "execution_count": null,
      "outputs": [
        {
          "output_type": "stream",
          "name": "stdout",
          "text": [
            "Looking in indexes: https://pypi.org/simple, https://us-python.pkg.dev/colab-wheels/public/simple/\n",
            "Collecting pyspark==3.0.1\n",
            "  Downloading pyspark-3.0.1.tar.gz (204.2 MB)\n",
            "\u001b[K     |████████████████████████████████| 204.2 MB 33 kB/s \n",
            "\u001b[?25hCollecting py4j==0.10.9\n",
            "  Downloading py4j-0.10.9-py2.py3-none-any.whl (198 kB)\n",
            "\u001b[K     |████████████████████████████████| 198 kB 51.2 MB/s \n",
            "\u001b[?25hBuilding wheels for collected packages: pyspark\n",
            "  Building wheel for pyspark (setup.py) ... \u001b[?25l\u001b[?25hdone\n",
            "  Created wheel for pyspark: filename=pyspark-3.0.1-py2.py3-none-any.whl size=204612243 sha256=7c0ae502dde1eba3a74d325f5b449ffb7daa51578732d7d1b07fee87a47e2049\n",
            "  Stored in directory: /root/.cache/pip/wheels/5e/34/fa/b37b5cef503fc5148b478b2495043ba61b079120b7ff379f9b\n",
            "Successfully built pyspark\n",
            "Installing collected packages: py4j, pyspark\n",
            "Successfully installed py4j-0.10.9 pyspark-3.0.1\n",
            "/usr/local/lib/python3.7/dist-packages/pyspark/jars\n",
            "--2022-09-27 01:56:42--  https://repos.spark-packages.org/graphframes/graphframes/0.8.1-spark3.0-s_2.12/graphframes-0.8.1-spark3.0-s_2.12.jar\n",
            "Resolving repos.spark-packages.org (repos.spark-packages.org)... 18.165.83.74, 18.165.83.27, 18.165.83.55, ...\n",
            "Connecting to repos.spark-packages.org (repos.spark-packages.org)|18.165.83.74|:443... connected.\n",
            "HTTP request sent, awaiting response... 200 OK\n",
            "Length: 248133 (242K) [binary/octet-stream]\n",
            "Saving to: ‘graphframes-0.8.1-spark3.0-s_2.12.jar’\n",
            "\n",
            "graphframes-0.8.1-s 100%[===================>] 242.32K  --.-KB/s    in 0.01s   \n",
            "\n",
            "2022-09-27 01:56:42 (19.2 MB/s) - ‘graphframes-0.8.1-spark3.0-s_2.12.jar’ saved [248133/248133]\n",
            "\n",
            "/content\n",
            "--2022-09-27 01:56:42--  https://repos.spark-packages.org/graphframes/graphframes/0.8.1-spark3.0-s_2.12/graphframes-0.8.1-spark3.0-s_2.12.jar\n",
            "Resolving repos.spark-packages.org (repos.spark-packages.org)... 18.165.83.74, 18.165.83.27, 18.165.83.55, ...\n",
            "Connecting to repos.spark-packages.org (repos.spark-packages.org)|18.165.83.74|:443... connected.\n",
            "HTTP request sent, awaiting response... 200 OK\n",
            "Length: 248133 (242K) [binary/octet-stream]\n",
            "Saving to: ‘graphframes-0.8.1-spark3.0-s_2.12.jar’\n",
            "\n",
            "graphframes-0.8.1-s 100%[===================>] 242.32K  --.-KB/s    in 0.01s   \n",
            "\n",
            "2022-09-27 01:56:42 (18.6 MB/s) - ‘graphframes-0.8.1-spark3.0-s_2.12.jar’ saved [248133/248133]\n",
            "\n"
          ]
        }
      ]
    },
    {
      "cell_type": "code",
      "source": [
        "import pyspark\n",
        "from pyspark.sql import SparkSession\n",
        "from pyspark.sql.functions import *\n",
        "from pyspark.sql.types import *\n",
        "\n",
        "spark=SparkSession.builder.getOrCreate()"
      ],
      "metadata": {
        "id": "mzCnrEBBO0yo"
      },
      "execution_count": null,
      "outputs": []
    },
    {
      "cell_type": "markdown",
      "source": [
        "#Example 2: Graph and Bike Trip Data"
      ],
      "metadata": {
        "id": "TFYwTb0aS8gu"
      }
    },
    {
      "cell_type": "code",
      "source": [
        "#read data\n",
        "station =spark.read.option(\"header\",True).csv(\"/content/DS104_Distributed_and_parallel_computing/Slide 5-6 data/station.csv\")\n",
        "trip =spark.read.option(\"header\",True).csv(\"/content/DS104_Distributed_and_parallel_computing/Slide 5-6 data/trip.csv\")\n"
      ],
      "metadata": {
        "id": "NrpknyVNPOBh"
      },
      "execution_count": null,
      "outputs": []
    },
    {
      "cell_type": "code",
      "source": [
        "station.show()\n",
        "trip.show()"
      ],
      "metadata": {
        "colab": {
          "base_uri": "https://localhost:8080/"
        },
        "id": "Qhd2lJjyPd9p",
        "outputId": "7ad99461-08e5-49d1-a617-d4a4fa33bd9e"
      },
      "execution_count": null,
      "outputs": [
        {
          "output_type": "stream",
          "name": "stdout",
          "text": [
            "+---+--------------------+------------------+-------------------+----------+------------+-----------------+\n",
            "| id|                name|               lat|               long|dock_count|        city|installation_date|\n",
            "+---+--------------------+------------------+-------------------+----------+------------+-----------------+\n",
            "|  2|San Jose Diridon ...|         37.329732|-121.90178200000001|        27|    San Jose|         8/6/2013|\n",
            "|  3|San Jose Civic Ce...|         37.330698|        -121.888979|        15|    San Jose|         8/5/2013|\n",
            "|  4|Santa Clara at Al...|         37.333988|        -121.894902|        11|    San Jose|         8/6/2013|\n",
            "|  5|    Adobe on Almaden|         37.331415|          -121.8932|        19|    San Jose|         8/5/2013|\n",
            "|  6|    San Pedro Square|37.336721000000004|        -121.894074|        15|    San Jose|         8/7/2013|\n",
            "|  7|Paseo de San Antonio|         37.333798|-121.88694299999999|        15|    San Jose|         8/7/2013|\n",
            "|  8| San Salvador at 1st|         37.330165|-121.88583100000001|        15|    San Jose|         8/5/2013|\n",
            "|  9|           Japantown|         37.348742|-121.89471499999999|        15|    San Jose|         8/5/2013|\n",
            "| 10|  San Jose City Hall|         37.337391|        -121.886995|        15|    San Jose|         8/6/2013|\n",
            "| 11|         MLK Library|         37.335885|-121.88566000000002|        19|    San Jose|         8/6/2013|\n",
            "| 12|SJSU 4th at San C...|         37.332808|-121.88389099999999|        19|    San Jose|         8/7/2013|\n",
            "| 13|       St James Park|         37.339301|-121.88993700000002|        15|    San Jose|         8/6/2013|\n",
            "| 14|Arena Green / SAP...|         37.332692|        -121.900084|        19|    San Jose|         8/5/2013|\n",
            "| 16|SJSU - San Salvad...|37.333954999999996|        -121.877349|        15|    San Jose|         8/7/2013|\n",
            "| 21|   Franklin at Maple|         37.481758|        -122.226904|        15|Redwood City|        8/12/2013|\n",
            "| 22|Redwood City Calt...|37.486078000000006|-122.23208899999999|        25|Redwood City|        8/15/2013|\n",
            "| 23|San Mateo County ...|37.487615999999996|        -122.229951|        15|Redwood City|        8/15/2013|\n",
            "| 24|Redwood City Publ...|         37.484219|        -122.227424|        15|Redwood City|        8/12/2013|\n",
            "| 25|Stanford in Redwo...|          37.48537|-122.20328799999999|        15|Redwood City|        8/12/2013|\n",
            "| 26|Redwood City Medi...|         37.487682|        -122.223492|        15|Redwood City|        8/12/2013|\n",
            "+---+--------------------+------------------+-------------------+----------+------------+-----------------+\n",
            "only showing top 20 rows\n",
            "\n",
            "+----+--------+---------------+--------------------+----------------+---------------+--------------------+--------------+-------+-----------------+--------+\n",
            "|  id|duration|     start_date|  start_station_name|start_station_id|       end_date|    end_station_name|end_station_id|bike_id|subscription_type|zip_code|\n",
            "+----+--------+---------------+--------------------+----------------+---------------+--------------------+--------------+-------+-----------------+--------+\n",
            "|4576|      63|8/29/2013 14:13|South Van Ness at...|              66|8/29/2013 14:14|South Van Ness at...|            66|    520|       Subscriber|   94127|\n",
            "|4607|      70|8/29/2013 14:42|  San Jose City Hall|              10|8/29/2013 14:43|  San Jose City Hall|            10|    661|       Subscriber|   95138|\n",
            "|4130|      71|8/29/2013 10:16|Mountain View Cit...|              27|8/29/2013 10:17|Mountain View Cit...|            27|     48|       Subscriber|   97214|\n",
            "|4251|      77|8/29/2013 11:29|  San Jose City Hall|              10|8/29/2013 11:30|  San Jose City Hall|            10|     26|       Subscriber|   95060|\n",
            "|4299|      83|8/29/2013 12:02|South Van Ness at...|              66|8/29/2013 12:04|      Market at 10th|            67|    319|       Subscriber|   94103|\n",
            "|4927|     103|8/29/2013 18:54| Golden Gate at Polk|              59|8/29/2013 18:56| Golden Gate at Polk|            59|    527|       Subscriber|   94109|\n",
            "|4500|     109|8/29/2013 13:25|Santa Clara at Al...|               4|8/29/2013 13:27|    Adobe on Almaden|             5|    679|       Subscriber|   95112|\n",
            "|4563|     111|8/29/2013 14:02| San Salvador at 1st|               8|8/29/2013 14:04| San Salvador at 1st|             8|    687|       Subscriber|   95112|\n",
            "|4760|     113|8/29/2013 17:01|South Van Ness at...|              66|8/29/2013 17:03|South Van Ness at...|            66|    553|       Subscriber|   94103|\n",
            "|4258|     114|8/29/2013 11:33|  San Jose City Hall|              10|8/29/2013 11:35|         MLK Library|            11|    107|       Subscriber|   95060|\n",
            "|4549|     125|8/29/2013 13:52|     Spear at Folsom|              49|8/29/2013 13:55|Embarcadero at Br...|            54|    368|       Subscriber|   94109|\n",
            "|4498|     126|8/29/2013 13:23|    San Pedro Square|               6|8/29/2013 13:25|Santa Clara at Al...|             4|     26|       Subscriber|   95112|\n",
            "|4965|     129|8/29/2013 19:32|Mountain View Cal...|              28|8/29/2013 19:35|Mountain View Cal...|            28|    140|       Subscriber|   94041|\n",
            "|4557|     130|8/29/2013 13:57|   2nd at South Park|              64|8/29/2013 13:59|   2nd at South Park|            64|    371|       Subscriber|   94122|\n",
            "|4386|     134|8/29/2013 12:31|     Clay at Battery|              41|8/29/2013 12:33|     Beale at Market|            56|    503|       Subscriber|   94109|\n",
            "|4749|     138|8/29/2013 16:57|     Post at Kearney|              47|8/29/2013 16:59|     Post at Kearney|            47|    408|       Subscriber|   94117|\n",
            "|4242|     141|8/29/2013 11:25|  San Jose City Hall|              10|8/29/2013 11:27|  San Jose City Hall|            10|     26|       Subscriber|   95060|\n",
            "|4329|     142|8/29/2013 12:11|      Market at 10th|              67|8/29/2013 12:14|      Market at 10th|            67|    319|       Subscriber|   94103|\n",
            "|5097|     142|8/29/2013 22:21|   Steuart at Market|              74|8/29/2013 22:24|Harry Bridges Pla...|            50|    564|       Subscriber|   94115|\n",
            "|5084|     144|8/29/2013 22:06|  Powell Street BART|              39|8/29/2013 22:08|       Market at 4th|            76|    574|       Subscriber|   94115|\n",
            "+----+--------+---------------+--------------------+----------------+---------------+--------------------+--------------+-------+-----------------+--------+\n",
            "only showing top 20 rows\n",
            "\n"
          ]
        }
      ]
    },
    {
      "cell_type": "code",
      "source": [
        "station.printSchema()\n",
        "trip.printSchema()"
      ],
      "metadata": {
        "colab": {
          "base_uri": "https://localhost:8080/"
        },
        "id": "NmWCQiZZPw9_",
        "outputId": "80a68ef3-2abb-4cd6-95c7-ef5bc70df541"
      },
      "execution_count": null,
      "outputs": [
        {
          "output_type": "stream",
          "name": "stdout",
          "text": [
            "root\n",
            " |-- id: string (nullable = true)\n",
            " |-- name: string (nullable = true)\n",
            " |-- lat: string (nullable = true)\n",
            " |-- long: string (nullable = true)\n",
            " |-- dock_count: string (nullable = true)\n",
            " |-- city: string (nullable = true)\n",
            " |-- installation_date: string (nullable = true)\n",
            "\n",
            "root\n",
            " |-- id: string (nullable = true)\n",
            " |-- duration: string (nullable = true)\n",
            " |-- start_date: string (nullable = true)\n",
            " |-- start_station_name: string (nullable = true)\n",
            " |-- start_station_id: string (nullable = true)\n",
            " |-- end_date: string (nullable = true)\n",
            " |-- end_station_name: string (nullable = true)\n",
            " |-- end_station_id: string (nullable = true)\n",
            " |-- bike_id: string (nullable = true)\n",
            " |-- subscription_type: string (nullable = true)\n",
            " |-- zip_code: string (nullable = true)\n",
            "\n"
          ]
        }
      ]
    },
    {
      "cell_type": "code",
      "source": [
        "tripEdges=trip.withColumnRenamed(\"start_station_name\",\"src\")\\\n",
        "  .withColumnRenamed(\"end_station_name\",\"dst\")\\\n",
        "  .withColumn(\"start_date\",unix_timestamp('start_date','yyyy-MM-dd').cast(\"date\"))\n",
        "tripEdges.show(5)"
      ],
      "metadata": {
        "colab": {
          "base_uri": "https://localhost:8080/",
          "height": 452
        },
        "id": "ZUcE-9tNP4Mv",
        "outputId": "04df4fec-9fa8-4662-ae3e-a8b36a3eb201"
      },
      "execution_count": null,
      "outputs": [
        {
          "output_type": "error",
          "ename": "AnalysisException",
          "evalue": "ignored",
          "traceback": [
            "\u001b[0;31m---------------------------------------------------------------------------\u001b[0m",
            "\u001b[0;31mAnalysisException\u001b[0m                         Traceback (most recent call last)",
            "\u001b[0;32m<ipython-input-93-cb13488b3913>\u001b[0m in \u001b[0;36m<module>\u001b[0;34m\u001b[0m\n\u001b[1;32m      1\u001b[0m \u001b[0mtripEdges\u001b[0m\u001b[0;34m=\u001b[0m\u001b[0mtrip\u001b[0m\u001b[0;34m.\u001b[0m\u001b[0mwithColumnRenamed\u001b[0m\u001b[0;34m(\u001b[0m\u001b[0;34m\"start_station_name\"\u001b[0m\u001b[0;34m,\u001b[0m\u001b[0;34m\"src\"\u001b[0m\u001b[0;34m)\u001b[0m\u001b[0;31m\\\u001b[0m\u001b[0;34m\u001b[0m\u001b[0;34m\u001b[0m\u001b[0m\n\u001b[1;32m      2\u001b[0m   \u001b[0;34m.\u001b[0m\u001b[0mwithColumnRenamed\u001b[0m\u001b[0;34m(\u001b[0m\u001b[0;34m\"end_station_name\"\u001b[0m\u001b[0;34m,\u001b[0m\u001b[0;34m\"dst\"\u001b[0m\u001b[0;34m)\u001b[0m\u001b[0;31m\\\u001b[0m\u001b[0;34m\u001b[0m\u001b[0;34m\u001b[0m\u001b[0m\n\u001b[0;32m----> 3\u001b[0;31m   \u001b[0;34m.\u001b[0m\u001b[0mwithColumn\u001b[0m\u001b[0;34m(\u001b[0m\u001b[0;34m\"start_date\"\u001b[0m\u001b[0;34m,\u001b[0m\u001b[0munix_timestamp\u001b[0m\u001b[0;34m(\u001b[0m\u001b[0;34m'start_date'\u001b[0m\u001b[0;34m,\u001b[0m\u001b[0;34m'yyyy-MM-dd'\u001b[0m\u001b[0;34m)\u001b[0m\u001b[0;34m.\u001b[0m\u001b[0mcast\u001b[0m\u001b[0;34m(\u001b[0m\u001b[0;34m\"date\"\u001b[0m\u001b[0;34m)\u001b[0m\u001b[0;34m)\u001b[0m\u001b[0;34m\u001b[0m\u001b[0;34m\u001b[0m\u001b[0m\n\u001b[0m\u001b[1;32m      4\u001b[0m \u001b[0mtripEdges\u001b[0m\u001b[0;34m.\u001b[0m\u001b[0mshow\u001b[0m\u001b[0;34m(\u001b[0m\u001b[0;36m5\u001b[0m\u001b[0;34m)\u001b[0m\u001b[0;34m\u001b[0m\u001b[0;34m\u001b[0m\u001b[0m\n",
            "\u001b[0;32m/usr/local/lib/python3.7/dist-packages/pyspark/sql/dataframe.py\u001b[0m in \u001b[0;36mwithColumn\u001b[0;34m(self, colName, col)\u001b[0m\n\u001b[1;32m   2094\u001b[0m         \"\"\"\n\u001b[1;32m   2095\u001b[0m         \u001b[0;32massert\u001b[0m \u001b[0misinstance\u001b[0m\u001b[0;34m(\u001b[0m\u001b[0mcol\u001b[0m\u001b[0;34m,\u001b[0m \u001b[0mColumn\u001b[0m\u001b[0;34m)\u001b[0m\u001b[0;34m,\u001b[0m \u001b[0;34m\"col should be Column\"\u001b[0m\u001b[0;34m\u001b[0m\u001b[0;34m\u001b[0m\u001b[0m\n\u001b[0;32m-> 2096\u001b[0;31m         \u001b[0;32mreturn\u001b[0m \u001b[0mDataFrame\u001b[0m\u001b[0;34m(\u001b[0m\u001b[0mself\u001b[0m\u001b[0;34m.\u001b[0m\u001b[0m_jdf\u001b[0m\u001b[0;34m.\u001b[0m\u001b[0mwithColumn\u001b[0m\u001b[0;34m(\u001b[0m\u001b[0mcolName\u001b[0m\u001b[0;34m,\u001b[0m \u001b[0mcol\u001b[0m\u001b[0;34m.\u001b[0m\u001b[0m_jc\u001b[0m\u001b[0;34m)\u001b[0m\u001b[0;34m,\u001b[0m \u001b[0mself\u001b[0m\u001b[0;34m.\u001b[0m\u001b[0msql_ctx\u001b[0m\u001b[0;34m)\u001b[0m\u001b[0;34m\u001b[0m\u001b[0;34m\u001b[0m\u001b[0m\n\u001b[0m\u001b[1;32m   2097\u001b[0m \u001b[0;34m\u001b[0m\u001b[0m\n\u001b[1;32m   2098\u001b[0m     \u001b[0;34m@\u001b[0m\u001b[0mignore_unicode_prefix\u001b[0m\u001b[0;34m\u001b[0m\u001b[0;34m\u001b[0m\u001b[0m\n",
            "\u001b[0;32m/usr/local/lib/python3.7/dist-packages/py4j/java_gateway.py\u001b[0m in \u001b[0;36m__call__\u001b[0;34m(self, *args)\u001b[0m\n\u001b[1;32m   1303\u001b[0m         \u001b[0manswer\u001b[0m \u001b[0;34m=\u001b[0m \u001b[0mself\u001b[0m\u001b[0;34m.\u001b[0m\u001b[0mgateway_client\u001b[0m\u001b[0;34m.\u001b[0m\u001b[0msend_command\u001b[0m\u001b[0;34m(\u001b[0m\u001b[0mcommand\u001b[0m\u001b[0;34m)\u001b[0m\u001b[0;34m\u001b[0m\u001b[0;34m\u001b[0m\u001b[0m\n\u001b[1;32m   1304\u001b[0m         return_value = get_return_value(\n\u001b[0;32m-> 1305\u001b[0;31m             answer, self.gateway_client, self.target_id, self.name)\n\u001b[0m\u001b[1;32m   1306\u001b[0m \u001b[0;34m\u001b[0m\u001b[0m\n\u001b[1;32m   1307\u001b[0m         \u001b[0;32mfor\u001b[0m \u001b[0mtemp_arg\u001b[0m \u001b[0;32min\u001b[0m \u001b[0mtemp_args\u001b[0m\u001b[0;34m:\u001b[0m\u001b[0;34m\u001b[0m\u001b[0;34m\u001b[0m\u001b[0m\n",
            "\u001b[0;32m/usr/local/lib/python3.7/dist-packages/pyspark/sql/utils.py\u001b[0m in \u001b[0;36mdeco\u001b[0;34m(*a, **kw)\u001b[0m\n\u001b[1;32m    132\u001b[0m                 \u001b[0;31m# Hide where the exception came from that shows a non-Pythonic\u001b[0m\u001b[0;34m\u001b[0m\u001b[0;34m\u001b[0m\u001b[0;34m\u001b[0m\u001b[0m\n\u001b[1;32m    133\u001b[0m                 \u001b[0;31m# JVM exception message.\u001b[0m\u001b[0;34m\u001b[0m\u001b[0;34m\u001b[0m\u001b[0;34m\u001b[0m\u001b[0m\n\u001b[0;32m--> 134\u001b[0;31m                 \u001b[0mraise_from\u001b[0m\u001b[0;34m(\u001b[0m\u001b[0mconverted\u001b[0m\u001b[0;34m)\u001b[0m\u001b[0;34m\u001b[0m\u001b[0;34m\u001b[0m\u001b[0m\n\u001b[0m\u001b[1;32m    135\u001b[0m             \u001b[0;32melse\u001b[0m\u001b[0;34m:\u001b[0m\u001b[0;34m\u001b[0m\u001b[0;34m\u001b[0m\u001b[0m\n\u001b[1;32m    136\u001b[0m                 \u001b[0;32mraise\u001b[0m\u001b[0;34m\u001b[0m\u001b[0;34m\u001b[0m\u001b[0m\n",
            "\u001b[0;32m/usr/local/lib/python3.7/dist-packages/pyspark/sql/utils.py\u001b[0m in \u001b[0;36mraise_from\u001b[0;34m(e)\u001b[0m\n",
            "\u001b[0;31mAnalysisException\u001b[0m: cannot resolve 'CAST(unix_timestamp(`start_date`, 'yyyy-MM-dd') AS DATE)' due to data type mismatch: cannot cast bigint to date;;\n'Project [id#46, duration#47, cast(unix_timestamp(start_date#48, yyyy-MM-dd, Some(Etc/UTC)) as date) AS start_date#4999, src#4975, start_station_id#50, end_date#51, dst#4987, end_station_id#53, bike_id#54, subscription_type#55, zip_code#56]\n+- Project [id#46, duration#47, start_date#48, src#4975, start_station_id#50, end_date#51, end_station_name#52 AS dst#4987, end_station_id#53, bike_id#54, subscription_type#55, zip_code#56]\n   +- Project [id#46, duration#47, start_date#48, start_station_name#49 AS src#4975, start_station_id#50, end_date#51, end_station_name#52, end_station_id#53, bike_id#54, subscription_type#55, zip_code#56]\n      +- Relation[id#46,duration#47,start_date#48,start_station_name#49,start_station_id#50,end_date#51,end_station_name#52,end_station_id#53,bike_id#54,subscription_type#55,zip_code#56] csv\n"
          ]
        }
      ]
    },
    {
      "cell_type": "code",
      "source": [
        "from graphframes import *\n",
        "stationGraph=GraphFrame(station,tripEdges)"
      ],
      "metadata": {
        "id": "YP4ccAiAQaNH"
      },
      "execution_count": null,
      "outputs": []
    },
    {
      "cell_type": "markdown",
      "source": [
        "##Trip from Station to Station"
      ],
      "metadata": {
        "id": "-wpNdab9QKSg"
      }
    },
    {
      "cell_type": "code",
      "source": [
        "#count number of trips that are exact same from station A to station B\n",
        "from pyspark.sql.functions import *\n",
        "topTrips=stationGraph.edges.groupBy(\"src\",\"dst\").count()\\\n",
        "  .orderBy(desc(\"count\")).limit(10)\n"
      ],
      "metadata": {
        "id": "gqnPSbprQOSX"
      },
      "execution_count": null,
      "outputs": []
    },
    {
      "cell_type": "code",
      "source": [
        "topTrips.show(truncate=False)"
      ],
      "metadata": {
        "colab": {
          "base_uri": "https://localhost:8080/"
        },
        "id": "cgP1rVzTRbqW",
        "outputId": "2242b7e2-bf61-4c35-f44c-fe6aa5ca7c2c"
      },
      "execution_count": null,
      "outputs": [
        {
          "output_type": "stream",
          "name": "stdout",
          "text": [
            "+----------------------------------------+----------------------------------------+-----+\n",
            "|src                                     |dst                                     |count|\n",
            "+----------------------------------------+----------------------------------------+-----+\n",
            "|San Francisco Caltrain 2 (330 Townsend) |Townsend at 7th                         |6216 |\n",
            "|Harry Bridges Plaza (Ferry Building)    |Embarcadero at Sansome                  |6164 |\n",
            "|Townsend at 7th                         |San Francisco Caltrain (Townsend at 4th)|5041 |\n",
            "|2nd at Townsend                         |Harry Bridges Plaza (Ferry Building)    |4839 |\n",
            "|Harry Bridges Plaza (Ferry Building)    |2nd at Townsend                         |4357 |\n",
            "|Embarcadero at Sansome                  |Steuart at Market                       |4269 |\n",
            "|Embarcadero at Folsom                   |San Francisco Caltrain (Townsend at 4th)|3967 |\n",
            "|Steuart at Market                       |2nd at Townsend                         |3903 |\n",
            "|2nd at South Park                       |Market at Sansome                       |3627 |\n",
            "|San Francisco Caltrain (Townsend at 4th)|Harry Bridges Plaza (Ferry Building)    |3622 |\n",
            "+----------------------------------------+----------------------------------------+-----+\n",
            "\n"
          ]
        }
      ]
    },
    {
      "cell_type": "markdown",
      "source": [
        "##In Degrees and Out Degrees"
      ],
      "metadata": {
        "id": "6X8xh6lFRll_"
      }
    },
    {
      "cell_type": "code",
      "source": [
        "#in-degree: the number of edges coming into vertex in directed graph\n",
        "inDeg=stationGraph.inDegrees\n",
        "inDeg.orderBy(desc(\"inDegree\")).show(10,truncate=False)\n"
      ],
      "metadata": {
        "colab": {
          "base_uri": "https://localhost:8080/"
        },
        "id": "7e6rhbmURpiO",
        "outputId": "4d021c9b-122a-4c56-d901-db331b15770b"
      },
      "execution_count": null,
      "outputs": [
        {
          "output_type": "stream",
          "name": "stdout",
          "text": [
            "+---------------------------------------------+--------+\n",
            "|id                                           |inDegree|\n",
            "+---------------------------------------------+--------+\n",
            "|San Francisco Caltrain (Townsend at 4th)     |63179   |\n",
            "|San Francisco Caltrain 2 (330 Townsend)      |35117   |\n",
            "|Harry Bridges Plaza (Ferry Building)         |33193   |\n",
            "|Embarcadero at Sansome                       |30796   |\n",
            "|2nd at Townsend                              |28529   |\n",
            "|Market at Sansome                            |28033   |\n",
            "|Townsend at 7th                              |26637   |\n",
            "|Steuart at Market                            |25025   |\n",
            "|Temporary Transbay Terminal (Howard at Beale)|23080   |\n",
            "|Market at 4th                                |19915   |\n",
            "+---------------------------------------------+--------+\n",
            "only showing top 10 rows\n",
            "\n"
          ]
        }
      ]
    },
    {
      "cell_type": "code",
      "source": [
        "#out-degree: the number of edges going out of vertex in directed vertex in directed graph\n",
        "outDeg=stationGraph.outDegrees\n",
        "outDeg.orderBy(desc(\"outDegree\")).show(10,truncate=False)"
      ],
      "metadata": {
        "colab": {
          "base_uri": "https://localhost:8080/"
        },
        "id": "Bsxdko3eR1b4",
        "outputId": "ab2c3c56-b9ad-48bc-9e06-9cec53a10487"
      },
      "execution_count": null,
      "outputs": [
        {
          "output_type": "stream",
          "name": "stdout",
          "text": [
            "+---------------------------------------------+---------+\n",
            "|id                                           |outDegree|\n",
            "+---------------------------------------------+---------+\n",
            "|San Francisco Caltrain (Townsend at 4th)     |49092    |\n",
            "|San Francisco Caltrain 2 (330 Townsend)      |33742    |\n",
            "|Harry Bridges Plaza (Ferry Building)         |32934    |\n",
            "|Embarcadero at Sansome                       |27713    |\n",
            "|Temporary Transbay Terminal (Howard at Beale)|26089    |\n",
            "|2nd at Townsend                              |25837    |\n",
            "|Steuart at Market                            |24838    |\n",
            "|Market at Sansome                            |24172    |\n",
            "|Townsend at 7th                              |23724    |\n",
            "|Market at 10th                               |20272    |\n",
            "+---------------------------------------------+---------+\n",
            "only showing top 10 rows\n",
            "\n"
          ]
        }
      ]
    },
    {
      "cell_type": "code",
      "source": [
        "#which station with highest ratio of in-degree but fewest out-degree\n",
        "#meaning: station where trips end but rarely start from\n",
        "degreeRatio=inDeg.join(outDeg,inDeg.id==outDeg.id).drop(outDeg.id)\\\n",
        "  .selectExpr(\"id\",\"double(inDegree)/double(outDegree) as degreeRatio\")\n",
        "\n",
        "degreeRatio.orderBy(desc(\"degreeRatio\")).show(10,truncate=False)"
      ],
      "metadata": {
        "colab": {
          "base_uri": "https://localhost:8080/"
        },
        "id": "q6GAuK1uSBik",
        "outputId": "f7bb37d6-598d-4ddd-bb72-3d45b040a732"
      },
      "execution_count": null,
      "outputs": [
        {
          "output_type": "stream",
          "name": "stdout",
          "text": [
            "+----------------------------------------+------------------+\n",
            "|id                                      |degreeRatio       |\n",
            "+----------------------------------------+------------------+\n",
            "|Redwood City Medical Center             |1.4533762057877813|\n",
            "|Redwood City Public Library             |1.300469483568075 |\n",
            "|San Francisco Caltrain (Townsend at 4th)|1.286951030717836 |\n",
            "|Washington at Kearny                    |1.2723671947809878|\n",
            "|MLK Library                             |1.233038348082596 |\n",
            "|SJSU 4th at San Carlos                  |1.2282051282051283|\n",
            "|San Mateo County Center                 |1.2195121951219512|\n",
            "|Broadway at Main                        |1.208955223880597 |\n",
            "|University and Emerson                  |1.2056878306878307|\n",
            "|Washington at Kearney                   |1.203804347826087 |\n",
            "+----------------------------------------+------------------+\n",
            "only showing top 10 rows\n",
            "\n"
          ]
        }
      ]
    },
    {
      "cell_type": "code",
      "source": [
        "#trips start from the statio but don't end  there often\n",
        "degreeRatio.orderBy(asc(\"degreeRatio\")).show(10,truncate=False)"
      ],
      "metadata": {
        "colab": {
          "base_uri": "https://localhost:8080/"
        },
        "id": "KXQJ78kbSrW2",
        "outputId": "63907186-9f00-4878-cbdc-f3ccfa02c84b"
      },
      "execution_count": null,
      "outputs": [
        {
          "output_type": "stream",
          "name": "stdout",
          "text": [
            "+-------------------------------+------------------+\n",
            "|id                             |degreeRatio       |\n",
            "+-------------------------------+------------------+\n",
            "|Grant Avenue at Columbus Avenue|0.564700110388814 |\n",
            "|2nd at Folsom                  |0.6056461731493099|\n",
            "|Powell at Post (Union Square)  |0.6887003841229193|\n",
            "|San Jose City Hall             |0.6928541579607188|\n",
            "|San Francisco City Hall        |0.7497243660418964|\n",
            "|Beale at Market                |0.774906104780699 |\n",
            "|Redwood City Caltrain Station  |0.8075933075933076|\n",
            "|Golden Gate at Polk            |0.8153091800599291|\n",
            "|Evelyn Park and Ride           |0.8218356328734253|\n",
            "|Ryland Park                    |0.8248425872925015|\n",
            "+-------------------------------+------------------+\n",
            "only showing top 10 rows\n",
            "\n"
          ]
        }
      ]
    },
    {
      "cell_type": "markdown",
      "source": [
        "#Example 3: Flight Data"
      ],
      "metadata": {
        "id": "jgaUQX5gTGiF"
      }
    },
    {
      "cell_type": "code",
      "source": [
        "flightDF=spark.read.json('/content/DS104_Distributed_and_parallel_computing/Slide 5-6 data/flightdata2018.json')\n"
      ],
      "metadata": {
        "id": "oAD60KERTMd1"
      },
      "execution_count": null,
      "outputs": []
    },
    {
      "cell_type": "code",
      "source": [
        "flightDF.head()"
      ],
      "metadata": {
        "colab": {
          "base_uri": "https://localhost:8080/"
        },
        "id": "TPtCDebXYbMM",
        "outputId": "856e97a8-d1ed-4586-9216-2ef2535b959f"
      },
      "execution_count": null,
      "outputs": [
        {
          "output_type": "execute_result",
          "data": {
            "text/plain": [
              "Row(arrdelay=0.0, carrier='DL', crsarrtime=1116, crsdephour=9, crsdeptime=850, crselapsedtime=146.0, depdelay=0.0, dist=946.0, dofW=1, dst='BOS', fldate='2018-01-01', id='ATL_BOS_2018-01-01_DL_104', month=1, src='ATL')"
            ]
          },
          "metadata": {},
          "execution_count": 16
        }
      ]
    },
    {
      "cell_type": "code",
      "source": [
        "flightEdges=flightDF.withColumnRenamed(\"depdelay\",\"delay\")\\\n",
        "  .select(\"id\",\"fldate\",\"month\",\"dofW\",\"carrier\",\"src\",\"dst\",\"crsdephour\",\"crsdeptime\"\\\n",
        "  ,\"delay\",\"crsarrtime\",\"arrdelay\",\"crselapsedtime\",\"dist\")"
      ],
      "metadata": {
        "id": "yGuPw1exYSrE"
      },
      "execution_count": null,
      "outputs": []
    },
    {
      "cell_type": "code",
      "source": [
        "flightEdges.show()"
      ],
      "metadata": {
        "colab": {
          "base_uri": "https://localhost:8080/"
        },
        "id": "k5jKxAhyToDO",
        "outputId": "157a9913-cdf5-4b58-ba31-a515eb80883f"
      },
      "execution_count": null,
      "outputs": [
        {
          "output_type": "stream",
          "name": "stdout",
          "text": [
            "+--------------------+----------+-----+----+-------+---+---+----------+----------+-----+----------+--------+--------------+-----+\n",
            "|                  id|    fldate|month|dofW|carrier|src|dst|crsdephour|crsdeptime|delay|crsarrtime|arrdelay|crselapsedtime| dist|\n",
            "+--------------------+----------+-----+----+-------+---+---+----------+----------+-----+----------+--------+--------------+-----+\n",
            "|ATL_BOS_2018-01-0...|2018-01-01|    1|   1|     DL|ATL|BOS|         9|       850|  0.0|      1116|     0.0|         146.0|946.0|\n",
            "|ATL_BOS_2018-01-0...|2018-01-01|    1|   1|     DL|ATL|BOS|        11|      1122|  8.0|      1349|     0.0|         147.0|946.0|\n",
            "|ATL_BOS_2018-01-0...|2018-01-01|    1|   1|     DL|ATL|BOS|        14|      1356|  9.0|      1623|     0.0|         147.0|946.0|\n",
            "|ATL_BOS_2018-01-0...|2018-01-01|    1|   1|     DL|ATL|BOS|        16|      1620|  0.0|      1851|     3.0|         151.0|946.0|\n",
            "|ATL_BOS_2018-01-0...|2018-01-01|    1|   1|     DL|ATL|BOS|        19|      1940|  6.0|      2210|     0.0|         150.0|946.0|\n",
            "|ATL_BOS_2018-01-0...|2018-01-01|    1|   1|     DL|ATL|BOS|        12|      1248|  0.0|      1513|     0.0|         145.0|946.0|\n",
            "|ATL_BOS_2018-01-0...|2018-01-01|    1|   1|     DL|ATL|BOS|        22|      2215|  0.0|        39|     0.0|         144.0|946.0|\n",
            "|ATL_BOS_2018-01-0...|2018-01-01|    1|   1|     DL|ATL|BOS|        15|      1500| 21.0|      1734|    33.0|         154.0|946.0|\n",
            "|ATL_BOS_2018-01-0...|2018-01-01|    1|   1|     WN|ATL|BOS|        15|      1500|198.0|      1725|   208.0|         145.0|946.0|\n",
            "|ATL_BOS_2018-01-0...|2018-01-01|    1|   1|     WN|ATL|BOS|        21|      2055| 14.0|      2330|     0.0|         155.0|946.0|\n",
            "|ATL_BOS_2018-01-0...|2018-01-01|    1|   1|     WN|ATL|BOS|        10|      1015|215.0|      1250|   191.0|         155.0|946.0|\n",
            "|ATL_CLT_2018-01-0...|2018-01-01|    1|   1|     AA|ATL|CLT|        11|      1114|  0.0|      1238|     0.0|          84.0|226.0|\n",
            "|ATL_CLT_2018-01-0...|2018-01-01|    1|   1|     AA|ATL|CLT|         8|       845|  0.0|      1011|     0.0|          86.0|226.0|\n",
            "|ATL_CLT_2018-01-0...|2018-01-01|    1|   1|     AA|ATL|CLT|        15|      1548|  0.0|      1710|     0.0|          82.0|226.0|\n",
            "|ATL_CLT_2018-01-0...|2018-01-01|    1|   1|     AA|ATL|CLT|         7|       705|  0.0|       821|     0.0|          76.0|226.0|\n",
            "|ATL_CLT_2018-01-0...|2018-01-01|    1|   1|     AA|ATL|CLT|        12|      1226|  0.0|      1347|     0.0|          81.0|226.0|\n",
            "|ATL_CLT_2018-01-0...|2018-01-01|    1|   1|     AA|ATL|CLT|        22|      2205|  0.0|      2319|     1.0|          74.0|226.0|\n",
            "|ATL_CLT_2018-01-0...|2018-01-01|    1|   1|     DL|ATL|CLT|        22|      2210| 11.0|      2324|     0.0|          74.0|226.0|\n",
            "|ATL_CLT_2018-01-0...|2018-01-01|    1|   1|     DL|ATL|CLT|        15|      1543|  1.0|      1659|     0.0|          76.0|226.0|\n",
            "|ATL_CLT_2018-01-0...|2018-01-01|    1|   1|     DL|ATL|CLT|        10|      1008|  0.0|      1124|     0.0|          76.0|226.0|\n",
            "+--------------------+----------+-----+----+-------+---+---+----------+----------+-----+----------+--------+--------------+-----+\n",
            "only showing top 20 rows\n",
            "\n"
          ]
        }
      ]
    },
    {
      "cell_type": "code",
      "source": [
        "flightEdges.printSchema()"
      ],
      "metadata": {
        "colab": {
          "base_uri": "https://localhost:8080/"
        },
        "id": "3qiz-09jTvW1",
        "outputId": "20d0b5cd-572f-4869-98fa-77b2f6729501"
      },
      "execution_count": null,
      "outputs": [
        {
          "output_type": "stream",
          "name": "stdout",
          "text": [
            "root\n",
            " |-- id: string (nullable = true)\n",
            " |-- fldate: string (nullable = true)\n",
            " |-- month: long (nullable = true)\n",
            " |-- dofW: long (nullable = true)\n",
            " |-- carrier: string (nullable = true)\n",
            " |-- src: string (nullable = true)\n",
            " |-- dst: string (nullable = true)\n",
            " |-- crsdephour: long (nullable = true)\n",
            " |-- crsdeptime: long (nullable = true)\n",
            " |-- delay: double (nullable = true)\n",
            " |-- crsarrtime: long (nullable = true)\n",
            " |-- arrdelay: double (nullable = true)\n",
            " |-- crselapsedtime: double (nullable = true)\n",
            " |-- dist: double (nullable = true)\n",
            "\n"
          ]
        }
      ]
    },
    {
      "cell_type": "code",
      "source": [
        "flightEdges.count()"
      ],
      "metadata": {
        "colab": {
          "base_uri": "https://localhost:8080/"
        },
        "id": "TWagjz3BUPlN",
        "outputId": "15c72b71-3813-477b-ddfd-47ff30cb971a"
      },
      "execution_count": null,
      "outputs": [
        {
          "output_type": "execute_result",
          "data": {
            "text/plain": [
              "282628"
            ]
          },
          "metadata": {},
          "execution_count": 20
        }
      ]
    },
    {
      "cell_type": "code",
      "source": [
        "airportVertices=spark.read.json(\"/content/DS104_Distributed_and_parallel_computing/Slide 5-6 data/airports.json\")"
      ],
      "metadata": {
        "id": "fh7ueF-MUSuV"
      },
      "execution_count": null,
      "outputs": []
    },
    {
      "cell_type": "code",
      "source": [
        "airportVertices.show()"
      ],
      "metadata": {
        "colab": {
          "base_uri": "https://localhost:8080/"
        },
        "id": "m5v5KhMcUbpF",
        "outputId": "3dd2b399-b434-4255-f7fe-4a4ef920eb51"
      },
      "execution_count": null,
      "outputs": [
        {
          "output_type": "stream",
          "name": "stdout",
          "text": [
            "+-------------+-------+-----+---+\n",
            "|         City|Country|State| id|\n",
            "+-------------+-------+-----+---+\n",
            "|      Chicago|    USA|   IL|ORD|\n",
            "|     New York|    USA|   NY|LGA|\n",
            "|       Boston|    USA|   MA|BOS|\n",
            "|      Houston|    USA|   TX|IAH|\n",
            "|       Newark|    USA|   NJ|EWR|\n",
            "|       Denver|    USA|   CO|DEN|\n",
            "|        Miami|    USA|   FL|MIA|\n",
            "|San Francisco|    USA|   CA|SFO|\n",
            "|      Atlanta|    USA|   GA|ATL|\n",
            "|       Dallas|    USA|   TX|DFW|\n",
            "|    Charlotte|    USA|   NC|CLT|\n",
            "|  Los Angeles|    USA|   CA|LAX|\n",
            "|      Seattle|    USA|   WA|SEA|\n",
            "+-------------+-------+-----+---+\n",
            "\n"
          ]
        }
      ]
    },
    {
      "cell_type": "markdown",
      "source": [
        "##Create graphframe"
      ],
      "metadata": {
        "id": "w-if73snUe7e"
      }
    },
    {
      "cell_type": "code",
      "source": [
        "from graphframes import *\n",
        "flightGraph=GraphFrame(airportVertices,flightEdges)\n",
        "print(flightGraph)\n"
      ],
      "metadata": {
        "colab": {
          "base_uri": "https://localhost:8080/"
        },
        "id": "Abi2C0wyUg4F",
        "outputId": "3fca06a7-c75f-4a92-fd53-c46d5caad4a4"
      },
      "execution_count": null,
      "outputs": [
        {
          "output_type": "stream",
          "name": "stdout",
          "text": [
            "GraphFrame(v:[id: string, City: string ... 2 more fields], e:[src: string, dst: string ... 12 more fields])\n"
          ]
        }
      ]
    },
    {
      "cell_type": "markdown",
      "source": [
        "##Querying the GraphFrame"
      ],
      "metadata": {
        "id": "A1Yac9ksTL9f"
      }
    },
    {
      "cell_type": "code",
      "source": [
        "#show vertices amd edges\n",
        "flightGraph.vertices.show(5)\n",
        "flightGraph.edges.show(5)\n"
      ],
      "metadata": {
        "colab": {
          "base_uri": "https://localhost:8080/"
        },
        "id": "Ip-mYxjWVLP0",
        "outputId": "9fe7a8fc-a02f-4ccc-f739-9de745c3da37"
      },
      "execution_count": null,
      "outputs": [
        {
          "output_type": "stream",
          "name": "stdout",
          "text": [
            "+--------+-------+-----+---+\n",
            "|    City|Country|State| id|\n",
            "+--------+-------+-----+---+\n",
            "| Chicago|    USA|   IL|ORD|\n",
            "|New York|    USA|   NY|LGA|\n",
            "|  Boston|    USA|   MA|BOS|\n",
            "| Houston|    USA|   TX|IAH|\n",
            "|  Newark|    USA|   NJ|EWR|\n",
            "+--------+-------+-----+---+\n",
            "only showing top 5 rows\n",
            "\n",
            "+--------------------+----------+-----+----+-------+---+---+----------+----------+-----+----------+--------+--------------+-----+\n",
            "|                  id|    fldate|month|dofW|carrier|src|dst|crsdephour|crsdeptime|delay|crsarrtime|arrdelay|crselapsedtime| dist|\n",
            "+--------------------+----------+-----+----+-------+---+---+----------+----------+-----+----------+--------+--------------+-----+\n",
            "|ATL_BOS_2018-01-0...|2018-01-01|    1|   1|     DL|ATL|BOS|         9|       850|  0.0|      1116|     0.0|         146.0|946.0|\n",
            "|ATL_BOS_2018-01-0...|2018-01-01|    1|   1|     DL|ATL|BOS|        11|      1122|  8.0|      1349|     0.0|         147.0|946.0|\n",
            "|ATL_BOS_2018-01-0...|2018-01-01|    1|   1|     DL|ATL|BOS|        14|      1356|  9.0|      1623|     0.0|         147.0|946.0|\n",
            "|ATL_BOS_2018-01-0...|2018-01-01|    1|   1|     DL|ATL|BOS|        16|      1620|  0.0|      1851|     3.0|         151.0|946.0|\n",
            "|ATL_BOS_2018-01-0...|2018-01-01|    1|   1|     DL|ATL|BOS|        19|      1940|  6.0|      2210|     0.0|         150.0|946.0|\n",
            "+--------------------+----------+-----+----+-------+---+---+----------+----------+-----+----------+--------+--------------+-----+\n",
            "only showing top 5 rows\n",
            "\n"
          ]
        }
      ]
    },
    {
      "cell_type": "code",
      "source": [
        "#which flight routes have longest distance?\n",
        "\n",
        "from pyspark.sql.functions import *\n",
        "flightGraph.edges.groupBy(\"src\",\"dst\").max(\"dist\").sort(desc(\"max(dist)\")).show(5)"
      ],
      "metadata": {
        "colab": {
          "base_uri": "https://localhost:8080/"
        },
        "id": "cfWS9rsFVUVM",
        "outputId": "eda3f0ef-2973-4958-9aa8-ab0f672bc715"
      },
      "execution_count": null,
      "outputs": [
        {
          "output_type": "stream",
          "name": "stdout",
          "text": [
            "+---+---+---------+\n",
            "|src|dst|max(dist)|\n",
            "+---+---+---------+\n",
            "|MIA|SEA|   2724.0|\n",
            "|SEA|MIA|   2724.0|\n",
            "|BOS|SFO|   2704.0|\n",
            "|SFO|BOS|   2704.0|\n",
            "|LAX|BOS|   2611.0|\n",
            "+---+---+---------+\n",
            "only showing top 5 rows\n",
            "\n"
          ]
        }
      ]
    },
    {
      "cell_type": "code",
      "source": [
        "#count of departure delays by Origin and destination\n",
        "flightGraph.edges.filter(\"delay > 40\").groupBy(\"src\",\"dst\")\\\n",
        "  .agg(count(\"delay\").alias(\"flightcount\")).sort(desc(\"flightcount\")).show(5)"
      ],
      "metadata": {
        "colab": {
          "base_uri": "https://localhost:8080/"
        },
        "id": "eioo5xiEVsTX",
        "outputId": "9c329ed3-3213-4fa1-d163-4ffaa40227d2"
      },
      "execution_count": null,
      "outputs": [
        {
          "output_type": "stream",
          "name": "stdout",
          "text": [
            "+---+---+-----------+\n",
            "|src|dst|flightcount|\n",
            "+---+---+-----------+\n",
            "|ORD|LGA|        588|\n",
            "|LAX|SFO|        578|\n",
            "|ATL|EWR|        561|\n",
            "|LGA|ORD|        532|\n",
            "|ORD|SFO|        470|\n",
            "+---+---+-----------+\n",
            "only showing top 5 rows\n",
            "\n"
          ]
        }
      ]
    },
    {
      "cell_type": "code",
      "source": [
        "#what are the longest delay for flights that are greater than 100 milesin distance?\n",
        "\n",
        "flightGraph.edges.filter(\"dist > 1500\").orderBy(desc(\"delay\")).show(5)"
      ],
      "metadata": {
        "colab": {
          "base_uri": "https://localhost:8080/"
        },
        "id": "j4uLUQU4Xdqz",
        "outputId": "39ec8cb9-0198-437c-8d0b-f9f01245dc7c"
      },
      "execution_count": null,
      "outputs": [
        {
          "output_type": "stream",
          "name": "stdout",
          "text": [
            "+--------------------+----------+-----+----+-------+---+---+----------+----------+------+----------+--------+--------------+------+\n",
            "|                  id|    fldate|month|dofW|carrier|src|dst|crsdephour|crsdeptime| delay|crsarrtime|arrdelay|crselapsedtime|  dist|\n",
            "+--------------------+----------+-----+----+-------+---+---+----------+----------+------+----------+--------+--------------+------+\n",
            "|BOS_DFW_2018-06-2...|2018-06-28|    6|   4|     AA|BOS|DFW|        10|      1012|1345.0|      1326|  1332.0|         254.0|1562.0|\n",
            "|LAX_MIA_2018-07-0...|2018-07-09|    7|   1|     AA|LAX|MIA|         9|       945|1283.0|      1811|  1373.0|         326.0|2342.0|\n",
            "|BOS_LAX_2018-03-2...|2018-03-28|    3|   3|     AA|BOS|LAX|        10|      1040|1242.0|      1427|  1234.0|         407.0|2611.0|\n",
            "|DEN_EWR_2018-07-2...|2018-07-20|    7|   5|     UA|DEN|EWR|        11|      1117|1125.0|      1713|  1106.0|         236.0|1605.0|\n",
            "|SEA_DFW_2018-07-1...|2018-07-10|    7|   2|     AA|SEA|DFW|        15|      1528|1103.0|      2126|  1107.0|         238.0|1660.0|\n",
            "+--------------------+----------+-----+----+-------+---+---+----------+----------+------+----------+--------+--------------+------+\n",
            "only showing top 5 rows\n",
            "\n"
          ]
        }
      ]
    },
    {
      "cell_type": "code",
      "source": [
        "#what destination states tend to have significant delays departing from SEA?\n",
        "#state with longest cummulative delays (with individual delays > 100 minutes) (origin: Seattle)\n",
        "\n",
        "flightGraph.edges.filter(\"src = 'SEA' and delay > 100\").show(10)"
      ],
      "metadata": {
        "colab": {
          "base_uri": "https://localhost:8080/"
        },
        "id": "859R2NOCqGo5",
        "outputId": "4465d84c-2748-4f84-846a-2471d1951fcb"
      },
      "execution_count": null,
      "outputs": [
        {
          "output_type": "stream",
          "name": "stdout",
          "text": [
            "+--------------------+----------+-----+----+-------+---+---+----------+----------+-----+----------+--------+--------------+------+\n",
            "|                  id|    fldate|month|dofW|carrier|src|dst|crsdephour|crsdeptime|delay|crsarrtime|arrdelay|crselapsedtime|  dist|\n",
            "+--------------------+----------+-----+----+-------+---+---+----------+----------+-----+----------+--------+--------------+------+\n",
            "|SEA_SFO_2018-01-0...|2018-01-01|    1|   1|     UA|SEA|SFO|         5|       510|281.0|       723|   281.0|         133.0| 679.0|\n",
            "|SEA_DEN_2018-01-0...|2018-01-02|    1|   2|     WN|SEA|DEN|        13|      1335|130.0|      1715|   130.0|         160.0|1024.0|\n",
            "|SEA_DEN_2018-01-0...|2018-01-02|    1|   2|     WN|SEA|DEN|         8|       840|369.0|      1220|   347.0|         160.0|1024.0|\n",
            "|SEA_LAX_2018-01-0...|2018-01-02|    1|   2|     DL|SEA|LAX|        19|      1942|190.0|      2220|   186.0|         158.0| 954.0|\n",
            "|SEA_MIA_2018-01-0...|2018-01-02|    1|   2|     AA|SEA|MIA|        13|      1307|144.0|      2150|   142.0|         343.0|2724.0|\n",
            "|SEA_ORD_2018-01-0...|2018-01-02|    1|   2|     AA|SEA|ORD|        10|      1011|169.0|      1611|   172.0|         240.0|1721.0|\n",
            "|SEA_LAX_2018-01-0...|2018-01-03|    1|   3|     DL|SEA|LAX|         6|       600|396.0|       846|   389.0|         166.0| 954.0|\n",
            "|SEA_MIA_2018-01-0...|2018-01-04|    1|   4|     AA|SEA|MIA|        13|      1307|161.0|      2150|   135.0|         343.0|2724.0|\n",
            "|SEA_CLT_2018-01-0...|2018-01-05|    1|   5|     AA|SEA|CLT|        22|      2215|108.0|       607|    95.0|         292.0|2279.0|\n",
            "|SEA_MIA_2018-01-0...|2018-01-05|    1|   5|     AA|SEA|MIA|        22|      2230|105.0|       712|    82.0|         342.0|2724.0|\n",
            "+--------------------+----------+-----+----+-------+---+---+----------+----------+-----+----------+--------+--------------+------+\n",
            "only showing top 10 rows\n",
            "\n"
          ]
        }
      ]
    },
    {
      "cell_type": "code",
      "source": [
        "#what is the average delay for delay flights departing from Boston?\n",
        "flightGraph.edges.filter(\"src = 'BOS' and delay > 1\")\\\n",
        ".groupBy(\"src\",\"dst\").avg(\"delay\").sort(desc(\"avg(delay)\")).show(5)"
      ],
      "metadata": {
        "colab": {
          "base_uri": "https://localhost:8080/"
        },
        "id": "PWUmzdgYZjUT",
        "outputId": "5badb251-1300-4b2f-8536-eab8d7b7444d"
      },
      "execution_count": null,
      "outputs": [
        {
          "output_type": "stream",
          "name": "stdout",
          "text": [
            "+---+---+------------------+\n",
            "|src|dst|        avg(delay)|\n",
            "+---+---+------------------+\n",
            "|BOS|EWR|57.078947368421055|\n",
            "|BOS|LGA| 54.00142857142857|\n",
            "|BOS|ORD|          47.97375|\n",
            "|BOS|SEA| 45.56565656565657|\n",
            "|BOS|DFW| 43.30031948881789|\n",
            "+---+---+------------------+\n",
            "only showing top 5 rows\n",
            "\n"
          ]
        }
      ]
    },
    {
      "cell_type": "code",
      "source": [
        "#which airport has the most incoming flights? the most outgoing?\n",
        "flightGraph.inDegrees.orderBy(desc(\"inDegree\")).show(5)\n",
        "flightGraph.outDegrees.orderBy(desc(\"outDegree\")).show(5)"
      ],
      "metadata": {
        "colab": {
          "base_uri": "https://localhost:8080/"
        },
        "id": "B0MnCg_iaAgz",
        "outputId": "5e0f5bc6-8f72-4b44-8f53-e47b7d834c80"
      },
      "execution_count": null,
      "outputs": [
        {
          "output_type": "stream",
          "name": "stdout",
          "text": [
            "+---+--------+\n",
            "| id|inDegree|\n",
            "+---+--------+\n",
            "|ORD|   32314|\n",
            "|ATL|   30217|\n",
            "|LAX|   26869|\n",
            "|DFW|   24947|\n",
            "|DEN|   23202|\n",
            "+---+--------+\n",
            "only showing top 5 rows\n",
            "\n",
            "+---+---------+\n",
            "| id|outDegree|\n",
            "+---+---------+\n",
            "|ORD|    32072|\n",
            "|ATL|    30165|\n",
            "|LAX|    26864|\n",
            "|DFW|    24972|\n",
            "|DEN|    23410|\n",
            "+---+---------+\n",
            "only showing top 5 rows\n",
            "\n"
          ]
        }
      ]
    },
    {
      "cell_type": "code",
      "source": [
        "#what are the highest degree vertices (most incoming and outgoing flights)\n",
        "flightGraph.degrees.orderBy(desc(\"degree\")).show(3)"
      ],
      "metadata": {
        "colab": {
          "base_uri": "https://localhost:8080/"
        },
        "id": "2vJoXOP3aRn6",
        "outputId": "996817e7-b741-4c70-9d70-17ee6778493e"
      },
      "execution_count": null,
      "outputs": [
        {
          "output_type": "stream",
          "name": "stdout",
          "text": [
            "+---+------+\n",
            "| id|degree|\n",
            "+---+------+\n",
            "|ORD| 64386|\n",
            "|ATL| 60382|\n",
            "|LAX| 53733|\n",
            "+---+------+\n",
            "only showing top 3 rows\n",
            "\n"
          ]
        }
      ]
    },
    {
      "cell_type": "code",
      "source": [
        "#what are the 3 most frequent flight in the dataset?\n",
        "\n",
        "flightGraph.edges.groupBy(\"src\",\"dst\").count().orderBy(desc(\"count\")).show(3)"
      ],
      "metadata": {
        "colab": {
          "base_uri": "https://localhost:8080/"
        },
        "id": "_JyORuVyap01",
        "outputId": "55f5d2e4-d7e0-409e-dc06-aa86cf23f29e"
      },
      "execution_count": null,
      "outputs": [
        {
          "output_type": "stream",
          "name": "stdout",
          "text": [
            "+---+---+-----+\n",
            "|src|dst|count|\n",
            "+---+---+-----+\n",
            "|LGA|ORD| 4442|\n",
            "|ORD|LGA| 4426|\n",
            "|LAX|SFO| 4406|\n",
            "+---+---+-----+\n",
            "only showing top 3 rows\n",
            "\n"
          ]
        }
      ]
    },
    {
      "cell_type": "code",
      "source": [
        "#what delyas might we blame on SFO?\n",
        "#With SFO as the connecting city (b), we are looking for all flights \n",
        "#[ab] from any origin city (a) that will connect to SFO (b) \n",
        "#prior to flying [bc] to any destination city (c). \n",
        "#We are filtering it such that the delay \n",
        "#for either flight ([ab] or [bc]) is greater than 500 minutes \n",
        "#and the second flight (bc) occurred within \n",
        "#approximately a day of the first flight (ab).\n",
        "motif= flightGraph.find(\"(a)-[ab]->(b);(b)-[bc]->(c)\")\\\n",
        "  .filter(\"(b.id ='SFO') and (ab.delay > 500 or bc.delay > 500) \") \\\n",
        "  .selectExpr(\"a.id as a\",\"ab.delay as ab\",\"b.id as b\",\"bc.delay as bc\",\"c.id as c\")\n",
        "motif.show(n=5)"
      ],
      "metadata": {
        "colab": {
          "base_uri": "https://localhost:8080/"
        },
        "id": "cymRCufQrbc5",
        "outputId": "f1110ffd-b4f3-40a6-9f51-21508e48656b"
      },
      "execution_count": null,
      "outputs": [
        {
          "output_type": "stream",
          "name": "stdout",
          "text": [
            "+---+----+---+-----+---+\n",
            "|  a|  ab|  b|   bc|  c|\n",
            "+---+----+---+-----+---+\n",
            "|ATL|51.0|SFO|545.0|ORD|\n",
            "|ATL|51.0|SFO|585.0|BOS|\n",
            "|ATL|51.0|SFO|631.0|BOS|\n",
            "|ATL|51.0|SFO|552.0|BOS|\n",
            "|ATL|51.0|SFO|568.0|ORD|\n",
            "+---+----+---+-----+---+\n",
            "only showing top 5 rows\n",
            "\n"
          ]
        }
      ]
    },
    {
      "cell_type": "code",
      "source": [
        "#determining airport ranking of importance using PageRank\n",
        "\n",
        "ranks=flightGraph.pageRank(resetProbability = 0.15,maxIter=5)\n",
        "\n",
        "ranks.vertices.orderBy(ranks.vertices.pagerank.desc()).show(20)"
      ],
      "metadata": {
        "colab": {
          "base_uri": "https://localhost:8080/"
        },
        "id": "cNkvVXXU1bqo",
        "outputId": "aee4c0ab-7e6a-4916-a496-e7c5cf028894"
      },
      "execution_count": null,
      "outputs": [
        {
          "output_type": "stream",
          "name": "stdout",
          "text": [
            "+-------------+-------+-----+---+------------------+\n",
            "|         City|Country|State| id|          pagerank|\n",
            "+-------------+-------+-----+---+------------------+\n",
            "|      Chicago|    USA|   IL|ORD|1.4212550221589475|\n",
            "|      Atlanta|    USA|   GA|ATL| 1.339101482426853|\n",
            "|  Los Angeles|    USA|   CA|LAX| 1.200976131283591|\n",
            "|       Dallas|    USA|   TX|DFW|1.1270531678567586|\n",
            "|       Denver|    USA|   CO|DEN|1.0591136061016508|\n",
            "|San Francisco|    USA|   CA|SFO|1.0246282632093013|\n",
            "|     New York|    USA|   NY|LGA|0.9447562478927347|\n",
            "|       Boston|    USA|   MA|BOS|0.8775066074875163|\n",
            "|       Newark|    USA|   NJ|EWR|0.8731036205114817|\n",
            "|        Miami|    USA|   FL|MIA|0.8507878300790072|\n",
            "|      Houston|    USA|   TX|IAH|0.8350718288420121|\n",
            "|    Charlotte|    USA|   NC|CLT|0.8049000935422239|\n",
            "|      Seattle|    USA|   WA|SEA|0.6417460986079204|\n",
            "+-------------+-------+-----+---+------------------+\n",
            "\n"
          ]
        }
      ]
    },
    {
      "cell_type": "code",
      "source": [
        "flightGraph.vertices.select(\"id\").show()"
      ],
      "metadata": {
        "colab": {
          "base_uri": "https://localhost:8080/"
        },
        "id": "Pe60avzB2uSL",
        "outputId": "aff3e0ed-2fd2-43d3-e929-1fe672783466"
      },
      "execution_count": null,
      "outputs": [
        {
          "output_type": "stream",
          "name": "stdout",
          "text": [
            "+---+\n",
            "| id|\n",
            "+---+\n",
            "|ORD|\n",
            "|LGA|\n",
            "|BOS|\n",
            "|IAH|\n",
            "|EWR|\n",
            "|DEN|\n",
            "|MIA|\n",
            "|SFO|\n",
            "|ATL|\n",
            "|DFW|\n",
            "|CLT|\n",
            "|LAX|\n",
            "|SEA|\n",
            "+---+\n",
            "\n"
          ]
        }
      ]
    },
    {
      "cell_type": "code",
      "source": [
        "filteredPaths = flightGraph.bfs( \\\n",
        "fromExpr = \"id = 'SFO'\",\\\n",
        "toExpr = \"id = 'LGA'\", \\\n",
        "maxPathLength = 3)\n",
        "filteredPaths.show(5)"
      ],
      "metadata": {
        "colab": {
          "base_uri": "https://localhost:8080/"
        },
        "id": "SkABLAI42XvS",
        "outputId": "121fb669-27b8-4e63-9692-1a3524a9cf20"
      },
      "execution_count": null,
      "outputs": [
        {
          "output_type": "stream",
          "name": "stdout",
          "text": [
            "+--------------------+--------------------+--------------------+--------------------+--------------------+\n",
            "|                from|                  e0|                  v1|                  e1|                  to|\n",
            "+--------------------+--------------------+--------------------+--------------------+--------------------+\n",
            "|[San Francisco, U...|[SFO_IAH_2018-01-...|[Houston, USA, TX...|[IAH_LGA_2018-01-...|[New York, USA, N...|\n",
            "|[San Francisco, U...|[SFO_IAH_2018-01-...|[Houston, USA, TX...|[IAH_LGA_2018-01-...|[New York, USA, N...|\n",
            "|[San Francisco, U...|[SFO_IAH_2018-01-...|[Houston, USA, TX...|[IAH_LGA_2018-01-...|[New York, USA, N...|\n",
            "|[San Francisco, U...|[SFO_IAH_2018-01-...|[Houston, USA, TX...|[IAH_LGA_2018-01-...|[New York, USA, N...|\n",
            "|[San Francisco, U...|[SFO_IAH_2018-01-...|[Houston, USA, TX...|[IAH_LGA_2018-01-...|[New York, USA, N...|\n",
            "+--------------------+--------------------+--------------------+--------------------+--------------------+\n",
            "only showing top 5 rows\n",
            "\n"
          ]
        }
      ]
    },
    {
      "cell_type": "code",
      "source": [
        "filteredPaths = flightGraph.bfs( \\\n",
        "fromExpr = \"id = 'SFO'\",\\\n",
        "toExpr = \"id = 'LGA'\", \\\n",
        "maxPathLength = 2)\n",
        "filteredPaths.show(5)"
      ],
      "metadata": {
        "colab": {
          "base_uri": "https://localhost:8080/"
        },
        "id": "bVfItwSB3IRZ",
        "outputId": "a1fa282b-0ad5-4676-d747-41fb3730126a"
      },
      "execution_count": null,
      "outputs": [
        {
          "output_type": "stream",
          "name": "stdout",
          "text": [
            "+----+-------+-----+---+\n",
            "|City|Country|State| id|\n",
            "+----+-------+-----+---+\n",
            "+----+-------+-----+---+\n",
            "\n"
          ]
        }
      ]
    }
  ]
}