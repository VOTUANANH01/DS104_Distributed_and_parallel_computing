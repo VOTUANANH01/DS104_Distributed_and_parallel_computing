{
  "nbformat": 4,
  "nbformat_minor": 0,
  "metadata": {
    "colab": {
      "provenance": [],
      "collapsed_sections": [
        "ZSXfDVAeA1ul",
        "RoIcavIDCf6U",
        "pyDp2LsaD_Jk",
        "Dq9B-Ji9Hlzk",
        "9j6QnGVdHlry",
        "0cup9_LqI_zq",
        "TN1DjwSR5QJ3"
      ],
      "authorship_tag": "ABX9TyP8vM1dXnn9GQC55wXx/7OS",
      "include_colab_link": true
    },
    "kernelspec": {
      "name": "python3",
      "display_name": "Python 3"
    },
    "language_info": {
      "name": "python"
    }
  },
  "cells": [
    {
      "cell_type": "markdown",
      "metadata": {
        "id": "view-in-github",
        "colab_type": "text"
      },
      "source": [
        "<a href=\"https://colab.research.google.com/github/VOTUANANH01/DS104_Distributed_and_parallel_computing/blob/main/GraphFrame_Ex1.ipynb\" target=\"_parent\"><img src=\"https://colab.research.google.com/assets/colab-badge.svg\" alt=\"Open In Colab\"/></a>"
      ]
    },
    {
      "cell_type": "code",
      "source": [
        "!pip install pyspark==3.0.1"
      ],
      "metadata": {
        "colab": {
          "base_uri": "https://localhost:8080/"
        },
        "id": "GsOeENFivbR2",
        "outputId": "321dd8b2-db1e-421f-976b-ebfc03f91aaa"
      },
      "execution_count": null,
      "outputs": [
        {
          "output_type": "stream",
          "name": "stdout",
          "text": [
            "Looking in indexes: https://pypi.org/simple, https://us-python.pkg.dev/colab-wheels/public/simple/\n",
            "Collecting pyspark==3.0.1\n",
            "  Downloading pyspark-3.0.1.tar.gz (204.2 MB)\n",
            "\u001b[K     |████████████████████████████████| 204.2 MB 34 kB/s \n",
            "\u001b[?25hCollecting py4j==0.10.9\n",
            "  Downloading py4j-0.10.9-py2.py3-none-any.whl (198 kB)\n",
            "\u001b[K     |████████████████████████████████| 198 kB 49.6 MB/s \n",
            "\u001b[?25hBuilding wheels for collected packages: pyspark\n",
            "  Building wheel for pyspark (setup.py) ... \u001b[?25l\u001b[?25hdone\n",
            "  Created wheel for pyspark: filename=pyspark-3.0.1-py2.py3-none-any.whl size=204612243 sha256=50235245418225df9bbcee238b31d8fd1340f79a636acd949909d8b2e9c4a2b8\n",
            "  Stored in directory: /root/.cache/pip/wheels/5e/34/fa/b37b5cef503fc5148b478b2495043ba61b079120b7ff379f9b\n",
            "Successfully built pyspark\n",
            "Installing collected packages: py4j, pyspark\n",
            "Successfully installed py4j-0.10.9 pyspark-3.0.1\n"
          ]
        }
      ]
    },
    {
      "cell_type": "code",
      "execution_count": null,
      "metadata": {
        "colab": {
          "base_uri": "https://localhost:8080/"
        },
        "id": "K66AKqBMttTD",
        "outputId": "f642c4f6-3b2a-455d-8a9d-ccecf5f8a327"
      },
      "outputs": [
        {
          "output_type": "stream",
          "name": "stdout",
          "text": [
            "/usr/local/lib/python3.7/dist-packages/pyspark/jars\n",
            "--2022-09-26 14:07:25--  https://repos.spark-packages.org/graphframes/graphframes/0.8.1-spark3.0-s_2.12/graphframes-0.8.1-spark3.0-s_2.12.jar\n",
            "Resolving repos.spark-packages.org (repos.spark-packages.org)... 18.165.83.55, 18.165.83.27, 18.165.83.25, ...\n",
            "Connecting to repos.spark-packages.org (repos.spark-packages.org)|18.165.83.55|:443... connected.\n",
            "HTTP request sent, awaiting response... 200 OK\n",
            "Length: 248133 (242K) [binary/octet-stream]\n",
            "Saving to: ‘graphframes-0.8.1-spark3.0-s_2.12.jar’\n",
            "\n",
            "\r          graphfram   0%[                    ]       0  --.-KB/s               \rgraphframes-0.8.1-s 100%[===================>] 242.32K  --.-KB/s    in 0.01s   \n",
            "\n",
            "2022-09-26 14:07:26 (20.7 MB/s) - ‘graphframes-0.8.1-spark3.0-s_2.12.jar’ saved [248133/248133]\n",
            "\n"
          ]
        }
      ],
      "source": [
        "%cd /usr/local/lib/python3.7/dist-packages/pyspark/jars\n",
        "!wget https://repos.spark-packages.org/graphframes/graphframes/0.8.1-spark3.0-s_2.12/graphframes-0.8.1-spark3.0-s_2.12.jar\n"
      ]
    },
    {
      "cell_type": "code",
      "source": [
        "%cd '/content/'\n",
        "!wget https://repos.spark-packages.org/graphframes/graphframes/0.8.1-spark3.0-s_2.12/graphframes-0.8.1-spark3.0-s_2.12.jar"
      ],
      "metadata": {
        "colab": {
          "base_uri": "https://localhost:8080/"
        },
        "id": "_IThDjOBv516",
        "outputId": "cb168133-300b-42ca-b103-dddc305a863f"
      },
      "execution_count": null,
      "outputs": [
        {
          "output_type": "stream",
          "name": "stdout",
          "text": [
            "/content\n",
            "--2022-09-26 14:07:26--  https://repos.spark-packages.org/graphframes/graphframes/0.8.1-spark3.0-s_2.12/graphframes-0.8.1-spark3.0-s_2.12.jar\n",
            "Resolving repos.spark-packages.org (repos.spark-packages.org)... 18.165.83.55, 18.165.83.27, 18.165.83.25, ...\n",
            "Connecting to repos.spark-packages.org (repos.spark-packages.org)|18.165.83.55|:443... connected.\n",
            "HTTP request sent, awaiting response... 200 OK\n",
            "Length: 248133 (242K) [binary/octet-stream]\n",
            "Saving to: ‘graphframes-0.8.1-spark3.0-s_2.12.jar’\n",
            "\n",
            "graphframes-0.8.1-s 100%[===================>] 242.32K  --.-KB/s    in 0.01s   \n",
            "\n",
            "2022-09-26 14:07:26 (21.7 MB/s) - ‘graphframes-0.8.1-spark3.0-s_2.12.jar’ saved [248133/248133]\n",
            "\n"
          ]
        }
      ]
    },
    {
      "cell_type": "code",
      "source": [
        "!jar xf /content/graphframes-0.8.1-spark3.0-s_2.12.jar"
      ],
      "metadata": {
        "id": "UpdMaa8S1SgI"
      },
      "execution_count": null,
      "outputs": []
    },
    {
      "cell_type": "code",
      "source": [
        "import pyspark\n",
        "from pyspark.sql import SparkSession\n",
        "\n",
        "spark=SparkSession.builder.getOrCreate()\n"
      ],
      "metadata": {
        "id": "AY_AjgDtxVFZ"
      },
      "execution_count": null,
      "outputs": []
    },
    {
      "cell_type": "code",
      "source": [
        "vertices=spark.createDataFrame(\n",
        "    [\n",
        "          (\"a\", \"Alice\", 34),\n",
        "  (\"b\", \"Bob\", 36),\n",
        "  (\"c\", \"Charlie\", 30),\n",
        "  (\"d\", \"David\", 29),\n",
        "  (\"e\", \"Esther\", 32),\n",
        "  (\"f\", \"Fanny\", 36),\n",
        "  (\"g\", \"Gabby\", 60)\n",
        "    ],[\"id\",\"name\",\"age\"]\n",
        ")"
      ],
      "metadata": {
        "id": "Xw9N5AwPzO7p"
      },
      "execution_count": null,
      "outputs": []
    },
    {
      "cell_type": "code",
      "source": [
        "edges=spark.createDataFrame(\n",
        "    [\n",
        "        (\"a\", \"b\", \"friend\"),\n",
        "     (\"b\",\"a\",\"friend\"),\n",
        "  # (\"b\", \"c\", \"follow\"),\n",
        "  (\"c\", \"b\", \"follow\"),\n",
        "  (\"f\", \"c\", \"follow\"),\n",
        "  (\"e\", \"f\", \"follow\"),\n",
        "  (\"e\", \"d\", \"friend\"),\n",
        "  (\"d\",\"e\",\"friend\"),\n",
        "  (\"d\", \"a\", \"friend\"),\n",
        "  (\"a\", \"d\", \"friend\"),\n",
        "  (\"a\", \"e\", \"friend\"),\n",
        "  (\"e\", \"a\", \"friend\")\n",
        "    ],[\"src\", \"dst\", \"relationship\"]\n",
        ")"
      ],
      "metadata": {
        "id": "Lvcm5O7rzzog"
      },
      "execution_count": null,
      "outputs": []
    },
    {
      "cell_type": "code",
      "source": [
        "import os\n",
        "\n",
        "path = os.getcwd()\n",
        "\n",
        "print(path)"
      ],
      "metadata": {
        "id": "l0RzZug01f_u",
        "colab": {
          "base_uri": "https://localhost:8080/"
        },
        "outputId": "039631ca-3aa5-4378-9c7a-d65ffbd16f37"
      },
      "execution_count": null,
      "outputs": [
        {
          "output_type": "stream",
          "name": "stdout",
          "text": [
            "/content\n"
          ]
        }
      ]
    },
    {
      "cell_type": "code",
      "source": [
        "#create Graph frame\n",
        "from graphframes import *\n",
        "g = GraphFrame(vertices,edges)\n",
        "print(g)"
      ],
      "metadata": {
        "colab": {
          "base_uri": "https://localhost:8080/"
        },
        "id": "VaDRX6Px0Adx",
        "outputId": "be95207d-5c6b-4c9a-899b-cea46624af3d"
      },
      "execution_count": null,
      "outputs": [
        {
          "output_type": "stream",
          "name": "stdout",
          "text": [
            "GraphFrame(v:[id: string, name: string ... 1 more field], e:[src: string, dst: string ... 1 more field])\n"
          ]
        }
      ]
    },
    {
      "cell_type": "code",
      "source": [
        "g.edges.show()"
      ],
      "metadata": {
        "colab": {
          "base_uri": "https://localhost:8080/"
        },
        "id": "i3hdSYFE1laY",
        "outputId": "edf9861a-a53a-4f3a-8af6-47951722aa02"
      },
      "execution_count": null,
      "outputs": [
        {
          "output_type": "stream",
          "name": "stdout",
          "text": [
            "+---+---+------------+\n",
            "|src|dst|relationship|\n",
            "+---+---+------------+\n",
            "|  a|  b|      friend|\n",
            "|  b|  a|      friend|\n",
            "|  c|  b|      follow|\n",
            "|  f|  c|      follow|\n",
            "|  e|  f|      follow|\n",
            "|  e|  d|      friend|\n",
            "|  d|  e|      friend|\n",
            "|  d|  a|      friend|\n",
            "|  a|  d|      friend|\n",
            "|  a|  e|      friend|\n",
            "|  e|  a|      friend|\n",
            "+---+---+------------+\n",
            "\n"
          ]
        }
      ]
    },
    {
      "cell_type": "code",
      "source": [
        "g.edges.filter(\"relationship='follow'\").show()"
      ],
      "metadata": {
        "colab": {
          "base_uri": "https://localhost:8080/"
        },
        "id": "N6_kH4TE1oe_",
        "outputId": "5e6dc594-67cc-43d3-e763-bc8c66b90014"
      },
      "execution_count": null,
      "outputs": [
        {
          "output_type": "stream",
          "name": "stdout",
          "text": [
            "+---+---+------------+\n",
            "|src|dst|relationship|\n",
            "+---+---+------------+\n",
            "|  c|  b|      follow|\n",
            "|  f|  c|      follow|\n",
            "|  e|  f|      follow|\n",
            "+---+---+------------+\n",
            "\n"
          ]
        }
      ]
    },
    {
      "cell_type": "code",
      "source": [
        "#show pairs of users with friend relationship\n",
        "#not filter the same friendship\n",
        "g.edges.filter(\"relationship='friend'\").show()"
      ],
      "metadata": {
        "colab": {
          "base_uri": "https://localhost:8080/"
        },
        "id": "jvyTLT_X1zF2",
        "outputId": "7d8d00d8-59fb-4c73-f506-d7bfb2bc9952"
      },
      "execution_count": null,
      "outputs": [
        {
          "output_type": "stream",
          "name": "stdout",
          "text": [
            "+---+---+------------+\n",
            "|src|dst|relationship|\n",
            "+---+---+------------+\n",
            "|  a|  b|      friend|\n",
            "|  b|  a|      friend|\n",
            "|  e|  d|      friend|\n",
            "|  d|  e|      friend|\n",
            "|  d|  a|      friend|\n",
            "|  a|  d|      friend|\n",
            "|  a|  e|      friend|\n",
            "|  e|  a|      friend|\n",
            "+---+---+------------+\n",
            "\n"
          ]
        }
      ]
    },
    {
      "cell_type": "code",
      "source": [
        "#Find the youngest user's age in the graph\n",
        "g.vertices.groupBy().min(\"age\").show()"
      ],
      "metadata": {
        "colab": {
          "base_uri": "https://localhost:8080/"
        },
        "id": "nxIseo8l3cNB",
        "outputId": "afba9230-bfad-488b-9b2c-83477a14fc51"
      },
      "execution_count": null,
      "outputs": [
        {
          "output_type": "stream",
          "name": "stdout",
          "text": [
            "+--------+\n",
            "|min(age)|\n",
            "+--------+\n",
            "|      29|\n",
            "+--------+\n",
            "\n"
          ]
        }
      ]
    },
    {
      "cell_type": "markdown",
      "source": [
        "#Motif Finding: Finding motifs helps to execute queries to discover structural patterns in graphs. Network motifs are patterns that occur repeatedly in the graph and represent the relationships between the vertices. "
      ],
      "metadata": {
        "id": "3LFvCipp30-Q"
      }
    },
    {
      "cell_type": "code",
      "source": [
        "#search for pairs of vertices with edges in both direction between them\n",
        "motif=g.find(\"(a)-[e]->(b);(b)-[e2]->(a)\")\n",
        "motif.show()"
      ],
      "metadata": {
        "colab": {
          "base_uri": "https://localhost:8080/"
        },
        "id": "vclHPdFv35CI",
        "outputId": "d319f75a-b8c6-4ecc-b751-2ddceaafa786"
      },
      "execution_count": null,
      "outputs": [
        {
          "output_type": "stream",
          "name": "stdout",
          "text": [
            "+---------------+--------------+---------------+--------------+\n",
            "|              a|             e|              b|            e2|\n",
            "+---------------+--------------+---------------+--------------+\n",
            "| [d, David, 29]|[d, e, friend]|[e, Esther, 32]|[e, d, friend]|\n",
            "| [a, Alice, 34]|[a, e, friend]|[e, Esther, 32]|[e, a, friend]|\n",
            "| [a, Alice, 34]|[a, b, friend]|   [b, Bob, 36]|[b, a, friend]|\n",
            "| [d, David, 29]|[d, a, friend]| [a, Alice, 34]|[a, d, friend]|\n",
            "|[e, Esther, 32]|[e, d, friend]| [d, David, 29]|[d, e, friend]|\n",
            "| [a, Alice, 34]|[a, d, friend]| [d, David, 29]|[d, a, friend]|\n",
            "|   [b, Bob, 36]|[b, a, friend]| [a, Alice, 34]|[a, b, friend]|\n",
            "|[e, Esther, 32]|[e, a, friend]| [a, Alice, 34]|[a, e, friend]|\n",
            "+---------------+--------------+---------------+--------------+\n",
            "\n"
          ]
        }
      ]
    },
    {
      "cell_type": "code",
      "source": [
        "#vertices and edges can be anonymous\n",
        "g.find(\"(a)-[]->(b);(b)-[]->(a)\").show()"
      ],
      "metadata": {
        "colab": {
          "base_uri": "https://localhost:8080/"
        },
        "id": "04deqvXo4W_3",
        "outputId": "ec99f93c-f9bc-4241-ab50-4f7f3f68d303"
      },
      "execution_count": null,
      "outputs": [
        {
          "output_type": "stream",
          "name": "stdout",
          "text": [
            "+---------------+---------------+\n",
            "|              a|              b|\n",
            "+---------------+---------------+\n",
            "| [d, David, 29]|[e, Esther, 32]|\n",
            "| [a, Alice, 34]|[e, Esther, 32]|\n",
            "| [a, Alice, 34]|   [b, Bob, 36]|\n",
            "| [d, David, 29]| [a, Alice, 34]|\n",
            "|[e, Esther, 32]| [d, David, 29]|\n",
            "| [a, Alice, 34]| [d, David, 29]|\n",
            "|   [b, Bob, 36]| [a, Alice, 34]|\n",
            "|[e, Esther, 32]| [a, Alice, 34]|\n",
            "+---------------+---------------+\n",
            "\n"
          ]
        }
      ]
    },
    {
      "cell_type": "code",
      "source": [
        "#more complex queries can be expressed by applying filter\n",
        "motif.filter(\"b.age > 30\").show()"
      ],
      "metadata": {
        "colab": {
          "base_uri": "https://localhost:8080/"
        },
        "id": "SRC4jfmW4s0R",
        "outputId": "e5b71b07-3ec7-432c-cb8c-0eee69e1b44d"
      },
      "execution_count": null,
      "outputs": [
        {
          "output_type": "stream",
          "name": "stdout",
          "text": [
            "+---------------+--------------+---------------+--------------+\n",
            "|              a|             e|              b|            e2|\n",
            "+---------------+--------------+---------------+--------------+\n",
            "| [d, David, 29]|[d, e, friend]|[e, Esther, 32]|[e, d, friend]|\n",
            "| [a, Alice, 34]|[a, e, friend]|[e, Esther, 32]|[e, a, friend]|\n",
            "| [a, Alice, 34]|[a, b, friend]|   [b, Bob, 36]|[b, a, friend]|\n",
            "| [d, David, 29]|[d, a, friend]| [a, Alice, 34]|[a, d, friend]|\n",
            "|   [b, Bob, 36]|[b, a, friend]| [a, Alice, 34]|[a, b, friend]|\n",
            "|[e, Esther, 32]|[e, a, friend]| [a, Alice, 34]|[a, e, friend]|\n",
            "+---------------+--------------+---------------+--------------+\n",
            "\n"
          ]
        }
      ]
    },
    {
      "cell_type": "code",
      "source": [
        "#each vertices and edge\n",
        "motif.selectExpr(\"a.id as a\",\"b.id as b\").show()"
      ],
      "metadata": {
        "colab": {
          "base_uri": "https://localhost:8080/"
        },
        "id": "56y74sFU49po",
        "outputId": "147ca830-f761-420a-bbd4-efd57f96cf91"
      },
      "execution_count": null,
      "outputs": [
        {
          "output_type": "stream",
          "name": "stdout",
          "text": [
            "+---+---+\n",
            "|  a|  b|\n",
            "+---+---+\n",
            "|  d|  e|\n",
            "|  a|  e|\n",
            "|  a|  b|\n",
            "|  d|  a|\n",
            "|  e|  d|\n",
            "|  a|  d|\n",
            "|  b|  a|\n",
            "|  e|  a|\n",
            "+---+---+\n",
            "\n"
          ]
        }
      ]
    },
    {
      "cell_type": "code",
      "source": [
        "#one way relationship\n",
        "g.find(\"(a)-[e]->(b);!(b)-[]->(a)\").selectExpr(\"a.id \",\"e.relationship\",\\\n",
        "                                                \"b.id \"\n",
        ").show()"
      ],
      "metadata": {
        "colab": {
          "base_uri": "https://localhost:8080/"
        },
        "id": "k1njtPQs5Qj_",
        "outputId": "e6b0acdb-3e03-4e38-a378-119c9e9e192e"
      },
      "execution_count": null,
      "outputs": [
        {
          "output_type": "stream",
          "name": "stdout",
          "text": [
            "+---+------------+---+\n",
            "| id|relationship| id|\n",
            "+---+------------+---+\n",
            "|  e|      follow|  f|\n",
            "|  c|      follow|  b|\n",
            "|  f|      follow|  c|\n",
            "+---+------------+---+\n",
            "\n"
          ]
        }
      ]
    },
    {
      "cell_type": "code",
      "source": [
        "from functools import reduce\n",
        "from pyspark.sql.functions import *\n",
        "from pyspark.sql.types import IntegerType\n",
        "\n",
        "chain4=g.find(\"(a)-[ab]->(b);(b)-[bc]->(c);(c)-[cd]->(d)\")\n"
      ],
      "metadata": {
        "id": "_TdUwjvV6kPt"
      },
      "execution_count": null,
      "outputs": []
    },
    {
      "cell_type": "code",
      "source": [
        "# where we identify chains of 4 vertices such that at least 2 of the 3 edges are “friend” relationships. In\n",
        "from IPython.core.magics.code import chain\n",
        "#query on sequences, with state (cnt)\n",
        "# (a) define method for updating state given the next element of the motif\n",
        "sumFriends=lambda cnt,relationship: when(relationship==\"friend\",cnt+1).otherwise(cnt)\n",
        "\n",
        "# (b) Use sequence operation to apply method to sequence of elements in motif\n",
        "condition=reduce(lambda cnt,e: sumFriends(cnt,col(e).relationship),[\"ab\",\"bc\",\"cd\"],lit(0))\n",
        "                 \n",
        "#(c) Apply filter to DataFrame\n",
        "chainWith2Friends2=chain4.where(condition >=2)\n",
        "chainWith2Friends2.show()"
      ],
      "metadata": {
        "colab": {
          "base_uri": "https://localhost:8080/"
        },
        "id": "yTQjThZy7NmO",
        "outputId": "633386b4-de9b-4615-a1c0-8840b3d12e26"
      },
      "execution_count": null,
      "outputs": [
        {
          "output_type": "stream",
          "name": "stdout",
          "text": [
            "+----------------+--------------+---------------+--------------+---------------+--------------+---------------+\n",
            "|               a|            ab|              b|            bc|              c|            cd|              d|\n",
            "+----------------+--------------+---------------+--------------+---------------+--------------+---------------+\n",
            "| [e, Esther, 32]|[e, d, friend]| [d, David, 29]|[d, e, friend]|[e, Esther, 32]|[e, f, follow]| [f, Fanny, 36]|\n",
            "|  [a, Alice, 34]|[a, d, friend]| [d, David, 29]|[d, e, friend]|[e, Esther, 32]|[e, f, follow]| [f, Fanny, 36]|\n",
            "| [e, Esther, 32]|[e, a, friend]| [a, Alice, 34]|[a, e, friend]|[e, Esther, 32]|[e, f, follow]| [f, Fanny, 36]|\n",
            "|  [d, David, 29]|[d, a, friend]| [a, Alice, 34]|[a, e, friend]|[e, Esther, 32]|[e, f, follow]| [f, Fanny, 36]|\n",
            "|    [b, Bob, 36]|[b, a, friend]| [a, Alice, 34]|[a, e, friend]|[e, Esther, 32]|[e, f, follow]| [f, Fanny, 36]|\n",
            "|  [d, David, 29]|[d, e, friend]|[e, Esther, 32]|[e, d, friend]| [d, David, 29]|[d, e, friend]|[e, Esther, 32]|\n",
            "|  [a, Alice, 34]|[a, e, friend]|[e, Esther, 32]|[e, d, friend]| [d, David, 29]|[d, e, friend]|[e, Esther, 32]|\n",
            "| [e, Esther, 32]|[e, a, friend]| [a, Alice, 34]|[a, d, friend]| [d, David, 29]|[d, e, friend]|[e, Esther, 32]|\n",
            "|  [d, David, 29]|[d, a, friend]| [a, Alice, 34]|[a, d, friend]| [d, David, 29]|[d, e, friend]|[e, Esther, 32]|\n",
            "|    [b, Bob, 36]|[b, a, friend]| [a, Alice, 34]|[a, d, friend]| [d, David, 29]|[d, e, friend]|[e, Esther, 32]|\n",
            "|  [d, David, 29]|[d, e, friend]|[e, Esther, 32]|[e, a, friend]| [a, Alice, 34]|[a, e, friend]|[e, Esther, 32]|\n",
            "|  [a, Alice, 34]|[a, e, friend]|[e, Esther, 32]|[e, a, friend]| [a, Alice, 34]|[a, e, friend]|[e, Esther, 32]|\n",
            "| [e, Esther, 32]|[e, d, friend]| [d, David, 29]|[d, a, friend]| [a, Alice, 34]|[a, e, friend]|[e, Esther, 32]|\n",
            "|  [a, Alice, 34]|[a, d, friend]| [d, David, 29]|[d, a, friend]| [a, Alice, 34]|[a, e, friend]|[e, Esther, 32]|\n",
            "|[c, Charlie, 30]|[c, b, follow]|   [b, Bob, 36]|[b, a, friend]| [a, Alice, 34]|[a, e, friend]|[e, Esther, 32]|\n",
            "|  [a, Alice, 34]|[a, b, friend]|   [b, Bob, 36]|[b, a, friend]| [a, Alice, 34]|[a, e, friend]|[e, Esther, 32]|\n",
            "| [e, Esther, 32]|[e, d, friend]| [d, David, 29]|[d, e, friend]|[e, Esther, 32]|[e, d, friend]| [d, David, 29]|\n",
            "|  [a, Alice, 34]|[a, d, friend]| [d, David, 29]|[d, e, friend]|[e, Esther, 32]|[e, d, friend]| [d, David, 29]|\n",
            "| [e, Esther, 32]|[e, a, friend]| [a, Alice, 34]|[a, e, friend]|[e, Esther, 32]|[e, d, friend]| [d, David, 29]|\n",
            "|  [d, David, 29]|[d, a, friend]| [a, Alice, 34]|[a, e, friend]|[e, Esther, 32]|[e, d, friend]| [d, David, 29]|\n",
            "+----------------+--------------+---------------+--------------+---------------+--------------+---------------+\n",
            "only showing top 20 rows\n",
            "\n"
          ]
        }
      ]
    },
    {
      "cell_type": "markdown",
      "source": [
        "#SubGraph"
      ],
      "metadata": {
        "id": "jSOb-s-F9Q8R"
      }
    },
    {
      "cell_type": "code",
      "source": [
        "#simple subgraph: vertex and edge fiters\n",
        "#select subgrah of user older than 30, and relationship of type \" friend\"\n",
        "#drop isolated vertices (user) which are not contained in any edges (relationship)\n",
        "\n",
        "g1=g.filterVertices(\"age>30\").\\\n",
        "  filterEdges(\"relationship ='friend'\").\\\n",
        "  dropIsolatedVertices()\n"
      ],
      "metadata": {
        "id": "i9dzTU9w9VrW"
      },
      "execution_count": null,
      "outputs": []
    },
    {
      "cell_type": "code",
      "source": [
        "g1.vertices.show()"
      ],
      "metadata": {
        "colab": {
          "base_uri": "https://localhost:8080/"
        },
        "id": "ba3yOcIx96Um",
        "outputId": "b49e253d-c0a5-4746-9e8c-f3d4f8bb4873"
      },
      "execution_count": null,
      "outputs": [
        {
          "output_type": "stream",
          "name": "stdout",
          "text": [
            "+---+------+---+\n",
            "| id|  name|age|\n",
            "+---+------+---+\n",
            "|  e|Esther| 32|\n",
            "|  b|   Bob| 36|\n",
            "|  a| Alice| 34|\n",
            "+---+------+---+\n",
            "\n"
          ]
        }
      ]
    },
    {
      "cell_type": "code",
      "source": [
        "#complex subgraph: triplet (edge, scr vertex, dst vertex) filters\n",
        "#select subgraph based on edges \"e\" of type \"follow\"\n",
        "# pointing from a younger user \"a\" to an older user \"b\"\n",
        "\n",
        "paths=g.find(\"(a)-[e]->(b)\")\\\n",
        "  .filter(\"e.relationship ='follow'\")\\\n",
        "  .filter(\"a.age < b.age\")\n",
        "#\"paths\" contains vertex info. Extract the edges\n",
        "e2=paths.select(\"e.src\",\"e.dst\",\"e.relationship\")\n",
        "\n",
        "#construct the subgrah\n",
        "g2=GraphFrame(g.vertices,e2)"
      ],
      "metadata": {
        "id": "moYOo5PX-Jst"
      },
      "execution_count": null,
      "outputs": []
    },
    {
      "cell_type": "code",
      "source": [
        "g2.vertices.show()"
      ],
      "metadata": {
        "colab": {
          "base_uri": "https://localhost:8080/"
        },
        "id": "kpHnBHr1_T6K",
        "outputId": "0c0d2561-ce42-4523-b803-640f206ce3c9"
      },
      "execution_count": null,
      "outputs": [
        {
          "output_type": "stream",
          "name": "stdout",
          "text": [
            "+---+-------+---+\n",
            "| id|   name|age|\n",
            "+---+-------+---+\n",
            "|  a|  Alice| 34|\n",
            "|  b|    Bob| 36|\n",
            "|  c|Charlie| 30|\n",
            "|  d|  David| 29|\n",
            "|  e| Esther| 32|\n",
            "|  f|  Fanny| 36|\n",
            "|  g|  Gabby| 60|\n",
            "+---+-------+---+\n",
            "\n"
          ]
        }
      ]
    },
    {
      "cell_type": "code",
      "source": [
        "g2.edges.show()"
      ],
      "metadata": {
        "colab": {
          "base_uri": "https://localhost:8080/"
        },
        "id": "_vNz6neT_XVr",
        "outputId": "52dc78a1-8813-4481-b26b-b849c4d7864d"
      },
      "execution_count": null,
      "outputs": [
        {
          "output_type": "stream",
          "name": "stdout",
          "text": [
            "+---+---+------------+\n",
            "|src|dst|relationship|\n",
            "+---+---+------------+\n",
            "|  e|  f|      follow|\n",
            "|  c|  b|      follow|\n",
            "+---+---+------------+\n",
            "\n"
          ]
        }
      ]
    },
    {
      "cell_type": "markdown",
      "source": [
        "#Breath-first search (BFS): Find the shortest path from one vertex (or set of vertex) to another vertex"
      ],
      "metadata": {
        "id": "f35sCbRg_bYW"
      }
    },
    {
      "cell_type": "code",
      "source": [
        "#search from \"Esther\" for user of age < 32\n",
        "paths=g.bfs(\"name='Esther'\",\"age <32\")\n",
        "paths.show()\n",
        "\n",
        "#specify edge filters or max path lengths\n",
        "path2=g.bfs(\"name='Esther'\",\"age <32\",edgeFilter=\"relationship!='friend'\"\\\n",
        "  ,maxPathLength=3)\n",
        "path2.show()"
      ],
      "metadata": {
        "colab": {
          "base_uri": "https://localhost:8080/"
        },
        "id": "UdTJvoHN_eru",
        "outputId": "f62eee70-3a75-46e4-e240-1f28442b6d57"
      },
      "execution_count": null,
      "outputs": [
        {
          "output_type": "stream",
          "name": "stdout",
          "text": [
            "+---------------+--------------+--------------+\n",
            "|           from|            e0|            to|\n",
            "+---------------+--------------+--------------+\n",
            "|[e, Esther, 32]|[e, d, friend]|[d, David, 29]|\n",
            "+---------------+--------------+--------------+\n",
            "\n",
            "+---------------+--------------+--------------+--------------+----------------+\n",
            "|           from|            e0|            v1|            e1|              to|\n",
            "+---------------+--------------+--------------+--------------+----------------+\n",
            "|[e, Esther, 32]|[e, f, follow]|[f, Fanny, 36]|[f, c, follow]|[c, Charlie, 30]|\n",
            "+---------------+--------------+--------------+--------------+----------------+\n",
            "\n"
          ]
        }
      ]
    },
    {
      "cell_type": "markdown",
      "source": [
        "#Connect components: tính toán các thành phần liên thông của mỗi đỉnh và trả về 1 đồ thị với mỗi đỉnh được gán bằng 1 ID thành phần\n",
        "\n",
        "#Connected components detection can be interesting for clustering, but also to make your computations more efficient."
      ],
      "metadata": {
        "id": "94KctVAbB3uw"
      }
    },
    {
      "cell_type": "code",
      "source": [
        "!pwd"
      ],
      "metadata": {
        "colab": {
          "base_uri": "https://localhost:8080/"
        },
        "id": "21RMeVjCABRt",
        "outputId": "92db05be-6e46-4fd3-8c2d-ed0a6a866630"
      },
      "execution_count": null,
      "outputs": [
        {
          "output_type": "stream",
          "name": "stdout",
          "text": [
            "/content\n"
          ]
        }
      ]
    },
    {
      "cell_type": "code",
      "source": [
        "!mkdir /content/checkpoints\n"
      ],
      "metadata": {
        "id": "Geu1M-o_ADed"
      },
      "execution_count": null,
      "outputs": []
    },
    {
      "cell_type": "code",
      "source": [
        "spark.sparkContext.setCheckpointDir('/content/checkpoints')\n"
      ],
      "metadata": {
        "id": "AfUbL4IDAKtd"
      },
      "execution_count": null,
      "outputs": []
    },
    {
      "cell_type": "code",
      "source": [
        "\n",
        "result=g.connectedComponents()\n",
        "result.select(\"id\",\"component\").orderBy(\"component\").show()"
      ],
      "metadata": {
        "id": "UQnGS-F2B8bl",
        "colab": {
          "base_uri": "https://localhost:8080/"
        },
        "outputId": "27a380ed-9401-4d42-d103-8458dbb30cb5"
      },
      "execution_count": null,
      "outputs": [
        {
          "output_type": "stream",
          "name": "stdout",
          "text": [
            "+---+------------+\n",
            "| id|   component|\n",
            "+---+------------+\n",
            "|  g|146028888064|\n",
            "|  a|412316860416|\n",
            "|  b|412316860416|\n",
            "|  c|412316860416|\n",
            "|  d|412316860416|\n",
            "|  f|412316860416|\n",
            "|  e|412316860416|\n",
            "+---+------------+\n",
            "\n"
          ]
        }
      ]
    },
    {
      "cell_type": "markdown",
      "source": [
        "#strongly connected components"
      ],
      "metadata": {
        "id": "ZSXfDVAeA1ul"
      }
    },
    {
      "cell_type": "code",
      "source": [
        "result=g.stronglyConnectedComponents(maxIter=10)\n",
        "result.select(\"id\",\"component\").orderBy(\"component\").show()"
      ],
      "metadata": {
        "colab": {
          "base_uri": "https://localhost:8080/"
        },
        "id": "CH9w_rMAA6RF",
        "outputId": "fc3b6f49-71c8-4fd8-b833-2ceb85d013c0"
      },
      "execution_count": null,
      "outputs": [
        {
          "output_type": "stream",
          "name": "stdout",
          "text": [
            "+---+------------+\n",
            "| id|   component|\n",
            "+---+------------+\n",
            "|  g|146028888064|\n",
            "|  b|412316860416|\n",
            "|  e|412316860416|\n",
            "|  a|412316860416|\n",
            "|  d|412316860416|\n",
            "|  f|412316860416|\n",
            "|  c|412316860416|\n",
            "+---+------------+\n",
            "\n"
          ]
        }
      ]
    },
    {
      "cell_type": "markdown",
      "source": [
        "#Label Propagation ALgorithm (LPA): detect communites in a graph"
      ],
      "metadata": {
        "id": "RoIcavIDCf6U"
      }
    },
    {
      "cell_type": "code",
      "source": [
        "result = g.labelPropagation(maxIter=5)\n",
        "result.select(\"id\",\"label\").show()"
      ],
      "metadata": {
        "colab": {
          "base_uri": "https://localhost:8080/"
        },
        "id": "YXm1JFFpClTc",
        "outputId": "f558d846-26c2-428d-bda0-18abe42c30ee"
      },
      "execution_count": null,
      "outputs": [
        {
          "output_type": "stream",
          "name": "stdout",
          "text": [
            "+---+-------------+\n",
            "| id|        label|\n",
            "+---+-------------+\n",
            "|  g| 146028888064|\n",
            "|  b|1460288880640|\n",
            "|  e|1460288880640|\n",
            "|  a|1460288880640|\n",
            "|  f|1460288880640|\n",
            "|  d|1460288880640|\n",
            "|  c|1460288880640|\n",
            "+---+-------------+\n",
            "\n"
          ]
        }
      ]
    },
    {
      "cell_type": "markdown",
      "source": [
        "#PageRank:  Identify important vertices in a graph"
      ],
      "metadata": {
        "id": "pyDp2LsaD_Jk"
      }
    },
    {
      "cell_type": "code",
      "source": [
        "#Run PageRank until convergence to tolerance \"tol\"\n",
        "results=g.pageRank(resetProbability=0.15,tol=0.01)\n",
        "\n",
        "#Display resulting pageranks and final edge weights\n",
        "results.vertices.select(\"id\",\"pagerank\").show()\n",
        "results.edges.select(\"src\",\"dst\",\"weight\").show()\n",
        "\n",
        "#Run pagerank for a fied numberof iterations\n",
        "\n",
        "results2=g.pageRank(resetProbability=0.15,maxIter=10)\n",
        "\n",
        "#Run PageRank personalized for vertex \"a\"\n",
        "result3=g.pageRank(resetProbability=0.15,maxIter=10,sourceId=\"a\")\n",
        "\n",
        "#Run PageRank personalized for vertex (\"a\",\"b\",\"c\",\"d\") in parallel\n",
        "result4=g.parallelPersonalizedPageRank(resetProbability=0.15,sourceIds=[\"a\",\"b\",\"c\",\"d\"],maxIter=10)"
      ],
      "metadata": {
        "colab": {
          "base_uri": "https://localhost:8080/"
        },
        "id": "YG5RM1hMEBTr",
        "outputId": "fc29c32a-ff45-4633-fa8b-6a46b0f5f165"
      },
      "execution_count": null,
      "outputs": [
        {
          "output_type": "stream",
          "name": "stdout",
          "text": [
            "+---+-------------------+\n",
            "| id|           pagerank|\n",
            "+---+-------------------+\n",
            "|  g|0.18618661660049637|\n",
            "|  b| 1.2658584908762605|\n",
            "|  e| 1.2379542381046424|\n",
            "|  a| 2.0618615072239352|\n",
            "|  f| 0.5341868752251782|\n",
            "|  d|  1.115401191774445|\n",
            "|  c| 0.5985510801950417|\n",
            "+---+-------------------+\n",
            "\n",
            "+---+---+------------------+\n",
            "|src|dst|            weight|\n",
            "+---+---+------------------+\n",
            "|  b|  a|               1.0|\n",
            "|  a|  b|0.3333333333333333|\n",
            "|  d|  e|               0.5|\n",
            "|  e|  a|0.3333333333333333|\n",
            "|  e|  f|0.3333333333333333|\n",
            "|  e|  d|0.3333333333333333|\n",
            "|  a|  d|0.3333333333333333|\n",
            "|  c|  b|               1.0|\n",
            "|  a|  e|0.3333333333333333|\n",
            "|  f|  c|               1.0|\n",
            "|  d|  a|               0.5|\n",
            "+---+---+------------------+\n",
            "\n"
          ]
        }
      ]
    },
    {
      "cell_type": "markdown",
      "source": [
        "#Shortest path"
      ],
      "metadata": {
        "id": "Dq9B-Ji9Hlzk"
      }
    },
    {
      "cell_type": "code",
      "source": [
        "spark.sql(\"set spark.sql.legacy.allowUntyScalaUDF=true\")"
      ],
      "metadata": {
        "colab": {
          "base_uri": "https://localhost:8080/"
        },
        "id": "WIigGw51Hp3q",
        "outputId": "c0639d9c-4fd2-4816-ccbd-c224edddf72d"
      },
      "execution_count": null,
      "outputs": [
        {
          "output_type": "execute_result",
          "data": {
            "text/plain": [
              "DataFrame[key: string, value: string]"
            ]
          },
          "metadata": {},
          "execution_count": 34
        }
      ]
    },
    {
      "cell_type": "code",
      "source": [
        "results=g.shortestPaths(landmarks=[\"a\",\"d\"])\n",
        "results.select(\"id\",\"distances\").show()"
      ],
      "metadata": {
        "colab": {
          "base_uri": "https://localhost:8080/"
        },
        "id": "HmhfUnGhHxwC",
        "outputId": "0bd312ee-9875-4056-884a-f3a64d20cf39"
      },
      "execution_count": null,
      "outputs": [
        {
          "output_type": "stream",
          "name": "stdout",
          "text": [
            "+---+----------------+\n",
            "| id|       distances|\n",
            "+---+----------------+\n",
            "|  g|              []|\n",
            "|  b|[a -> 1, d -> 2]|\n",
            "|  e|[a -> 1, d -> 1]|\n",
            "|  a|[a -> 0, d -> 1]|\n",
            "|  f|[a -> 3, d -> 4]|\n",
            "|  d|[a -> 1, d -> 0]|\n",
            "|  c|[a -> 2, d -> 3]|\n",
            "+---+----------------+\n",
            "\n"
          ]
        }
      ]
    },
    {
      "cell_type": "markdown",
      "source": [
        "#Triangle count"
      ],
      "metadata": {
        "id": "9j6QnGVdHlry"
      }
    },
    {
      "cell_type": "code",
      "source": [
        "results= g.triangleCount()\n",
        "results.select(\"id\",\"count\").show()"
      ],
      "metadata": {
        "colab": {
          "base_uri": "https://localhost:8080/"
        },
        "id": "rjeDnz-zIoaa",
        "outputId": "1264f0fb-7e9a-4648-dc18-e78826e3ec66"
      },
      "execution_count": null,
      "outputs": [
        {
          "output_type": "stream",
          "name": "stdout",
          "text": [
            "+---+-----+\n",
            "| id|count|\n",
            "+---+-----+\n",
            "|  g|    0|\n",
            "|  f|    0|\n",
            "|  e|    1|\n",
            "|  d|    1|\n",
            "|  c|    0|\n",
            "|  b|    0|\n",
            "|  a|    1|\n",
            "+---+-----+\n",
            "\n"
          ]
        }
      ]
    },
    {
      "cell_type": "markdown",
      "source": [
        "#Saving and loading GraphFrames"
      ],
      "metadata": {
        "id": "0cup9_LqI_zq"
      }
    },
    {
      "cell_type": "code",
      "source": [
        "from pyspark.sql import SQLContext\n",
        "sqlContext = SQLContext(spark.sparkContext)\n",
        "#save vertices and edges as Parquet to some location\n",
        "g.vertices.write.parquet(\"quickstart/vertices\")\n",
        "g.edges.write.parquet(\"quickstart/edges\")\n",
        "\n",
        "#load the vertices  and edges back\n",
        "sameV=sqlContext.read.parquet(\"quickstart/vertices\")\n",
        "sameE=sqlContext.read.parquet(\"quickstart/edges\")\n",
        "\n",
        "#create an indentical GraphFrame\n",
        "sameG=GraphFrame(sameV,sameE)"
      ],
      "metadata": {
        "id": "KIvlYOslJErS"
      },
      "execution_count": null,
      "outputs": []
    },
    {
      "cell_type": "code",
      "source": [
        "sameG.vertices.show()"
      ],
      "metadata": {
        "colab": {
          "base_uri": "https://localhost:8080/"
        },
        "id": "3Ns49YKsJ32B",
        "outputId": "4cdfabe4-55e1-4d54-8f38-7a5985563370"
      },
      "execution_count": null,
      "outputs": [
        {
          "output_type": "stream",
          "name": "stdout",
          "text": [
            "+---+-------+---+\n",
            "| id|   name|age|\n",
            "+---+-------+---+\n",
            "|  d|  David| 29|\n",
            "|  e| Esther| 32|\n",
            "|  f|  Fanny| 36|\n",
            "|  g|  Gabby| 60|\n",
            "|  a|  Alice| 34|\n",
            "|  b|    Bob| 36|\n",
            "|  c|Charlie| 30|\n",
            "+---+-------+---+\n",
            "\n"
          ]
        }
      ]
    },
    {
      "cell_type": "markdown",
      "source": [
        "#Message passing via AggregateMessages\n",
        "\n"
      ],
      "metadata": {
        "id": "TN1DjwSR5QJ3"
      }
    },
    {
      "cell_type": "code",
      "source": [
        "from pyspark.sql.functions import sum as sqlsum\n",
        "from graphframes.lib import AggregateMessages as AM\n"
      ],
      "metadata": {
        "id": "-pBmtO8LKKw6"
      },
      "execution_count": null,
      "outputs": []
    },
    {
      "cell_type": "code",
      "source": [
        "msgToSrc=AM.dst[\"age\"]\n",
        "msgToDst=AM.src[\"age\"]\n",
        "agg = g.aggregateMessages(\n",
        "    sqlsum(AM.msg).alias(\"summedAges\"),\n",
        "    sendToSrc=msgToSrc,\n",
        "    sendToDst=msgToDst)\n",
        "agg.show()"
      ],
      "metadata": {
        "colab": {
          "base_uri": "https://localhost:8080/"
        },
        "id": "wv6MCgRsKgNC",
        "outputId": "eda2b86b-e28a-4ecf-ed09-6f7375170618"
      },
      "execution_count": null,
      "outputs": [
        {
          "output_type": "stream",
          "name": "stdout",
          "text": [
            "+---+----------+\n",
            "| id|summedAges|\n",
            "+---+----------+\n",
            "|  f|        62|\n",
            "|  e|       162|\n",
            "|  d|       132|\n",
            "|  c|        72|\n",
            "|  b|        98|\n",
            "|  a|       194|\n",
            "+---+----------+\n",
            "\n"
          ]
        }
      ]
    }
  ]
}