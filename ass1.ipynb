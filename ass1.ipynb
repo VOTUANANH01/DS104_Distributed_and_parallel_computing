{
  "nbformat": 4,
  "nbformat_minor": 0,
  "metadata": {
    "colab": {
      "provenance": [],
      "collapsed_sections": [],
      "authorship_tag": "ABX9TyNof6bEUHH2hxOV6d8egi77",
      "include_colab_link": true
    },
    "kernelspec": {
      "name": "python3",
      "display_name": "Python 3"
    },
    "language_info": {
      "name": "python"
    }
  },
  "cells": [
    {
      "cell_type": "markdown",
      "metadata": {
        "id": "view-in-github",
        "colab_type": "text"
      },
      "source": [
        "<a href=\"https://colab.research.google.com/github/VOTUANANH01/DS104_Distributed_and_parallel_computing/blob/main/ass1.ipynb\" target=\"_parent\"><img src=\"https://colab.research.google.com/assets/colab-badge.svg\" alt=\"Open In Colab\"/></a>"
      ]
    },
    {
      "cell_type": "code",
      "execution_count": null,
      "metadata": {
        "colab": {
          "base_uri": "https://localhost:8080/"
        },
        "id": "6TBSMY7nsTZe",
        "outputId": "14571593-5f4f-431f-a879-af2a8eba5bd0"
      },
      "outputs": [
        {
          "output_type": "stream",
          "name": "stdout",
          "text": [
            "Cloning into 'DS104_Distributed_and_parallel_computing'...\n",
            "remote: Enumerating objects: 37, done.\u001b[K\n",
            "remote: Counting objects: 100% (37/37), done.\u001b[K\n",
            "remote: Compressing objects: 100% (33/33), done.\u001b[K\n",
            "remote: Total 37 (delta 15), reused 12 (delta 1), pack-reused 0\u001b[K\n",
            "Unpacking objects: 100% (37/37), done.\n"
          ]
        }
      ],
      "source": [
        "!git clone https://github.com/VOTUANANH01/DS104_Distributed_and_parallel_computing"
      ]
    },
    {
      "cell_type": "code",
      "source": [
        "!pip install pyspark==3.0.1\n",
        "%cd /usr/local/lib/python3.7/dist-packages/pyspark/jars\n",
        "!wget https://repos.spark-packages.org/graphframes/graphframes/0.8.1-spark3.0-s_2.12/graphframes-0.8.1-spark3.0-s_2.12.jar\n",
        "%cd '/content/'\n",
        "!wget https://repos.spark-packages.org/graphframes/graphframes/0.8.1-spark3.0-s_2.12/graphframes-0.8.1-spark3.0-s_2.12.jar\n",
        "!jar xf /content/graphframes-0.8.1-spark3.0-s_2.12.jar"
      ],
      "metadata": {
        "colab": {
          "base_uri": "https://localhost:8080/"
        },
        "id": "41IXKxTjst42",
        "outputId": "999009b9-dfc8-46a8-c7fe-e5ef27e4d470"
      },
      "execution_count": null,
      "outputs": [
        {
          "output_type": "stream",
          "name": "stdout",
          "text": [
            "Looking in indexes: https://pypi.org/simple, https://us-python.pkg.dev/colab-wheels/public/simple/\n",
            "Collecting pyspark==3.0.1\n",
            "  Downloading pyspark-3.0.1.tar.gz (204.2 MB)\n",
            "\u001b[K     |████████████████████████████████| 204.2 MB 34 kB/s \n",
            "\u001b[?25hCollecting py4j==0.10.9\n",
            "  Downloading py4j-0.10.9-py2.py3-none-any.whl (198 kB)\n",
            "\u001b[K     |████████████████████████████████| 198 kB 23.6 MB/s \n",
            "\u001b[?25hBuilding wheels for collected packages: pyspark\n",
            "  Building wheel for pyspark (setup.py) ... \u001b[?25l\u001b[?25hdone\n",
            "  Created wheel for pyspark: filename=pyspark-3.0.1-py2.py3-none-any.whl size=204612243 sha256=3fbfa63aaec5278c98e27a8c7f79928e3d0fa78f043b66269feb76c9cdcb6bb1\n",
            "  Stored in directory: /root/.cache/pip/wheels/5e/34/fa/b37b5cef503fc5148b478b2495043ba61b079120b7ff379f9b\n",
            "Successfully built pyspark\n",
            "Installing collected packages: py4j, pyspark\n",
            "Successfully installed py4j-0.10.9 pyspark-3.0.1\n",
            "/usr/local/lib/python3.7/dist-packages/pyspark/jars\n",
            "--2022-09-27 09:14:10--  https://repos.spark-packages.org/graphframes/graphframes/0.8.1-spark3.0-s_2.12/graphframes-0.8.1-spark3.0-s_2.12.jar\n",
            "Resolving repos.spark-packages.org (repos.spark-packages.org)... 18.154.110.54, 18.154.110.122, 18.154.110.33, ...\n",
            "Connecting to repos.spark-packages.org (repos.spark-packages.org)|18.154.110.54|:443... connected.\n",
            "HTTP request sent, awaiting response... 200 OK\n",
            "Length: 248133 (242K) [binary/octet-stream]\n",
            "Saving to: ‘graphframes-0.8.1-spark3.0-s_2.12.jar’\n",
            "\n",
            "graphframes-0.8.1-s 100%[===================>] 242.32K  --.-KB/s    in 0.03s   \n",
            "\n",
            "2022-09-27 09:14:10 (7.22 MB/s) - ‘graphframes-0.8.1-spark3.0-s_2.12.jar’ saved [248133/248133]\n",
            "\n",
            "/content\n",
            "--2022-09-27 09:14:10--  https://repos.spark-packages.org/graphframes/graphframes/0.8.1-spark3.0-s_2.12/graphframes-0.8.1-spark3.0-s_2.12.jar\n",
            "Resolving repos.spark-packages.org (repos.spark-packages.org)... 18.154.110.54, 18.154.110.122, 18.154.110.33, ...\n",
            "Connecting to repos.spark-packages.org (repos.spark-packages.org)|18.154.110.54|:443... connected.\n",
            "HTTP request sent, awaiting response... 200 OK\n",
            "Length: 248133 (242K) [binary/octet-stream]\n",
            "Saving to: ‘graphframes-0.8.1-spark3.0-s_2.12.jar’\n",
            "\n",
            "graphframes-0.8.1-s 100%[===================>] 242.32K  --.-KB/s    in 0.03s   \n",
            "\n",
            "2022-09-27 09:14:10 (7.81 MB/s) - ‘graphframes-0.8.1-spark3.0-s_2.12.jar’ saved [248133/248133]\n",
            "\n"
          ]
        }
      ]
    },
    {
      "cell_type": "code",
      "source": [
        "import pyspark\n",
        "from pyspark.sql import SparkSession\n",
        "from pyspark.sql.functions import *\n",
        "from pyspark.sql.types import *\n",
        "from pyspark.sql import functions as f\n",
        "\n",
        "spark=SparkSession.builder.getOrCreate()"
      ],
      "metadata": {
        "id": "hudMMRx9swfx"
      },
      "execution_count": null,
      "outputs": []
    },
    {
      "cell_type": "markdown",
      "source": [
        "#1. Load data from flightdata2018.json and airports.json\n"
      ],
      "metadata": {
        "id": "PUtFRNtSsxfW"
      }
    },
    {
      "cell_type": "code",
      "source": [
        "flightDF=spark.read.json('/content/DS104_Distributed_and_parallel_computing/ass1/flightdata2018.json')\n"
      ],
      "metadata": {
        "id": "RB6egtdAsz9d"
      },
      "execution_count": null,
      "outputs": []
    },
    {
      "cell_type": "code",
      "source": [
        "flightEdges=flightDF.withColumnRenamed(\"depdelay\",\"delay\")\\\n",
        "  .select(\"id\",\"fldate\",\"month\",\"dofW\",\"carrier\",\"src\",\"dst\",\"crsdephour\",\"crsdeptime\"\\\n",
        "  ,\"delay\",\"crsarrtime\",\"arrdelay\",\"crselapsedtime\",\"dist\")"
      ],
      "metadata": {
        "id": "nNTClpW9tJ-R"
      },
      "execution_count": null,
      "outputs": []
    },
    {
      "cell_type": "code",
      "source": [
        "flightEdges.printSchema()"
      ],
      "metadata": {
        "colab": {
          "base_uri": "https://localhost:8080/"
        },
        "id": "bMgejWs0tVam",
        "outputId": "4e45d8b2-2446-4806-a11b-1f146497ded0"
      },
      "execution_count": null,
      "outputs": [
        {
          "output_type": "stream",
          "name": "stdout",
          "text": [
            "root\n",
            " |-- id: string (nullable = true)\n",
            " |-- fldate: string (nullable = true)\n",
            " |-- month: long (nullable = true)\n",
            " |-- dofW: long (nullable = true)\n",
            " |-- carrier: string (nullable = true)\n",
            " |-- src: string (nullable = true)\n",
            " |-- dst: string (nullable = true)\n",
            " |-- crsdephour: long (nullable = true)\n",
            " |-- crsdeptime: long (nullable = true)\n",
            " |-- delay: double (nullable = true)\n",
            " |-- crsarrtime: long (nullable = true)\n",
            " |-- arrdelay: double (nullable = true)\n",
            " |-- crselapsedtime: double (nullable = true)\n",
            " |-- dist: double (nullable = true)\n",
            "\n"
          ]
        }
      ]
    },
    {
      "cell_type": "code",
      "source": [
        "flightEdges.show(5)"
      ],
      "metadata": {
        "colab": {
          "base_uri": "https://localhost:8080/"
        },
        "id": "lJ9PhlOZuJnO",
        "outputId": "f22fabac-8bac-4311-82f7-e19fbfff375e"
      },
      "execution_count": null,
      "outputs": [
        {
          "output_type": "stream",
          "name": "stdout",
          "text": [
            "+--------------------+----------+-----+----+-------+---+---+----------+----------+-----+----------+--------+--------------+-----+\n",
            "|                  id|    fldate|month|dofW|carrier|src|dst|crsdephour|crsdeptime|delay|crsarrtime|arrdelay|crselapsedtime| dist|\n",
            "+--------------------+----------+-----+----+-------+---+---+----------+----------+-----+----------+--------+--------------+-----+\n",
            "|ATL_BOS_2018-01-0...|2018-01-01|    1|   1|     DL|ATL|BOS|         9|       850|  0.0|      1116|     0.0|         146.0|946.0|\n",
            "|ATL_BOS_2018-01-0...|2018-01-01|    1|   1|     DL|ATL|BOS|        11|      1122|  8.0|      1349|     0.0|         147.0|946.0|\n",
            "|ATL_BOS_2018-01-0...|2018-01-01|    1|   1|     DL|ATL|BOS|        14|      1356|  9.0|      1623|     0.0|         147.0|946.0|\n",
            "|ATL_BOS_2018-01-0...|2018-01-01|    1|   1|     DL|ATL|BOS|        16|      1620|  0.0|      1851|     3.0|         151.0|946.0|\n",
            "|ATL_BOS_2018-01-0...|2018-01-01|    1|   1|     DL|ATL|BOS|        19|      1940|  6.0|      2210|     0.0|         150.0|946.0|\n",
            "+--------------------+----------+-----+----+-------+---+---+----------+----------+-----+----------+--------+--------------+-----+\n",
            "only showing top 5 rows\n",
            "\n"
          ]
        }
      ]
    },
    {
      "cell_type": "code",
      "source": [
        "airportVertices=spark.read.json(\"/content/DS104_Distributed_and_parallel_computing/Slide 5-6 data/airports.json\")"
      ],
      "metadata": {
        "id": "YIAROzKPtXHu"
      },
      "execution_count": null,
      "outputs": []
    },
    {
      "cell_type": "code",
      "source": [
        "airportVertices.show()"
      ],
      "metadata": {
        "colab": {
          "base_uri": "https://localhost:8080/"
        },
        "id": "0_zXF_SQtgXu",
        "outputId": "3c34a7a0-1531-471e-da9b-9c2c0b4146e2"
      },
      "execution_count": null,
      "outputs": [
        {
          "output_type": "stream",
          "name": "stdout",
          "text": [
            "+-------------+-------+-----+---+\n",
            "|         City|Country|State| id|\n",
            "+-------------+-------+-----+---+\n",
            "|      Chicago|    USA|   IL|ORD|\n",
            "|     New York|    USA|   NY|LGA|\n",
            "|       Boston|    USA|   MA|BOS|\n",
            "|      Houston|    USA|   TX|IAH|\n",
            "|       Newark|    USA|   NJ|EWR|\n",
            "|       Denver|    USA|   CO|DEN|\n",
            "|        Miami|    USA|   FL|MIA|\n",
            "|San Francisco|    USA|   CA|SFO|\n",
            "|      Atlanta|    USA|   GA|ATL|\n",
            "|       Dallas|    USA|   TX|DFW|\n",
            "|    Charlotte|    USA|   NC|CLT|\n",
            "|  Los Angeles|    USA|   CA|LAX|\n",
            "|      Seattle|    USA|   WA|SEA|\n",
            "+-------------+-------+-----+---+\n",
            "\n"
          ]
        }
      ]
    },
    {
      "cell_type": "code",
      "source": [
        "#create graphframe\n",
        "from graphframes import *\n",
        "flightGraph=GraphFrame(airportVertices,flightEdges)\n",
        "print(flightGraph)"
      ],
      "metadata": {
        "colab": {
          "base_uri": "https://localhost:8080/"
        },
        "id": "1FzPHyCHtxBC",
        "outputId": "24053345-4dd4-4456-fa2e-f4d1052a09ed"
      },
      "execution_count": null,
      "outputs": [
        {
          "output_type": "stream",
          "name": "stdout",
          "text": [
            "GraphFrame(v:[id: string, City: string ... 2 more fields], e:[src: string, dst: string ... 12 more fields])\n"
          ]
        }
      ]
    },
    {
      "cell_type": "markdown",
      "source": [
        "##1.1. Show the most important airports according to pageRank (resetProbability=0.15, maxIter=10). The result should be displayed in descending order of pagerank."
      ],
      "metadata": {
        "id": "wrotdP3ithDH"
      }
    },
    {
      "cell_type": "code",
      "source": [
        "ranks=flightGraph.pageRank(resetProbability = 0.15,maxIter=5)\n",
        "\n",
        "ranks.vertices.orderBy(ranks.vertices.pagerank.desc()).show(20)"
      ],
      "metadata": {
        "colab": {
          "base_uri": "https://localhost:8080/"
        },
        "id": "D-2KY4XVtlE3",
        "outputId": "4c56ee20-f443-4ef5-f939-271d93517109"
      },
      "execution_count": null,
      "outputs": [
        {
          "output_type": "stream",
          "name": "stdout",
          "text": [
            "+-------------+-------+-----+---+------------------+\n",
            "|         City|Country|State| id|          pagerank|\n",
            "+-------------+-------+-----+---+------------------+\n",
            "|      Chicago|    USA|   IL|ORD|1.4212550221589475|\n",
            "|      Atlanta|    USA|   GA|ATL| 1.339101482426853|\n",
            "|  Los Angeles|    USA|   CA|LAX| 1.200976131283591|\n",
            "|       Dallas|    USA|   TX|DFW|1.1270531678567586|\n",
            "|       Denver|    USA|   CO|DEN|1.0591136061016508|\n",
            "|San Francisco|    USA|   CA|SFO|1.0246282632093013|\n",
            "|     New York|    USA|   NY|LGA|0.9447562478927347|\n",
            "|       Boston|    USA|   MA|BOS|0.8775066074875163|\n",
            "|       Newark|    USA|   NJ|EWR|0.8731036205114817|\n",
            "|        Miami|    USA|   FL|MIA|0.8507878300790072|\n",
            "|      Houston|    USA|   TX|IAH|0.8350718288420121|\n",
            "|    Charlotte|    USA|   NC|CLT|0.8049000935422239|\n",
            "|      Seattle|    USA|   WA|SEA|0.6417460986079204|\n",
            "+-------------+-------+-----+---+------------------+\n",
            "\n"
          ]
        }
      ]
    },
    {
      "cell_type": "markdown",
      "source": [
        "##1.2 Show the average delay of each Scheduled Depart Hour (crsdephour) from LGA airport. The result should be displayed in descending order of average delay"
      ],
      "metadata": {
        "id": "sRdzkTXGt8d_"
      }
    },
    {
      "cell_type": "code",
      "source": [
        "flightGraph.edges.filter(\"src='LGA' and delay > 1\" ) \\\n",
        ".groupby(\"crsdephour\").avg(\"delay\").sort(desc(\"avg(delay)\")).show()"
      ],
      "metadata": {
        "colab": {
          "base_uri": "https://localhost:8080/"
        },
        "id": "RLac4ZbNt9-m",
        "outputId": "9f88c0c0-b3a9-409d-99ad-731da614fec7"
      },
      "execution_count": null,
      "outputs": [
        {
          "output_type": "stream",
          "name": "stdout",
          "text": [
            "+----------+------------------+\n",
            "|crsdephour|        avg(delay)|\n",
            "+----------+------------------+\n",
            "|        21| 58.51034482758621|\n",
            "|        19| 58.48443579766537|\n",
            "|        18| 58.30467289719626|\n",
            "|        15| 56.19718309859155|\n",
            "|        22|52.986666666666665|\n",
            "|        20| 52.81941309255079|\n",
            "|        17| 49.28086419753087|\n",
            "|        16| 43.59234234234234|\n",
            "|        13| 42.80222222222222|\n",
            "|        12| 42.41463414634146|\n",
            "|        14|40.632603406326034|\n",
            "|        11| 38.05428571428571|\n",
            "|         9| 37.07849829351536|\n",
            "|         7| 36.63453815261044|\n",
            "|        10|  34.9458762886598|\n",
            "|         8| 34.69613259668508|\n",
            "|         6| 30.15813953488372|\n",
            "|         5| 27.73170731707317|\n",
            "+----------+------------------+\n",
            "\n"
          ]
        }
      ]
    },
    {
      "cell_type": "markdown",
      "source": [
        "##1.3. Find all destinations that does not have direct flight from LGA but can be reached with one transit. The result should be display in the ascending order of the id of destination and transit airport."
      ],
      "metadata": {
        "id": "HZs4Yl4PvAlW"
      }
    },
    {
      "cell_type": "code",
      "source": [
        "flight_route_count=flightGraph.edges.groupBy(\"src\",\"dst\").count().orderBy(col(\"count\").desc())"
      ],
      "metadata": {
        "id": "zMDGuv_HLPCL"
      },
      "execution_count": null,
      "outputs": []
    },
    {
      "cell_type": "code",
      "source": [
        "sub_graph=GraphFrame(flightGraph.vertices, flight_route_count)"
      ],
      "metadata": {
        "id": "8qNZsd6ULJp0"
      },
      "execution_count": null,
      "outputs": []
    },
    {
      "cell_type": "code",
      "source": [
        "motif= sub_graph.find(\"(a)-[]->(b);(b)-[]->(c);!(a)-[]->(c)\")\\\n",
        "  .filter(\"c.id !=a.id\")\n",
        "  # .orderBy(f.col(\"c.id\").asc(),f.col(\"b.id\").asc())\\\n",
        "  # .selectExpr(\"a.id as origin\",\"c.id as destination\",\"b.id as transit\")\\"
      ],
      "metadata": {
        "id": "zbUYgAZJIR7c"
      },
      "execution_count": null,
      "outputs": []
    },
    {
      "cell_type": "code",
      "source": [
        "motif= flightGraph.find(\"(a)-[]->(b);(b)-[]->(c);!(a)-[]->(c)\")\\\n",
        "  .filter(\"c.id !=a.id\")\n",
        "  # .orderBy(f.col(\"c.id\").asc(),f.col(\"b.id\").asc())\\\n",
        "  # .selectExpr(\"a.id as origin\",\"c.id as destination\",\"b.id as transit\")\\"
      ],
      "metadata": {
        "id": "Q90PyenzQDa4"
      },
      "execution_count": null,
      "outputs": []
    },
    {
      "cell_type": "code",
      "source": [
        "motif.show(1)"
      ],
      "metadata": {
        "colab": {
          "base_uri": "https://localhost:8080/"
        },
        "id": "rJSbV5B4Nkps",
        "outputId": "8d3c0f16-a8b0-4de4-94f9-43351196c8a8"
      },
      "execution_count": null,
      "outputs": [
        {
          "output_type": "stream",
          "name": "stdout",
          "text": [
            "+--------------------+--------------------+--------------------+\n",
            "|                   a|                   b|                   c|\n",
            "+--------------------+--------------------+--------------------+\n",
            "|[New York, USA, N...|[Denver, USA, CO,...|[San Francisco, U...|\n",
            "+--------------------+--------------------+--------------------+\n",
            "only showing top 1 row\n",
            "\n"
          ]
        }
      ]
    },
    {
      "cell_type": "code",
      "source": [
        "motif.filter(\"a.id == 'LGA'\")\\\n",
        ".orderBy(f.col(\"c.id\").asc(),f.col(\"b.id\").asc())\\\n",
        ".selectExpr(\"a.id as origin\",\"c.id as destination\",\"b.id as transit\")\\\n",
        ".show(32)"
      ],
      "metadata": {
        "colab": {
          "base_uri": "https://localhost:8080/"
        },
        "id": "IFt4DDLjNgc7",
        "outputId": "45785e11-8275-41f2-b8c3-c61b9c519606"
      },
      "execution_count": null,
      "outputs": [
        {
          "output_type": "stream",
          "name": "stdout",
          "text": [
            "+------+-----------+-------+\n",
            "|origin|destination|transit|\n",
            "+------+-----------+-------+\n",
            "|   LGA|        EWR|    ATL|\n",
            "|   LGA|        EWR|    BOS|\n",
            "|   LGA|        EWR|    CLT|\n",
            "|   LGA|        EWR|    DEN|\n",
            "|   LGA|        EWR|    DFW|\n",
            "|   LGA|        EWR|    IAH|\n",
            "|   LGA|        EWR|    MIA|\n",
            "|   LGA|        EWR|    ORD|\n",
            "|   LGA|        LAX|    ATL|\n",
            "|   LGA|        LAX|    BOS|\n",
            "|   LGA|        LAX|    CLT|\n",
            "|   LGA|        LAX|    DEN|\n",
            "|   LGA|        LAX|    DFW|\n",
            "|   LGA|        LAX|    IAH|\n",
            "|   LGA|        LAX|    MIA|\n",
            "|   LGA|        LAX|    ORD|\n",
            "|   LGA|        SEA|    ATL|\n",
            "|   LGA|        SEA|    BOS|\n",
            "|   LGA|        SEA|    CLT|\n",
            "|   LGA|        SEA|    DEN|\n",
            "|   LGA|        SEA|    DFW|\n",
            "|   LGA|        SEA|    IAH|\n",
            "|   LGA|        SEA|    MIA|\n",
            "|   LGA|        SEA|    ORD|\n",
            "|   LGA|        SFO|    ATL|\n",
            "|   LGA|        SFO|    BOS|\n",
            "|   LGA|        SFO|    CLT|\n",
            "|   LGA|        SFO|    DEN|\n",
            "|   LGA|        SFO|    DFW|\n",
            "|   LGA|        SFO|    IAH|\n",
            "|   LGA|        SFO|    MIA|\n",
            "|   LGA|        SFO|    ORD|\n",
            "+------+-----------+-------+\n",
            "\n"
          ]
        }
      ]
    },
    {
      "cell_type": "markdown",
      "source": [
        "##1.4. Computes shortest paths from each airport to LGA."
      ],
      "metadata": {
        "id": "6Nw2QiNjw_iX"
      }
    },
    {
      "cell_type": "code",
      "source": [
        "shortestpath=flightGraph.shortestPaths(landmarks=['LGA'])\n",
        "shortestpath.select(\"id\",\"distances\").show()"
      ],
      "metadata": {
        "colab": {
          "base_uri": "https://localhost:8080/"
        },
        "id": "53MMZVMSxDXG",
        "outputId": "a29d9ab3-8794-4645-be53-6f7861f26f7f"
      },
      "execution_count": null,
      "outputs": [
        {
          "output_type": "stream",
          "name": "stdout",
          "text": [
            "+---+----------+\n",
            "| id| distances|\n",
            "+---+----------+\n",
            "|IAH|[LGA -> 1]|\n",
            "|CLT|[LGA -> 1]|\n",
            "|LAX|[LGA -> 2]|\n",
            "|DEN|[LGA -> 1]|\n",
            "|DFW|[LGA -> 1]|\n",
            "|SFO|[LGA -> 2]|\n",
            "|LGA|[LGA -> 0]|\n",
            "|ORD|[LGA -> 1]|\n",
            "|MIA|[LGA -> 1]|\n",
            "|SEA|[LGA -> 2]|\n",
            "|ATL|[LGA -> 1]|\n",
            "|BOS|[LGA -> 1]|\n",
            "|EWR|[LGA -> 2]|\n",
            "+---+----------+\n",
            "\n"
          ]
        }
      ]
    }
  ]
}