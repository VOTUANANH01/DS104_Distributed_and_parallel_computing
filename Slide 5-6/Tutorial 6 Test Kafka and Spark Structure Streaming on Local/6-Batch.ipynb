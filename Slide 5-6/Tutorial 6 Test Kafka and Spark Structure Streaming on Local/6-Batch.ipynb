{
 "cells": [
  {
   "cell_type": "code",
   "execution_count": null,
   "metadata": {},
   "outputs": [],
   "source": [
    "# import sys\n",
    "# !python -m pip install pyspark==3.2.1\n",
    "\n"
   ]
  },
  {
   "cell_type": "code",
   "execution_count": null,
   "metadata": {},
   "outputs": [
    {
     "name": "stdout",
     "output_type": "stream",
     "text": [
      "Requirement already satisfied: findspark in d:\\anconda\\envs\\cs231\\lib\\site-packages (2.0.1)\n"
     ]
    }
   ],
   "source": [
    "# !python -m pip install findspark"
   ]
  },
  {
   "cell_type": "code",
   "execution_count": 1,
   "metadata": {},
   "outputs": [],
   "source": [
    "import findspark\n",
    "findspark.init()\n",
    "import pyspark\n",
    "from pyspark.sql import SparkSession\n",
    "from pyspark.sql.functions import *"
   ]
  },
  {
   "cell_type": "code",
   "execution_count": 2,
   "metadata": {},
   "outputs": [
    {
     "data": {
      "text/html": [
       "\n",
       "            <div>\n",
       "                <p><b>SparkSession - in-memory</b></p>\n",
       "                \n",
       "        <div>\n",
       "            <p><b>SparkContext</b></p>\n",
       "\n",
       "            <p><a href=\"http://DESKTOP-CDO0SQ2:4041\">Spark UI</a></p>\n",
       "\n",
       "            <dl>\n",
       "              <dt>Version</dt>\n",
       "                <dd><code>v3.3.0</code></dd>\n",
       "              <dt>Master</dt>\n",
       "                <dd><code>local</code></dd>\n",
       "              <dt>AppName</dt>\n",
       "                <dd><code>kafka-example</code></dd>\n",
       "            </dl>\n",
       "        </div>\n",
       "        \n",
       "            </div>\n",
       "        "
      ],
      "text/plain": [
       "<pyspark.sql.session.SparkSession at 0x23c9e788880>"
      ]
     },
     "execution_count": 2,
     "metadata": {},
     "output_type": "execute_result"
    }
   ],
   "source": [
    "\n",
    "scala_version = '2.12'\n",
    "spark_version = '3.2.1'\n",
    "packages = [ f'org.apache.spark:spark-sql-kafka-0-10_{scala_version}:{spark_version}' , 'org.apache.kafka:kafka-clients:3.3.1' ]\n",
    "spark = SparkSession.builder.master(\"local\").appName(\"kafka-example\").config(\"spark.jars.packages\", \",\".join(packages)).getOrCreate()\n",
    "spark"
   ]
  },
  {
   "cell_type": "code",
   "execution_count": 3,
   "metadata": {},
   "outputs": [],
   "source": [
    "#create dataframe from Kafka data\n",
    "topic_name='RandomNumber'\n",
    "kafka_server= 'localhost:9092'\n",
    "kafkaDf=spark.read.format(\"kafka\").option(\"kafka.bootstrap.servers\",kafka_server)\\\n",
    "    .option(\"subscribe\",topic_name).option(\"startingOffsets\",\"earliest\").load()"
   ]
  },
  {
   "cell_type": "code",
   "execution_count": 4,
   "metadata": {},
   "outputs": [
    {
     "data": {
      "text/html": [
       "<div>\n",
       "<style scoped>\n",
       "    .dataframe tbody tr th:only-of-type {\n",
       "        vertical-align: middle;\n",
       "    }\n",
       "\n",
       "    .dataframe tbody tr th {\n",
       "        vertical-align: top;\n",
       "    }\n",
       "\n",
       "    .dataframe thead th {\n",
       "        text-align: right;\n",
       "    }\n",
       "</style>\n",
       "<table border=\"1\" class=\"dataframe\">\n",
       "  <thead>\n",
       "    <tr style=\"text-align: right;\">\n",
       "      <th></th>\n",
       "      <th>key</th>\n",
       "      <th>value</th>\n",
       "      <th>topic</th>\n",
       "      <th>partition</th>\n",
       "      <th>offset</th>\n",
       "      <th>timestamp</th>\n",
       "      <th>timestampType</th>\n",
       "    </tr>\n",
       "  </thead>\n",
       "  <tbody>\n",
       "    <tr>\n",
       "      <th>0</th>\n",
       "      <td>None</td>\n",
       "      <td>[123, 34, 110, 117, 109, 98, 101, 114, 34, 58,...</td>\n",
       "      <td>RandomNumber</td>\n",
       "      <td>0</td>\n",
       "      <td>112</td>\n",
       "      <td>2022-11-07 11:23:01.151</td>\n",
       "      <td>0</td>\n",
       "    </tr>\n",
       "    <tr>\n",
       "      <th>1</th>\n",
       "      <td>None</td>\n",
       "      <td>[123, 34, 110, 117, 109, 98, 101, 114, 34, 58,...</td>\n",
       "      <td>RandomNumber</td>\n",
       "      <td>0</td>\n",
       "      <td>113</td>\n",
       "      <td>2022-11-07 11:23:06.167</td>\n",
       "      <td>0</td>\n",
       "    </tr>\n",
       "    <tr>\n",
       "      <th>2</th>\n",
       "      <td>None</td>\n",
       "      <td>[123, 34, 110, 117, 109, 98, 101, 114, 34, 58,...</td>\n",
       "      <td>RandomNumber</td>\n",
       "      <td>0</td>\n",
       "      <td>114</td>\n",
       "      <td>2022-11-07 11:23:11.178</td>\n",
       "      <td>0</td>\n",
       "    </tr>\n",
       "    <tr>\n",
       "      <th>3</th>\n",
       "      <td>None</td>\n",
       "      <td>[123, 34, 110, 117, 109, 98, 101, 114, 34, 58,...</td>\n",
       "      <td>RandomNumber</td>\n",
       "      <td>0</td>\n",
       "      <td>115</td>\n",
       "      <td>2022-11-07 11:23:16.193</td>\n",
       "      <td>0</td>\n",
       "    </tr>\n",
       "    <tr>\n",
       "      <th>4</th>\n",
       "      <td>None</td>\n",
       "      <td>[123, 34, 110, 117, 109, 98, 101, 114, 34, 58,...</td>\n",
       "      <td>RandomNumber</td>\n",
       "      <td>0</td>\n",
       "      <td>116</td>\n",
       "      <td>2022-11-07 11:23:21.195</td>\n",
       "      <td>0</td>\n",
       "    </tr>\n",
       "    <tr>\n",
       "      <th>...</th>\n",
       "      <td>...</td>\n",
       "      <td>...</td>\n",
       "      <td>...</td>\n",
       "      <td>...</td>\n",
       "      <td>...</td>\n",
       "      <td>...</td>\n",
       "      <td>...</td>\n",
       "    </tr>\n",
       "    <tr>\n",
       "      <th>99</th>\n",
       "      <td>None</td>\n",
       "      <td>[123, 34, 110, 117, 109, 98, 101, 114, 34, 58,...</td>\n",
       "      <td>RandomNumber</td>\n",
       "      <td>0</td>\n",
       "      <td>211</td>\n",
       "      <td>2022-11-15 11:57:36.494</td>\n",
       "      <td>0</td>\n",
       "    </tr>\n",
       "    <tr>\n",
       "      <th>100</th>\n",
       "      <td>None</td>\n",
       "      <td>[123, 34, 110, 117, 109, 98, 101, 114, 34, 58,...</td>\n",
       "      <td>RandomNumber</td>\n",
       "      <td>0</td>\n",
       "      <td>212</td>\n",
       "      <td>2022-11-15 11:57:41.511</td>\n",
       "      <td>0</td>\n",
       "    </tr>\n",
       "    <tr>\n",
       "      <th>101</th>\n",
       "      <td>None</td>\n",
       "      <td>[123, 34, 110, 117, 109, 98, 101, 114, 34, 58,...</td>\n",
       "      <td>RandomNumber</td>\n",
       "      <td>0</td>\n",
       "      <td>213</td>\n",
       "      <td>2022-11-15 11:57:46.521</td>\n",
       "      <td>0</td>\n",
       "    </tr>\n",
       "    <tr>\n",
       "      <th>102</th>\n",
       "      <td>None</td>\n",
       "      <td>[123, 34, 110, 117, 109, 98, 101, 114, 34, 58,...</td>\n",
       "      <td>RandomNumber</td>\n",
       "      <td>0</td>\n",
       "      <td>214</td>\n",
       "      <td>2022-11-15 11:57:51.536</td>\n",
       "      <td>0</td>\n",
       "    </tr>\n",
       "    <tr>\n",
       "      <th>103</th>\n",
       "      <td>None</td>\n",
       "      <td>[123, 34, 110, 117, 109, 98, 101, 114, 34, 58,...</td>\n",
       "      <td>RandomNumber</td>\n",
       "      <td>0</td>\n",
       "      <td>215</td>\n",
       "      <td>2022-11-15 11:57:56.580</td>\n",
       "      <td>0</td>\n",
       "    </tr>\n",
       "  </tbody>\n",
       "</table>\n",
       "<p>104 rows × 7 columns</p>\n",
       "</div>"
      ],
      "text/plain": [
       "      key                                              value         topic  \\\n",
       "0    None  [123, 34, 110, 117, 109, 98, 101, 114, 34, 58,...  RandomNumber   \n",
       "1    None  [123, 34, 110, 117, 109, 98, 101, 114, 34, 58,...  RandomNumber   \n",
       "2    None  [123, 34, 110, 117, 109, 98, 101, 114, 34, 58,...  RandomNumber   \n",
       "3    None  [123, 34, 110, 117, 109, 98, 101, 114, 34, 58,...  RandomNumber   \n",
       "4    None  [123, 34, 110, 117, 109, 98, 101, 114, 34, 58,...  RandomNumber   \n",
       "..    ...                                                ...           ...   \n",
       "99   None  [123, 34, 110, 117, 109, 98, 101, 114, 34, 58,...  RandomNumber   \n",
       "100  None  [123, 34, 110, 117, 109, 98, 101, 114, 34, 58,...  RandomNumber   \n",
       "101  None  [123, 34, 110, 117, 109, 98, 101, 114, 34, 58,...  RandomNumber   \n",
       "102  None  [123, 34, 110, 117, 109, 98, 101, 114, 34, 58,...  RandomNumber   \n",
       "103  None  [123, 34, 110, 117, 109, 98, 101, 114, 34, 58,...  RandomNumber   \n",
       "\n",
       "     partition  offset               timestamp  timestampType  \n",
       "0            0     112 2022-11-07 11:23:01.151              0  \n",
       "1            0     113 2022-11-07 11:23:06.167              0  \n",
       "2            0     114 2022-11-07 11:23:11.178              0  \n",
       "3            0     115 2022-11-07 11:23:16.193              0  \n",
       "4            0     116 2022-11-07 11:23:21.195              0  \n",
       "..         ...     ...                     ...            ...  \n",
       "99           0     211 2022-11-15 11:57:36.494              0  \n",
       "100          0     212 2022-11-15 11:57:41.511              0  \n",
       "101          0     213 2022-11-15 11:57:46.521              0  \n",
       "102          0     214 2022-11-15 11:57:51.536              0  \n",
       "103          0     215 2022-11-15 11:57:56.580              0  \n",
       "\n",
       "[104 rows x 7 columns]"
      ]
     },
     "execution_count": 4,
     "metadata": {},
     "output_type": "execute_result"
    }
   ],
   "source": [
    "#show data\n",
    "kafkaDf.toPandas()"
   ]
  },
  {
   "cell_type": "code",
   "execution_count": 5,
   "metadata": {},
   "outputs": [
    {
     "data": {
      "text/plain": [
       "105"
      ]
     },
     "execution_count": 5,
     "metadata": {},
     "output_type": "execute_result"
    }
   ],
   "source": [
    "len(kafkaDf.toPandas())"
   ]
  },
  {
   "cell_type": "code",
   "execution_count": 6,
   "metadata": {},
   "outputs": [],
   "source": [
    "from dis import dis\n",
    "from time import sleep\n",
    "from traceback import print_tb\n",
    "from IPython.display import display,clear_output"
   ]
  },
  {
   "cell_type": "code",
   "execution_count": 7,
   "metadata": {},
   "outputs": [],
   "source": [
    "#show streaming data using for loop\n",
    "batchDF=kafkaDf.select(col('topic'),col('offset'),col('value').cast('string').substr(12,1).alias('rand_number'))"
   ]
  },
  {
   "cell_type": "code",
   "execution_count": 8,
   "metadata": {},
   "outputs": [
    {
     "data": {
      "text/html": [
       "<div>\n",
       "<style scoped>\n",
       "    .dataframe tbody tr th:only-of-type {\n",
       "        vertical-align: middle;\n",
       "    }\n",
       "\n",
       "    .dataframe tbody tr th {\n",
       "        vertical-align: top;\n",
       "    }\n",
       "\n",
       "    .dataframe thead th {\n",
       "        text-align: right;\n",
       "    }\n",
       "</style>\n",
       "<table border=\"1\" class=\"dataframe\">\n",
       "  <thead>\n",
       "    <tr style=\"text-align: right;\">\n",
       "      <th></th>\n",
       "      <th>topic</th>\n",
       "      <th>offset</th>\n",
       "      <th>rand_number</th>\n",
       "    </tr>\n",
       "  </thead>\n",
       "  <tbody>\n",
       "    <tr>\n",
       "      <th>0</th>\n",
       "      <td>RandomNumber</td>\n",
       "      <td>112</td>\n",
       "      <td>0</td>\n",
       "    </tr>\n",
       "    <tr>\n",
       "      <th>1</th>\n",
       "      <td>RandomNumber</td>\n",
       "      <td>113</td>\n",
       "      <td>1</td>\n",
       "    </tr>\n",
       "    <tr>\n",
       "      <th>2</th>\n",
       "      <td>RandomNumber</td>\n",
       "      <td>114</td>\n",
       "      <td>2</td>\n",
       "    </tr>\n",
       "    <tr>\n",
       "      <th>3</th>\n",
       "      <td>RandomNumber</td>\n",
       "      <td>115</td>\n",
       "      <td>3</td>\n",
       "    </tr>\n",
       "    <tr>\n",
       "      <th>4</th>\n",
       "      <td>RandomNumber</td>\n",
       "      <td>116</td>\n",
       "      <td>4</td>\n",
       "    </tr>\n",
       "    <tr>\n",
       "      <th>...</th>\n",
       "      <td>...</td>\n",
       "      <td>...</td>\n",
       "      <td>...</td>\n",
       "    </tr>\n",
       "    <tr>\n",
       "      <th>102</th>\n",
       "      <td>RandomNumber</td>\n",
       "      <td>214</td>\n",
       "      <td>4</td>\n",
       "    </tr>\n",
       "    <tr>\n",
       "      <th>103</th>\n",
       "      <td>RandomNumber</td>\n",
       "      <td>215</td>\n",
       "      <td>5</td>\n",
       "    </tr>\n",
       "    <tr>\n",
       "      <th>104</th>\n",
       "      <td>RandomNumber</td>\n",
       "      <td>216</td>\n",
       "      <td>5</td>\n",
       "    </tr>\n",
       "    <tr>\n",
       "      <th>105</th>\n",
       "      <td>RandomNumber</td>\n",
       "      <td>217</td>\n",
       "      <td>5</td>\n",
       "    </tr>\n",
       "    <tr>\n",
       "      <th>106</th>\n",
       "      <td>RandomNumber</td>\n",
       "      <td>218</td>\n",
       "      <td>5</td>\n",
       "    </tr>\n",
       "  </tbody>\n",
       "</table>\n",
       "<p>107 rows × 3 columns</p>\n",
       "</div>"
      ],
      "text/plain": [
       "            topic  offset rand_number\n",
       "0    RandomNumber     112           0\n",
       "1    RandomNumber     113           1\n",
       "2    RandomNumber     114           2\n",
       "3    RandomNumber     115           3\n",
       "4    RandomNumber     116           4\n",
       "..            ...     ...         ...\n",
       "102  RandomNumber     214           4\n",
       "103  RandomNumber     215           5\n",
       "104  RandomNumber     216           5\n",
       "105  RandomNumber     217           5\n",
       "106  RandomNumber     218           5\n",
       "\n",
       "[107 rows x 3 columns]"
      ]
     },
     "metadata": {},
     "output_type": "display_data"
    }
   ],
   "source": [
    "display(batchDF.toPandas())"
   ]
  },
  {
   "cell_type": "code",
   "execution_count": 9,
   "metadata": {},
   "outputs": [
    {
     "name": "stdout",
     "output_type": "stream",
     "text": [
      "Showing live view refreshed every 5 seconds\n",
      "Sencond passed: 80\n"
     ]
    },
    {
     "data": {
      "text/html": [
       "<div>\n",
       "<style scoped>\n",
       "    .dataframe tbody tr th:only-of-type {\n",
       "        vertical-align: middle;\n",
       "    }\n",
       "\n",
       "    .dataframe tbody tr th {\n",
       "        vertical-align: top;\n",
       "    }\n",
       "\n",
       "    .dataframe thead th {\n",
       "        text-align: right;\n",
       "    }\n",
       "</style>\n",
       "<table border=\"1\" class=\"dataframe\">\n",
       "  <thead>\n",
       "    <tr style=\"text-align: right;\">\n",
       "      <th></th>\n",
       "      <th>topic</th>\n",
       "      <th>offset</th>\n",
       "      <th>rand_number</th>\n",
       "    </tr>\n",
       "  </thead>\n",
       "  <tbody>\n",
       "    <tr>\n",
       "      <th>0</th>\n",
       "      <td>RandomNumber</td>\n",
       "      <td>112</td>\n",
       "      <td>0</td>\n",
       "    </tr>\n",
       "    <tr>\n",
       "      <th>1</th>\n",
       "      <td>RandomNumber</td>\n",
       "      <td>113</td>\n",
       "      <td>1</td>\n",
       "    </tr>\n",
       "    <tr>\n",
       "      <th>2</th>\n",
       "      <td>RandomNumber</td>\n",
       "      <td>114</td>\n",
       "      <td>2</td>\n",
       "    </tr>\n",
       "    <tr>\n",
       "      <th>3</th>\n",
       "      <td>RandomNumber</td>\n",
       "      <td>115</td>\n",
       "      <td>3</td>\n",
       "    </tr>\n",
       "    <tr>\n",
       "      <th>4</th>\n",
       "      <td>RandomNumber</td>\n",
       "      <td>116</td>\n",
       "      <td>4</td>\n",
       "    </tr>\n",
       "    <tr>\n",
       "      <th>...</th>\n",
       "      <td>...</td>\n",
       "      <td>...</td>\n",
       "      <td>...</td>\n",
       "    </tr>\n",
       "    <tr>\n",
       "      <th>120</th>\n",
       "      <td>RandomNumber</td>\n",
       "      <td>232</td>\n",
       "      <td>6</td>\n",
       "    </tr>\n",
       "    <tr>\n",
       "      <th>121</th>\n",
       "      <td>RandomNumber</td>\n",
       "      <td>233</td>\n",
       "      <td>6</td>\n",
       "    </tr>\n",
       "    <tr>\n",
       "      <th>122</th>\n",
       "      <td>RandomNumber</td>\n",
       "      <td>234</td>\n",
       "      <td>6</td>\n",
       "    </tr>\n",
       "    <tr>\n",
       "      <th>123</th>\n",
       "      <td>RandomNumber</td>\n",
       "      <td>235</td>\n",
       "      <td>7</td>\n",
       "    </tr>\n",
       "    <tr>\n",
       "      <th>124</th>\n",
       "      <td>RandomNumber</td>\n",
       "      <td>236</td>\n",
       "      <td>7</td>\n",
       "    </tr>\n",
       "  </tbody>\n",
       "</table>\n",
       "<p>125 rows × 3 columns</p>\n",
       "</div>"
      ],
      "text/plain": [
       "            topic  offset rand_number\n",
       "0    RandomNumber     112           0\n",
       "1    RandomNumber     113           1\n",
       "2    RandomNumber     114           2\n",
       "3    RandomNumber     115           3\n",
       "4    RandomNumber     116           4\n",
       "..            ...     ...         ...\n",
       "120  RandomNumber     232           6\n",
       "121  RandomNumber     233           6\n",
       "122  RandomNumber     234           6\n",
       "123  RandomNumber     235           7\n",
       "124  RandomNumber     236           7\n",
       "\n",
       "[125 rows x 3 columns]"
      ]
     },
     "metadata": {},
     "output_type": "display_data"
    },
    {
     "name": "stdout",
     "output_type": "stream",
     "text": [
      "break\n",
      "Live view ends ...\n"
     ]
    }
   ],
   "source": [
    "\n",
    "for x in range(0,2000):\n",
    "    try:\n",
    "        print(\"Showing live view refreshed every 5 seconds\")\n",
    "        print(f\"Sencond passed: {x*5}\")\n",
    "        display(batchDF.toPandas())\n",
    "        sleep(5)\n",
    "        clear_output(wait=True)\n",
    "    except KeyboardInterrupt:\n",
    "        print(\"break\")\n",
    "        break\n",
    "print(\"Live view ends ...\")"
   ]
  },
  {
   "cell_type": "markdown",
   "metadata": {},
   "source": [
    "Perform some data aggreation and show live results"
   ]
  },
  {
   "cell_type": "code",
   "execution_count": null,
   "metadata": {},
   "outputs": [
    {
     "name": "stdout",
     "output_type": "stream",
     "text": [
      "showing live view refreshed every 5 seconds\n",
      "Second passed: 0\n"
     ]
    },
    {
     "data": {
      "text/html": [
       "<div>\n",
       "<style scoped>\n",
       "    .dataframe tbody tr th:only-of-type {\n",
       "        vertical-align: middle;\n",
       "    }\n",
       "\n",
       "    .dataframe tbody tr th {\n",
       "        vertical-align: top;\n",
       "    }\n",
       "\n",
       "    .dataframe thead th {\n",
       "        text-align: right;\n",
       "    }\n",
       "</style>\n",
       "<table border=\"1\" class=\"dataframe\">\n",
       "  <thead>\n",
       "    <tr style=\"text-align: right;\">\n",
       "      <th></th>\n",
       "      <th>rand_number</th>\n",
       "      <th>count</th>\n",
       "    </tr>\n",
       "  </thead>\n",
       "  <tbody>\n",
       "    <tr>\n",
       "      <th>0</th>\n",
       "      <td>7</td>\n",
       "      <td>1</td>\n",
       "    </tr>\n",
       "    <tr>\n",
       "      <th>1</th>\n",
       "      <td>3</td>\n",
       "      <td>1</td>\n",
       "    </tr>\n",
       "    <tr>\n",
       "      <th>2</th>\n",
       "      <td>8</td>\n",
       "      <td>1</td>\n",
       "    </tr>\n",
       "    <tr>\n",
       "      <th>3</th>\n",
       "      <td>0</td>\n",
       "      <td>1</td>\n",
       "    </tr>\n",
       "    <tr>\n",
       "      <th>4</th>\n",
       "      <td>5</td>\n",
       "      <td>1</td>\n",
       "    </tr>\n",
       "    <tr>\n",
       "      <th>5</th>\n",
       "      <td>6</td>\n",
       "      <td>1</td>\n",
       "    </tr>\n",
       "    <tr>\n",
       "      <th>6</th>\n",
       "      <td>9</td>\n",
       "      <td>1</td>\n",
       "    </tr>\n",
       "    <tr>\n",
       "      <th>7</th>\n",
       "      <td>1</td>\n",
       "      <td>1</td>\n",
       "    </tr>\n",
       "    <tr>\n",
       "      <th>8</th>\n",
       "      <td>4</td>\n",
       "      <td>1</td>\n",
       "    </tr>\n",
       "    <tr>\n",
       "      <th>9</th>\n",
       "      <td>2</td>\n",
       "      <td>1</td>\n",
       "    </tr>\n",
       "  </tbody>\n",
       "</table>\n",
       "</div>"
      ],
      "text/plain": [
       "  rand_number  count\n",
       "0           7      1\n",
       "1           3      1\n",
       "2           8      1\n",
       "3           0      1\n",
       "4           5      1\n",
       "5           6      1\n",
       "6           9      1\n",
       "7           1      1\n",
       "8           4      1\n",
       "9           2      1"
      ]
     },
     "metadata": {},
     "output_type": "display_data"
    },
    {
     "name": "stdout",
     "output_type": "stream",
     "text": [
      "break\n",
      "Live view ended\n"
     ]
    }
   ],
   "source": [
    "batchCountDF = batchDF.groupBy('rand_number').count()\n",
    "for x in range (0,2000):\n",
    "    try:\n",
    "        print('showing live view refreshed every 5 seconds')\n",
    "        print(f\"Second passed: {x*5}\")\n",
    "        display(batchCountDF.toPandas())\n",
    "        sleep(5)\n",
    "        clear_output(wait=True)\n",
    "    except KeyboardInterrupt:\n",
    "        print(\"break\")\n",
    "        break\n",
    "print(\"Live view ended\")"
   ]
  },
  {
   "cell_type": "markdown",
   "metadata": {},
   "source": [
    "Create Streaming dataframe from Kafka"
   ]
  },
  {
   "cell_type": "code",
   "execution_count": 18,
   "metadata": {},
   "outputs": [],
   "source": [
    "#startingOffset: earliest for batch  and lastest for streaming\n",
    "streamRawDf = spark.readStream.format(\"kafka\").option(\"kafka.bootstrap.servers\", kafka_server).option(\"subscribe\", topic_name).option(\"startingOffsets\",\"latest\").load()\n",
    "streamDF = streamRawDf.select(col('topic'),col('offset'),col('value').cast('string').substr(12,1).alias('rand_number'))\n",
    "checkEvenDF = streamDF.withColumn('Is_Even',col('rand_number').cast('int') % 2 == 0 )"
   ]
  },
  {
   "cell_type": "markdown",
   "metadata": {},
   "source": [
    "Write stream"
   ]
  },
  {
   "cell_type": "code",
   "execution_count": 11,
   "metadata": {},
   "outputs": [
    {
     "name": "stdout",
     "output_type": "stream",
     "text": [
      "queryNumber6927queryCheckEven6927\n"
     ]
    }
   ],
   "source": [
    "from random import randint\n",
    "randNum=str(randint(0,10000))\n",
    "q1name = \"queryNumber\"+randNum\n",
    "q2name = \"queryCheckEven\"+randNum\n",
    "\n",
    "print(q1name+q2name)"
   ]
  },
  {
   "cell_type": "code",
   "execution_count": 12,
   "metadata": {},
   "outputs": [],
   "source": [
    "stream_writer1 = (streamDF.writeStream.queryName(q1name).trigger(processingTime=\"5 seconds\").outputMode(\"append\").format(\"memory\"))\n",
    "stream_writer2 = (checkEvenDF.writeStream.queryName(q2name).trigger(processingTime=\"5 seconds\").outputMode(\"append\").format(\"memory\"))"
   ]
  },
  {
   "cell_type": "code",
   "execution_count": 13,
   "metadata": {},
   "outputs": [
    {
     "data": {
      "text/plain": [
       "False"
      ]
     },
     "execution_count": 13,
     "metadata": {},
     "output_type": "execute_result"
    }
   ],
   "source": [
    "query1 = stream_writer1.start()\n",
    "query1.awaitTermination(1)"
   ]
  },
  {
   "cell_type": "code",
   "execution_count": 14,
   "metadata": {},
   "outputs": [
    {
     "data": {
      "text/plain": [
       "False"
      ]
     },
     "execution_count": 14,
     "metadata": {},
     "output_type": "execute_result"
    }
   ],
   "source": [
    "query2 = stream_writer2.start()\n",
    "\n",
    "query2.awaitTermination(1)"
   ]
  },
  {
   "cell_type": "code",
   "execution_count": 15,
   "metadata": {},
   "outputs": [
    {
     "name": "stdout",
     "output_type": "stream",
     "text": [
      "queryNumber6927 queryCheckEven6927\n"
     ]
    }
   ],
   "source": [
    "print(query1.name+\" \"+query2.name)"
   ]
  },
  {
   "cell_type": "code",
   "execution_count": 16,
   "metadata": {},
   "outputs": [
    {
     "name": "stdout",
     "output_type": "stream",
     "text": [
      "+------------+------+-----------+\n",
      "|       topic|offset|rand_number|\n",
      "+------------+------+-----------+\n",
      "|RandomNumber|   242|          7|\n",
      "+------------+------+-----------+\n",
      "\n"
     ]
    }
   ],
   "source": [
    "spark.sql(f\"select * from {q1name}\").show()"
   ]
  },
  {
   "cell_type": "markdown",
   "metadata": {},
   "source": [
    "View streaming result"
   ]
  },
  {
   "cell_type": "code",
   "execution_count": 17,
   "metadata": {},
   "outputs": [
    {
     "data": {
      "text/html": [
       "<div>\n",
       "<style scoped>\n",
       "    .dataframe tbody tr th:only-of-type {\n",
       "        vertical-align: middle;\n",
       "    }\n",
       "\n",
       "    .dataframe tbody tr th {\n",
       "        vertical-align: top;\n",
       "    }\n",
       "\n",
       "    .dataframe thead th {\n",
       "        text-align: right;\n",
       "    }\n",
       "</style>\n",
       "<table border=\"1\" class=\"dataframe\">\n",
       "  <thead>\n",
       "    <tr style=\"text-align: right;\">\n",
       "      <th></th>\n",
       "      <th>topic</th>\n",
       "      <th>offset</th>\n",
       "      <th>rand_number</th>\n",
       "    </tr>\n",
       "  </thead>\n",
       "  <tbody>\n",
       "    <tr>\n",
       "      <th>0</th>\n",
       "      <td>RandomNumber</td>\n",
       "      <td>242</td>\n",
       "      <td>7</td>\n",
       "    </tr>\n",
       "    <tr>\n",
       "      <th>1</th>\n",
       "      <td>RandomNumber</td>\n",
       "      <td>243</td>\n",
       "      <td>7</td>\n",
       "    </tr>\n",
       "  </tbody>\n",
       "</table>\n",
       "</div>"
      ],
      "text/plain": [
       "          topic  offset rand_number\n",
       "0  RandomNumber     242           7\n",
       "1  RandomNumber     243           7"
      ]
     },
     "execution_count": 17,
     "metadata": {},
     "output_type": "execute_result"
    }
   ],
   "source": [
    "result1=spark.sql(f\"SELECT * from {query1.name}\")\n",
    "result1.toPandas()"
   ]
  },
  {
   "cell_type": "code",
   "execution_count": 31,
   "metadata": {},
   "outputs": [
    {
     "data": {
      "text/plain": [
       "'fb162849-5302-46a6-a0af-486511d5c64b'"
      ]
     },
     "execution_count": 31,
     "metadata": {},
     "output_type": "execute_result"
    }
   ],
   "source": [
    "# query1."
   ]
  },
  {
   "cell_type": "code",
   "execution_count": 19,
   "metadata": {},
   "outputs": [
    {
     "name": "stdout",
     "output_type": "stream",
     "text": [
      "Showing live view refreshed every 5 seconds\n",
      "second passed: 5\n"
     ]
    },
    {
     "data": {
      "text/html": [
       "<div>\n",
       "<style scoped>\n",
       "    .dataframe tbody tr th:only-of-type {\n",
       "        vertical-align: middle;\n",
       "    }\n",
       "\n",
       "    .dataframe tbody tr th {\n",
       "        vertical-align: top;\n",
       "    }\n",
       "\n",
       "    .dataframe thead th {\n",
       "        text-align: right;\n",
       "    }\n",
       "</style>\n",
       "<table border=\"1\" class=\"dataframe\">\n",
       "  <thead>\n",
       "    <tr style=\"text-align: right;\">\n",
       "      <th></th>\n",
       "      <th>topic</th>\n",
       "      <th>offset</th>\n",
       "      <th>rand_number</th>\n",
       "    </tr>\n",
       "  </thead>\n",
       "  <tbody>\n",
       "    <tr>\n",
       "      <th>0</th>\n",
       "      <td>RandomNumber</td>\n",
       "      <td>242</td>\n",
       "      <td>7</td>\n",
       "    </tr>\n",
       "    <tr>\n",
       "      <th>1</th>\n",
       "      <td>RandomNumber</td>\n",
       "      <td>243</td>\n",
       "      <td>7</td>\n",
       "    </tr>\n",
       "    <tr>\n",
       "      <th>2</th>\n",
       "      <td>RandomNumber</td>\n",
       "      <td>244</td>\n",
       "      <td>7</td>\n",
       "    </tr>\n",
       "    <tr>\n",
       "      <th>3</th>\n",
       "      <td>RandomNumber</td>\n",
       "      <td>245</td>\n",
       "      <td>8</td>\n",
       "    </tr>\n",
       "    <tr>\n",
       "      <th>4</th>\n",
       "      <td>RandomNumber</td>\n",
       "      <td>246</td>\n",
       "      <td>8</td>\n",
       "    </tr>\n",
       "    <tr>\n",
       "      <th>5</th>\n",
       "      <td>RandomNumber</td>\n",
       "      <td>247</td>\n",
       "      <td>8</td>\n",
       "    </tr>\n",
       "  </tbody>\n",
       "</table>\n",
       "</div>"
      ],
      "text/plain": [
       "          topic  offset rand_number\n",
       "0  RandomNumber     242           7\n",
       "1  RandomNumber     243           7\n",
       "2  RandomNumber     244           7\n",
       "3  RandomNumber     245           8\n",
       "4  RandomNumber     246           8\n",
       "5  RandomNumber     247           8"
      ]
     },
     "metadata": {},
     "output_type": "display_data"
    },
    {
     "data": {
      "text/html": [
       "<div>\n",
       "<style scoped>\n",
       "    .dataframe tbody tr th:only-of-type {\n",
       "        vertical-align: middle;\n",
       "    }\n",
       "\n",
       "    .dataframe tbody tr th {\n",
       "        vertical-align: top;\n",
       "    }\n",
       "\n",
       "    .dataframe thead th {\n",
       "        text-align: right;\n",
       "    }\n",
       "</style>\n",
       "<table border=\"1\" class=\"dataframe\">\n",
       "  <thead>\n",
       "    <tr style=\"text-align: right;\">\n",
       "      <th></th>\n",
       "      <th>topic</th>\n",
       "      <th>offset</th>\n",
       "      <th>rand_number</th>\n",
       "      <th>Is_Even</th>\n",
       "    </tr>\n",
       "  </thead>\n",
       "  <tbody>\n",
       "    <tr>\n",
       "      <th>0</th>\n",
       "      <td>RandomNumber</td>\n",
       "      <td>242</td>\n",
       "      <td>7</td>\n",
       "      <td>False</td>\n",
       "    </tr>\n",
       "    <tr>\n",
       "      <th>1</th>\n",
       "      <td>RandomNumber</td>\n",
       "      <td>243</td>\n",
       "      <td>7</td>\n",
       "      <td>False</td>\n",
       "    </tr>\n",
       "    <tr>\n",
       "      <th>2</th>\n",
       "      <td>RandomNumber</td>\n",
       "      <td>244</td>\n",
       "      <td>7</td>\n",
       "      <td>False</td>\n",
       "    </tr>\n",
       "    <tr>\n",
       "      <th>3</th>\n",
       "      <td>RandomNumber</td>\n",
       "      <td>245</td>\n",
       "      <td>8</td>\n",
       "      <td>True</td>\n",
       "    </tr>\n",
       "    <tr>\n",
       "      <th>4</th>\n",
       "      <td>RandomNumber</td>\n",
       "      <td>246</td>\n",
       "      <td>8</td>\n",
       "      <td>True</td>\n",
       "    </tr>\n",
       "    <tr>\n",
       "      <th>5</th>\n",
       "      <td>RandomNumber</td>\n",
       "      <td>247</td>\n",
       "      <td>8</td>\n",
       "      <td>True</td>\n",
       "    </tr>\n",
       "  </tbody>\n",
       "</table>\n",
       "</div>"
      ],
      "text/plain": [
       "          topic  offset rand_number  Is_Even\n",
       "0  RandomNumber     242           7    False\n",
       "1  RandomNumber     243           7    False\n",
       "2  RandomNumber     244           7    False\n",
       "3  RandomNumber     245           8     True\n",
       "4  RandomNumber     246           8     True\n",
       "5  RandomNumber     247           8     True"
      ]
     },
     "metadata": {},
     "output_type": "display_data"
    },
    {
     "name": "stdout",
     "output_type": "stream",
     "text": [
      "break\n",
      "Live view end\n"
     ]
    }
   ],
   "source": [
    "for x in range(0,2000):\n",
    "    try:\n",
    "        print(\"Showing live view refreshed every 5 seconds\")\n",
    "        print(f\"second passed: {x*5}\")\n",
    "        result1=spark.sql(f\"SELECT * from {query1.name}\")\n",
    "        result2=spark.sql(f\"SELECT * from {query2.name}\")\n",
    "        display(result1.toPandas())\n",
    "        display(result2.toPandas())\n",
    "        sleep(5)\n",
    "        clear_output(wait=True)\n",
    "    except KeyboardInterrupt:\n",
    "        print(\"break\")\n",
    "        break\n",
    "print(\"Live view end\")\n"
   ]
  }
 ],
 "metadata": {
  "kernelspec": {
   "display_name": "Python 3.10.4 ('cs231')",
   "language": "python",
   "name": "python3"
  },
  "language_info": {
   "codemirror_mode": {
    "name": "ipython",
    "version": 3
   },
   "file_extension": ".py",
   "mimetype": "text/x-python",
   "name": "python",
   "nbconvert_exporter": "python",
   "pygments_lexer": "ipython3",
   "version": "3.10.6"
  },
  "orig_nbformat": 4,
  "vscode": {
   "interpreter": {
    "hash": "59f5416c96fce867bc11ba5bb5439836c52143b711d913ce74fb5702e89c709d"
   }
  }
 },
 "nbformat": 4,
 "nbformat_minor": 2
}
