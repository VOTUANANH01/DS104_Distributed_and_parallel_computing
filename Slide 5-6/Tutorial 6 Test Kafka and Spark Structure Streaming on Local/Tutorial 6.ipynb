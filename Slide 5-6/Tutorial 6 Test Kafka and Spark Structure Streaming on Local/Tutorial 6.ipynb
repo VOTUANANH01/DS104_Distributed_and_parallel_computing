{
 "cells": [
  {
   "cell_type": "code",
   "execution_count": 1,
   "metadata": {},
   "outputs": [],
   "source": [
    "from kafka import KafkaProducer\n",
    "from json import dumps\n",
    "from time import sleep"
   ]
  },
  {
   "cell_type": "code",
   "execution_count": 2,
   "metadata": {},
   "outputs": [],
   "source": [
    "topic_name = 'RandomNumber'\n",
    "kafka_server = 'localhost:9092'"
   ]
  },
  {
   "cell_type": "code",
   "execution_count": 3,
   "metadata": {},
   "outputs": [],
   "source": [
    "producer = KafkaProducer(bootstrap_servers=kafka_server,value_serializer = lambda x:dumps(x).encode('utf-8'))\n"
   ]
  },
  {
   "cell_type": "code",
   "execution_count": 4,
   "metadata": {},
   "outputs": [
    {
     "name": "stdout",
     "output_type": "stream",
     "text": [
      "{'number': 0} sent\n",
      "{'number': 1} sent\n",
      "{'number': 2} sent\n",
      "{'number': 3} sent\n",
      "{'number': 4} sent\n",
      "{'number': 5} sent\n",
      "{'number': 6} sent\n",
      "{'number': 7} sent\n",
      "{'number': 8} sent\n",
      "{'number': 9} sent\n",
      "{'number': 10} sent\n",
      "{'number': 11} sent\n",
      "{'number': 12} sent\n",
      "{'number': 13} sent\n",
      "{'number': 14} sent\n",
      "{'number': 15} sent\n",
      "{'number': 16} sent\n",
      "{'number': 17} sent\n",
      "{'number': 18} sent\n",
      "{'number': 19} sent\n",
      "{'number': 20} sent\n",
      "{'number': 21} sent\n",
      "{'number': 22} sent\n",
      "{'number': 23} sent\n",
      "{'number': 24} sent\n",
      "{'number': 25} sent\n",
      "{'number': 26} sent\n",
      "{'number': 27} sent\n",
      "{'number': 28} sent\n",
      "{'number': 29} sent\n",
      "{'number': 30} sent\n",
      "{'number': 31} sent\n",
      "{'number': 32} sent\n",
      "{'number': 33} sent\n",
      "{'number': 34} sent\n",
      "{'number': 35} sent\n",
      "{'number': 36} sent\n",
      "{'number': 37} sent\n",
      "{'number': 38} sent\n",
      "{'number': 39} sent\n",
      "{'number': 40} sent\n",
      "{'number': 41} sent\n",
      "{'number': 42} sent\n",
      "{'number': 43} sent\n",
      "{'number': 44} sent\n",
      "{'number': 45} sent\n",
      "{'number': 46} sent\n",
      "{'number': 47} sent\n",
      "{'number': 48} sent\n",
      "{'number': 49} sent\n",
      "{'number': 50} sent\n",
      "{'number': 51} sent\n",
      "{'number': 52} sent\n",
      "{'number': 53} sent\n",
      "{'number': 54} sent\n",
      "{'number': 55} sent\n",
      "{'number': 56} sent\n",
      "{'number': 57} sent\n",
      "{'number': 58} sent\n",
      "{'number': 59} sent\n",
      "{'number': 60} sent\n",
      "{'number': 61} sent\n",
      "{'number': 62} sent\n",
      "{'number': 63} sent\n",
      "{'number': 64} sent\n",
      "{'number': 65} sent\n",
      "{'number': 66} sent\n",
      "{'number': 67} sent\n",
      "{'number': 68} sent\n",
      "{'number': 69} sent\n",
      "{'number': 70} sent\n",
      "{'number': 71} sent\n",
      "{'number': 72} sent\n",
      "{'number': 73} sent\n",
      "{'number': 74} sent\n",
      "{'number': 75} sent\n",
      "{'number': 76} sent\n",
      "{'number': 77} sent\n",
      "{'number': 78} sent\n",
      "{'number': 79} sent\n",
      "{'number': 80} sent\n",
      "{'number': 81} sent\n",
      "{'number': 82} sent\n",
      "{'number': 83} sent\n",
      "{'number': 84} sent\n"
     ]
    },
    {
     "ename": "KeyboardInterrupt",
     "evalue": "",
     "output_type": "error",
     "traceback": [
      "\u001b[1;31m---------------------------------------------------------------------------\u001b[0m",
      "\u001b[1;31mKeyboardInterrupt\u001b[0m                         Traceback (most recent call last)",
      "\u001b[1;32mf:\\tai_lieu\\Nam_4\\semester 7th\\Parallel and distributed computing\\assignment\\DS104.N11\\Slide 5-6\\Tutorial 6 Test Kafka and Spark Structure Streaming on Local\\Tutorial 6.ipynb Cell 4\u001b[0m in \u001b[0;36m<cell line: 1>\u001b[1;34m()\u001b[0m\n\u001b[0;32m      <a href='vscode-notebook-cell:/f%3A/tai_lieu/Nam_4/semester%207th/Parallel%20and%20distributed%20computing/assignment/DS104.N11/Slide%205-6/Tutorial%206%20Test%20Kafka%20and%20Spark%20Structure%20Streaming%20on%20Local/Tutorial%206.ipynb#W3sZmlsZQ%3D%3D?line=2'>3</a>\u001b[0m     producer\u001b[39m.\u001b[39msend(topic_name, value\u001b[39m=\u001b[39mdata)\n\u001b[0;32m      <a href='vscode-notebook-cell:/f%3A/tai_lieu/Nam_4/semester%207th/Parallel%20and%20distributed%20computing/assignment/DS104.N11/Slide%205-6/Tutorial%206%20Test%20Kafka%20and%20Spark%20Structure%20Streaming%20on%20Local/Tutorial%206.ipynb#W3sZmlsZQ%3D%3D?line=3'>4</a>\u001b[0m     \u001b[39mprint\u001b[39m(\u001b[39mstr\u001b[39m(data) \u001b[39m+\u001b[39m \u001b[39m\"\u001b[39m\u001b[39m sent\u001b[39m\u001b[39m\"\u001b[39m)\n\u001b[1;32m----> <a href='vscode-notebook-cell:/f%3A/tai_lieu/Nam_4/semester%207th/Parallel%20and%20distributed%20computing/assignment/DS104.N11/Slide%205-6/Tutorial%206%20Test%20Kafka%20and%20Spark%20Structure%20Streaming%20on%20Local/Tutorial%206.ipynb#W3sZmlsZQ%3D%3D?line=4'>5</a>\u001b[0m     sleep(\u001b[39m5\u001b[39;49m)\n\u001b[0;32m      <a href='vscode-notebook-cell:/f%3A/tai_lieu/Nam_4/semester%207th/Parallel%20and%20distributed%20computing/assignment/DS104.N11/Slide%205-6/Tutorial%206%20Test%20Kafka%20and%20Spark%20Structure%20Streaming%20on%20Local/Tutorial%206.ipynb#W3sZmlsZQ%3D%3D?line=5'>6</a>\u001b[0m producer\u001b[39m.\u001b[39mflush()\n",
      "\u001b[1;31mKeyboardInterrupt\u001b[0m: "
     ]
    }
   ],
   "source": [
    "for e in range(1000):\n",
    "    data = {'number' : e}\n",
    "    producer.send(topic_name, value=data)\n",
    "    print(str(data) + \" sent\")\n",
    "    sleep(5)\n",
    "producer.flush()\n",
    "  \n"
   ]
  }
 ],
 "metadata": {
  "kernelspec": {
   "display_name": "Python 3.10.6 ('cs231')",
   "language": "python",
   "name": "python3"
  },
  "language_info": {
   "codemirror_mode": {
    "name": "ipython",
    "version": 3
   },
   "file_extension": ".py",
   "mimetype": "text/x-python",
   "name": "python",
   "nbconvert_exporter": "python",
   "pygments_lexer": "ipython3",
   "version": "3.10.6"
  },
  "orig_nbformat": 4,
  "vscode": {
   "interpreter": {
    "hash": "59f5416c96fce867bc11ba5bb5439836c52143b711d913ce74fb5702e89c709d"
   }
  }
 },
 "nbformat": 4,
 "nbformat_minor": 2
}
