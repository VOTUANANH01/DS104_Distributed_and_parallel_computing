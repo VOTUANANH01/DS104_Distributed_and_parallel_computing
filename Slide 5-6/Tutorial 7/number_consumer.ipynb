{
 "cells": [
  {
   "cell_type": "code",
   "execution_count": 2,
   "metadata": {},
   "outputs": [],
   "source": [
    "\n",
    "from kafka import KafkaConsumer\n",
    "from pymongo import MongoClient\n",
    "from json import loads"
   ]
  },
  {
   "cell_type": "code",
   "execution_count": 4,
   "metadata": {},
   "outputs": [],
   "source": [
    "\n",
    "topic_name='numtest'\n",
    "consumer=KafkaConsumer(\n",
    "    topic_name,\n",
    "    bootstrap_servers=['localhost:9092'],\n",
    "    auto_offset_reset='earliest',\n",
    "    enable_auto_commit=True,\n",
    "    group_id='my_group',\n",
    "    value_deserializer=lambda x: loads(x.decode('utf-8'))\n",
    ")"
   ]
  },
  {
   "cell_type": "code",
   "execution_count": 5,
   "metadata": {},
   "outputs": [
    {
     "ename": "ServerSelectionTimeoutError",
     "evalue": "localhost:27017: [WinError 10061] No connection could be made because the target machine actively refused it, Timeout: 30s, Topology Description: <TopologyDescription id: 634e0dc111aed2387707214b, topology_type: Single, servers: [<ServerDescription ('localhost', 27017) server_type: Unknown, rtt: None, error=AutoReconnect('localhost:27017: [WinError 10061] No connection could be made because the target machine actively refused it')>]>",
     "output_type": "error",
     "traceback": [
      "\u001b[1;31m---------------------------------------------------------------------------\u001b[0m",
      "\u001b[1;31mServerSelectionTimeoutError\u001b[0m               Traceback (most recent call last)",
      "\u001b[1;32mf:\\tai_lieu\\Nam_4\\semester 7th\\Parallel and distributed computing\\assignment\\slide 5-6\\Tutorial 7\\number_consumer.ipynb Cell 3\u001b[0m in \u001b[0;36m<cell line: 4>\u001b[1;34m()\u001b[0m\n\u001b[0;32m      <a href='vscode-notebook-cell:/f%3A/tai_lieu/Nam_4/semester%207th/Parallel%20and%20distributed%20computing/assignment/slide%205-6/Tutorial%207/number_consumer.ipynb#W2sZmlsZQ%3D%3D?line=3'>4</a>\u001b[0m \u001b[39mfor\u001b[39;00m message \u001b[39min\u001b[39;00m consumer:\n\u001b[0;32m      <a href='vscode-notebook-cell:/f%3A/tai_lieu/Nam_4/semester%207th/Parallel%20and%20distributed%20computing/assignment/slide%205-6/Tutorial%207/number_consumer.ipynb#W2sZmlsZQ%3D%3D?line=4'>5</a>\u001b[0m     message\u001b[39m=\u001b[39mmessage\u001b[39m.\u001b[39mvalue\n\u001b[1;32m----> <a href='vscode-notebook-cell:/f%3A/tai_lieu/Nam_4/semester%207th/Parallel%20and%20distributed%20computing/assignment/slide%205-6/Tutorial%207/number_consumer.ipynb#W2sZmlsZQ%3D%3D?line=5'>6</a>\u001b[0m     collection\u001b[39m.\u001b[39;49minsert_one(message)\n\u001b[0;32m      <a href='vscode-notebook-cell:/f%3A/tai_lieu/Nam_4/semester%207th/Parallel%20and%20distributed%20computing/assignment/slide%205-6/Tutorial%207/number_consumer.ipynb#W2sZmlsZQ%3D%3D?line=6'>7</a>\u001b[0m     \u001b[39mprint\u001b[39m(\u001b[39m'\u001b[39m\u001b[39m{}\u001b[39;00m\u001b[39m addd to \u001b[39m\u001b[39m{}\u001b[39;00m\u001b[39m'\u001b[39m\u001b[39m.\u001b[39mformat(message,collection))\n",
      "File \u001b[1;32md:\\anconda\\envs\\cs231\\lib\\site-packages\\pymongo\\collection.py:705\u001b[0m, in \u001b[0;36mCollection.insert_one\u001b[1;34m(self, document, bypass_document_validation, session)\u001b[0m\n\u001b[0;32m    701\u001b[0m     document[\u001b[39m\"\u001b[39m\u001b[39m_id\u001b[39m\u001b[39m\"\u001b[39m] \u001b[39m=\u001b[39m ObjectId()\n\u001b[0;32m    703\u001b[0m write_concern \u001b[39m=\u001b[39m \u001b[39mself\u001b[39m\u001b[39m.\u001b[39m_write_concern_for(session)\n\u001b[0;32m    704\u001b[0m \u001b[39mreturn\u001b[39;00m InsertOneResult(\n\u001b[1;32m--> 705\u001b[0m     \u001b[39mself\u001b[39;49m\u001b[39m.\u001b[39;49m_insert(document,\n\u001b[0;32m    706\u001b[0m                  write_concern\u001b[39m=\u001b[39;49mwrite_concern,\n\u001b[0;32m    707\u001b[0m                  bypass_doc_val\u001b[39m=\u001b[39;49mbypass_document_validation,\n\u001b[0;32m    708\u001b[0m                  session\u001b[39m=\u001b[39;49msession),\n\u001b[0;32m    709\u001b[0m     write_concern\u001b[39m.\u001b[39macknowledged)\n",
      "File \u001b[1;32md:\\anconda\\envs\\cs231\\lib\\site-packages\\pymongo\\collection.py:620\u001b[0m, in \u001b[0;36mCollection._insert\u001b[1;34m(self, docs, ordered, check_keys, manipulate, write_concern, op_id, bypass_doc_val, session)\u001b[0m\n\u001b[0;32m    618\u001b[0m \u001b[39m\"\"\"Internal insert helper.\"\"\"\u001b[39;00m\n\u001b[0;32m    619\u001b[0m \u001b[39mif\u001b[39;00m \u001b[39misinstance\u001b[39m(docs, abc\u001b[39m.\u001b[39mMapping):\n\u001b[1;32m--> 620\u001b[0m     \u001b[39mreturn\u001b[39;00m \u001b[39mself\u001b[39;49m\u001b[39m.\u001b[39;49m_insert_one(\n\u001b[0;32m    621\u001b[0m         docs, ordered, check_keys, manipulate, write_concern, op_id,\n\u001b[0;32m    622\u001b[0m         bypass_doc_val, session)\n\u001b[0;32m    624\u001b[0m ids \u001b[39m=\u001b[39m []\n\u001b[0;32m    626\u001b[0m \u001b[39mif\u001b[39;00m manipulate:\n",
      "File \u001b[1;32md:\\anconda\\envs\\cs231\\lib\\site-packages\\pymongo\\collection.py:609\u001b[0m, in \u001b[0;36mCollection._insert_one\u001b[1;34m(self, doc, ordered, check_keys, manipulate, write_concern, op_id, bypass_doc_val, session)\u001b[0m\n\u001b[0;32m    597\u001b[0m     result \u001b[39m=\u001b[39m sock_info\u001b[39m.\u001b[39mcommand(\n\u001b[0;32m    598\u001b[0m         \u001b[39mself\u001b[39m\u001b[39m.\u001b[39m__database\u001b[39m.\u001b[39mname,\n\u001b[0;32m    599\u001b[0m         command,\n\u001b[1;32m   (...)\u001b[0m\n\u001b[0;32m    604\u001b[0m         client\u001b[39m=\u001b[39m\u001b[39mself\u001b[39m\u001b[39m.\u001b[39m__database\u001b[39m.\u001b[39mclient,\n\u001b[0;32m    605\u001b[0m         retryable_write\u001b[39m=\u001b[39mretryable_write)\n\u001b[0;32m    607\u001b[0m     _check_write_command_response(result)\n\u001b[1;32m--> 609\u001b[0m \u001b[39mself\u001b[39;49m\u001b[39m.\u001b[39;49m__database\u001b[39m.\u001b[39;49mclient\u001b[39m.\u001b[39;49m_retryable_write(\n\u001b[0;32m    610\u001b[0m     acknowledged, _insert_command, session)\n\u001b[0;32m    612\u001b[0m \u001b[39mif\u001b[39;00m \u001b[39mnot\u001b[39;00m \u001b[39misinstance\u001b[39m(doc, RawBSONDocument):\n\u001b[0;32m    613\u001b[0m     \u001b[39mreturn\u001b[39;00m doc\u001b[39m.\u001b[39mget(\u001b[39m'\u001b[39m\u001b[39m_id\u001b[39m\u001b[39m'\u001b[39m)\n",
      "File \u001b[1;32md:\\anconda\\envs\\cs231\\lib\\site-packages\\pymongo\\mongo_client.py:1551\u001b[0m, in \u001b[0;36mMongoClient._retryable_write\u001b[1;34m(self, retryable, func, session)\u001b[0m\n\u001b[0;32m   1549\u001b[0m \u001b[39mdef\u001b[39;00m \u001b[39m_retryable_write\u001b[39m(\u001b[39mself\u001b[39m, retryable, func, session):\n\u001b[0;32m   1550\u001b[0m     \u001b[39m\"\"\"Internal retryable write helper.\"\"\"\u001b[39;00m\n\u001b[1;32m-> 1551\u001b[0m     \u001b[39mwith\u001b[39;00m \u001b[39mself\u001b[39m\u001b[39m.\u001b[39m_tmp_session(session) \u001b[39mas\u001b[39;00m s:\n\u001b[0;32m   1552\u001b[0m         \u001b[39mreturn\u001b[39;00m \u001b[39mself\u001b[39m\u001b[39m.\u001b[39m_retry_with_session(retryable, func, s, \u001b[39mNone\u001b[39;00m)\n",
      "File \u001b[1;32md:\\anconda\\envs\\cs231\\lib\\contextlib.py:135\u001b[0m, in \u001b[0;36m_GeneratorContextManager.__enter__\u001b[1;34m(self)\u001b[0m\n\u001b[0;32m    133\u001b[0m \u001b[39mdel\u001b[39;00m \u001b[39mself\u001b[39m\u001b[39m.\u001b[39margs, \u001b[39mself\u001b[39m\u001b[39m.\u001b[39mkwds, \u001b[39mself\u001b[39m\u001b[39m.\u001b[39mfunc\n\u001b[0;32m    134\u001b[0m \u001b[39mtry\u001b[39;00m:\n\u001b[1;32m--> 135\u001b[0m     \u001b[39mreturn\u001b[39;00m \u001b[39mnext\u001b[39;49m(\u001b[39mself\u001b[39;49m\u001b[39m.\u001b[39;49mgen)\n\u001b[0;32m    136\u001b[0m \u001b[39mexcept\u001b[39;00m \u001b[39mStopIteration\u001b[39;00m:\n\u001b[0;32m    137\u001b[0m     \u001b[39mraise\u001b[39;00m \u001b[39mRuntimeError\u001b[39;00m(\u001b[39m\"\u001b[39m\u001b[39mgenerator didn\u001b[39m\u001b[39m'\u001b[39m\u001b[39mt yield\u001b[39m\u001b[39m\"\u001b[39m) \u001b[39mfrom\u001b[39;00m \u001b[39mNone\u001b[39m\n",
      "File \u001b[1;32md:\\anconda\\envs\\cs231\\lib\\site-packages\\pymongo\\mongo_client.py:1948\u001b[0m, in \u001b[0;36mMongoClient._tmp_session\u001b[1;34m(self, session, close)\u001b[0m\n\u001b[0;32m   1945\u001b[0m     \u001b[39myield\u001b[39;00m session\n\u001b[0;32m   1946\u001b[0m     \u001b[39mreturn\u001b[39;00m\n\u001b[1;32m-> 1948\u001b[0m s \u001b[39m=\u001b[39m \u001b[39mself\u001b[39;49m\u001b[39m.\u001b[39;49m_ensure_session(session)\n\u001b[0;32m   1949\u001b[0m \u001b[39mif\u001b[39;00m s:\n\u001b[0;32m   1950\u001b[0m     \u001b[39mtry\u001b[39;00m:\n",
      "File \u001b[1;32md:\\anconda\\envs\\cs231\\lib\\site-packages\\pymongo\\mongo_client.py:1935\u001b[0m, in \u001b[0;36mMongoClient._ensure_session\u001b[1;34m(self, session)\u001b[0m\n\u001b[0;32m   1930\u001b[0m     \u001b[39mreturn\u001b[39;00m session\n\u001b[0;32m   1932\u001b[0m \u001b[39mtry\u001b[39;00m:\n\u001b[0;32m   1933\u001b[0m     \u001b[39m# Don't make implicit sessions causally consistent. Applications\u001b[39;00m\n\u001b[0;32m   1934\u001b[0m     \u001b[39m# should always opt-in.\u001b[39;00m\n\u001b[1;32m-> 1935\u001b[0m     \u001b[39mreturn\u001b[39;00m \u001b[39mself\u001b[39;49m\u001b[39m.\u001b[39;49m__start_session(\u001b[39mTrue\u001b[39;49;00m, causal_consistency\u001b[39m=\u001b[39;49m\u001b[39mFalse\u001b[39;49;00m)\n\u001b[0;32m   1936\u001b[0m \u001b[39mexcept\u001b[39;00m (ConfigurationError, InvalidOperation):\n\u001b[0;32m   1937\u001b[0m     \u001b[39m# Sessions not supported, or multiple users authenticated.\u001b[39;00m\n\u001b[0;32m   1938\u001b[0m     \u001b[39mreturn\u001b[39;00m \u001b[39mNone\u001b[39;00m\n",
      "File \u001b[1;32md:\\anconda\\envs\\cs231\\lib\\site-packages\\pymongo\\mongo_client.py:1883\u001b[0m, in \u001b[0;36mMongoClient.__start_session\u001b[1;34m(self, implicit, **kwargs)\u001b[0m\n\u001b[0;32m   1879\u001b[0m     \u001b[39mraise\u001b[39;00m InvalidOperation(\u001b[39m\"\u001b[39m\u001b[39mCannot call start_session when\u001b[39m\u001b[39m\"\u001b[39m\n\u001b[0;32m   1880\u001b[0m                            \u001b[39m\"\u001b[39m\u001b[39m multiple users are authenticated\u001b[39m\u001b[39m\"\u001b[39m)\n\u001b[0;32m   1882\u001b[0m \u001b[39m# Raises ConfigurationError if sessions are not supported.\u001b[39;00m\n\u001b[1;32m-> 1883\u001b[0m server_session \u001b[39m=\u001b[39m \u001b[39mself\u001b[39;49m\u001b[39m.\u001b[39;49m_get_server_session()\n\u001b[0;32m   1884\u001b[0m opts \u001b[39m=\u001b[39m client_session\u001b[39m.\u001b[39mSessionOptions(\u001b[39m*\u001b[39m\u001b[39m*\u001b[39mkwargs)\n\u001b[0;32m   1885\u001b[0m \u001b[39mreturn\u001b[39;00m client_session\u001b[39m.\u001b[39mClientSession(\n\u001b[0;32m   1886\u001b[0m     \u001b[39mself\u001b[39m, server_session, opts, authset, implicit)\n",
      "File \u001b[1;32md:\\anconda\\envs\\cs231\\lib\\site-packages\\pymongo\\mongo_client.py:1921\u001b[0m, in \u001b[0;36mMongoClient._get_server_session\u001b[1;34m(self)\u001b[0m\n\u001b[0;32m   1919\u001b[0m \u001b[39mdef\u001b[39;00m \u001b[39m_get_server_session\u001b[39m(\u001b[39mself\u001b[39m):\n\u001b[0;32m   1920\u001b[0m     \u001b[39m\"\"\"Internal: start or resume a _ServerSession.\"\"\"\u001b[39;00m\n\u001b[1;32m-> 1921\u001b[0m     \u001b[39mreturn\u001b[39;00m \u001b[39mself\u001b[39;49m\u001b[39m.\u001b[39;49m_topology\u001b[39m.\u001b[39;49mget_server_session()\n",
      "File \u001b[1;32md:\\anconda\\envs\\cs231\\lib\\site-packages\\pymongo\\topology.py:520\u001b[0m, in \u001b[0;36mTopology.get_server_session\u001b[1;34m(self)\u001b[0m\n\u001b[0;32m    517\u001b[0m \u001b[39mwith\u001b[39;00m \u001b[39mself\u001b[39m\u001b[39m.\u001b[39m_lock:\n\u001b[0;32m    518\u001b[0m     \u001b[39m# Sessions are always supported in load balanced mode.\u001b[39;00m\n\u001b[0;32m    519\u001b[0m     \u001b[39mif\u001b[39;00m \u001b[39mnot\u001b[39;00m \u001b[39mself\u001b[39m\u001b[39m.\u001b[39m_settings\u001b[39m.\u001b[39mload_balanced:\n\u001b[1;32m--> 520\u001b[0m         session_timeout \u001b[39m=\u001b[39m \u001b[39mself\u001b[39;49m\u001b[39m.\u001b[39;49m_check_session_support()\n\u001b[0;32m    521\u001b[0m     \u001b[39melse\u001b[39;00m:\n\u001b[0;32m    522\u001b[0m         \u001b[39m# Sessions never time out in load balanced mode.\u001b[39;00m\n\u001b[0;32m    523\u001b[0m         session_timeout \u001b[39m=\u001b[39m \u001b[39mfloat\u001b[39m(\u001b[39m'\u001b[39m\u001b[39minf\u001b[39m\u001b[39m'\u001b[39m)\n",
      "File \u001b[1;32md:\\anconda\\envs\\cs231\\lib\\site-packages\\pymongo\\topology.py:499\u001b[0m, in \u001b[0;36mTopology._check_session_support\u001b[1;34m(self)\u001b[0m\n\u001b[0;32m    497\u001b[0m \u001b[39mif\u001b[39;00m \u001b[39mself\u001b[39m\u001b[39m.\u001b[39m_description\u001b[39m.\u001b[39mtopology_type \u001b[39m==\u001b[39m TOPOLOGY_TYPE\u001b[39m.\u001b[39mSingle:\n\u001b[0;32m    498\u001b[0m     \u001b[39mif\u001b[39;00m \u001b[39mnot\u001b[39;00m \u001b[39mself\u001b[39m\u001b[39m.\u001b[39m_description\u001b[39m.\u001b[39mhas_known_servers:\n\u001b[1;32m--> 499\u001b[0m         \u001b[39mself\u001b[39;49m\u001b[39m.\u001b[39;49m_select_servers_loop(\n\u001b[0;32m    500\u001b[0m             any_server_selector,\n\u001b[0;32m    501\u001b[0m             \u001b[39mself\u001b[39;49m\u001b[39m.\u001b[39;49m_settings\u001b[39m.\u001b[39;49mserver_selection_timeout,\n\u001b[0;32m    502\u001b[0m             \u001b[39mNone\u001b[39;49;00m)\n\u001b[0;32m    503\u001b[0m \u001b[39melif\u001b[39;00m \u001b[39mnot\u001b[39;00m \u001b[39mself\u001b[39m\u001b[39m.\u001b[39m_description\u001b[39m.\u001b[39mreadable_servers:\n\u001b[0;32m    504\u001b[0m     \u001b[39mself\u001b[39m\u001b[39m.\u001b[39m_select_servers_loop(\n\u001b[0;32m    505\u001b[0m         readable_server_selector,\n\u001b[0;32m    506\u001b[0m         \u001b[39mself\u001b[39m\u001b[39m.\u001b[39m_settings\u001b[39m.\u001b[39mserver_selection_timeout,\n\u001b[0;32m    507\u001b[0m         \u001b[39mNone\u001b[39;00m)\n",
      "File \u001b[1;32md:\\anconda\\envs\\cs231\\lib\\site-packages\\pymongo\\topology.py:218\u001b[0m, in \u001b[0;36mTopology._select_servers_loop\u001b[1;34m(self, selector, timeout, address)\u001b[0m\n\u001b[0;32m    215\u001b[0m \u001b[39mwhile\u001b[39;00m \u001b[39mnot\u001b[39;00m server_descriptions:\n\u001b[0;32m    216\u001b[0m     \u001b[39m# No suitable servers.\u001b[39;00m\n\u001b[0;32m    217\u001b[0m     \u001b[39mif\u001b[39;00m timeout \u001b[39m==\u001b[39m \u001b[39m0\u001b[39m \u001b[39mor\u001b[39;00m now \u001b[39m>\u001b[39m end_time:\n\u001b[1;32m--> 218\u001b[0m         \u001b[39mraise\u001b[39;00m ServerSelectionTimeoutError(\n\u001b[0;32m    219\u001b[0m             \u001b[39m\"\u001b[39m\u001b[39m%s\u001b[39;00m\u001b[39m, Timeout: \u001b[39m\u001b[39m%s\u001b[39;00m\u001b[39ms, Topology Description: \u001b[39m\u001b[39m%r\u001b[39;00m\u001b[39m\"\u001b[39m \u001b[39m%\u001b[39m\n\u001b[0;32m    220\u001b[0m             (\u001b[39mself\u001b[39m\u001b[39m.\u001b[39m_error_message(selector), timeout, \u001b[39mself\u001b[39m\u001b[39m.\u001b[39mdescription))\n\u001b[0;32m    222\u001b[0m     \u001b[39mself\u001b[39m\u001b[39m.\u001b[39m_ensure_opened()\n\u001b[0;32m    223\u001b[0m     \u001b[39mself\u001b[39m\u001b[39m.\u001b[39m_request_check_all()\n",
      "\u001b[1;31mServerSelectionTimeoutError\u001b[0m: localhost:27017: [WinError 10061] No connection could be made because the target machine actively refused it, Timeout: 30s, Topology Description: <TopologyDescription id: 634e0dc111aed2387707214b, topology_type: Single, servers: [<ServerDescription ('localhost', 27017) server_type: Unknown, rtt: None, error=AutoReconnect('localhost:27017: [WinError 10061] No connection could be made because the target machine actively refused it')>]>"
     ]
    }
   ],
   "source": [
    "client=MongoClient('localhost:27017')\n",
    "collection = client.numtest.numtest\n",
    "\n",
    "for message in consumer:\n",
    "    message=message.value\n",
    "    collection.insert_one(message)\n",
    "    print('{} addd to {}'.format(message,collection))"
   ]
  }
 ],
 "metadata": {
  "kernelspec": {
   "display_name": "Python 3.10.6 ('cs231')",
   "language": "python",
   "name": "python3"
  },
  "language_info": {
   "codemirror_mode": {
    "name": "ipython",
    "version": 3
   },
   "file_extension": ".py",
   "mimetype": "text/x-python",
   "name": "python",
   "nbconvert_exporter": "python",
   "pygments_lexer": "ipython3",
   "version": "3.10.6"
  },
  "orig_nbformat": 4,
  "vscode": {
   "interpreter": {
    "hash": "59f5416c96fce867bc11ba5bb5439836c52143b711d913ce74fb5702e89c709d"
   }
  }
 },
 "nbformat": 4,
 "nbformat_minor": 2
}
