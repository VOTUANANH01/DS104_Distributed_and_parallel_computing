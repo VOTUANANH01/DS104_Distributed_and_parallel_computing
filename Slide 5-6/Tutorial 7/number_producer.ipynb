{
 "cells": [
  {
   "cell_type": "code",
   "execution_count": 1,
   "metadata": {},
   "outputs": [],
   "source": [
    "from time import sleep\n",
    "from json import dumps\n",
    "from kafka import KafkaProducer\n"
   ]
  },
  {
   "cell_type": "code",
   "execution_count": 2,
   "metadata": {},
   "outputs": [],
   "source": [
    "from ensurepip import bootstrap\n",
    "\n",
    "\n",
    "topic_name='numtest'\n",
    "kafka_server='localhost:9092'\n",
    "producer =KafkaProducer(bootstrap_servers=kafka_server,value_serializer=lambda x: dumps(x).encode('utf-8'))"
   ]
  },
  {
   "cell_type": "code",
   "execution_count": 3,
   "metadata": {},
   "outputs": [],
   "source": [
    "from math import prod\n",
    "\n",
    "\n",
    "for e in range(1000):\n",
    "    data={\n",
    "        'number':e\n",
    "    }\n",
    "    producer.send(topic_name,value=data)\n",
    "    sleep(5)"
   ]
  }
 ],
 "metadata": {
  "kernelspec": {
   "display_name": "Python 3.10.6 ('cs231')",
   "language": "python",
   "name": "python3"
  },
  "language_info": {
   "codemirror_mode": {
    "name": "ipython",
    "version": 3
   },
   "file_extension": ".py",
   "mimetype": "text/x-python",
   "name": "python",
   "nbconvert_exporter": "python",
   "pygments_lexer": "ipython3",
   "version": "3.10.6"
  },
  "orig_nbformat": 4,
  "vscode": {
   "interpreter": {
    "hash": "59f5416c96fce867bc11ba5bb5439836c52143b711d913ce74fb5702e89c709d"
   }
  }
 },
 "nbformat": 4,
 "nbformat_minor": 2
}
