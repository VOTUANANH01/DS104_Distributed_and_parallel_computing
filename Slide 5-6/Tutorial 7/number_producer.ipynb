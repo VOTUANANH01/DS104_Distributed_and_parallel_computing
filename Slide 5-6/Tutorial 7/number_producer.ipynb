{
 "cells": [
  {
   "cell_type": "code",
   "execution_count": 1,
   "metadata": {},
   "outputs": [],
   "source": [
    "from time import sleep\n",
    "from json import dumps\n",
    "from kafka import KafkaProducer\n"
   ]
  },
  {
   "cell_type": "code",
   "execution_count": 4,
   "metadata": {},
   "outputs": [],
   "source": [
    "topic_name='numtest'\n",
    "kafka_server='localhost:9092'\n",
    "producer =KafkaProducer(bootstrap_servers=kafka_server,value_serializer=lambda x: dumps(x).encode('utf-8'))"
   ]
  },
  {
   "cell_type": "code",
   "execution_count": 5,
   "metadata": {},
   "outputs": [
    {
     "ename": "KeyboardInterrupt",
     "evalue": "",
     "output_type": "error",
     "traceback": [
      "\u001b[1;31m---------------------------------------------------------------------------\u001b[0m",
      "\u001b[1;31mKeyboardInterrupt\u001b[0m                         Traceback (most recent call last)",
      "\u001b[1;32mf:\\tai_lieu\\Nam_4\\semester 7th\\Parallel and distributed computing\\assignment\\DS104.N11\\Slide 5-6\\Tutorial 7\\number_producer.ipynb Cell 3\u001b[0m in \u001b[0;36m<cell line: 4>\u001b[1;34m()\u001b[0m\n\u001b[0;32m      <a href='vscode-notebook-cell:/f%3A/tai_lieu/Nam_4/semester%207th/Parallel%20and%20distributed%20computing/assignment/DS104.N11/Slide%205-6/Tutorial%207/number_producer.ipynb#W2sZmlsZQ%3D%3D?line=4'>5</a>\u001b[0m data\u001b[39m=\u001b[39m{\n\u001b[0;32m      <a href='vscode-notebook-cell:/f%3A/tai_lieu/Nam_4/semester%207th/Parallel%20and%20distributed%20computing/assignment/DS104.N11/Slide%205-6/Tutorial%207/number_producer.ipynb#W2sZmlsZQ%3D%3D?line=5'>6</a>\u001b[0m     \u001b[39m'\u001b[39m\u001b[39mnumber\u001b[39m\u001b[39m'\u001b[39m:e\n\u001b[0;32m      <a href='vscode-notebook-cell:/f%3A/tai_lieu/Nam_4/semester%207th/Parallel%20and%20distributed%20computing/assignment/DS104.N11/Slide%205-6/Tutorial%207/number_producer.ipynb#W2sZmlsZQ%3D%3D?line=6'>7</a>\u001b[0m }\n\u001b[0;32m      <a href='vscode-notebook-cell:/f%3A/tai_lieu/Nam_4/semester%207th/Parallel%20and%20distributed%20computing/assignment/DS104.N11/Slide%205-6/Tutorial%207/number_producer.ipynb#W2sZmlsZQ%3D%3D?line=7'>8</a>\u001b[0m producer\u001b[39m.\u001b[39msend(topic_name,value\u001b[39m=\u001b[39mdata)\n\u001b[1;32m----> <a href='vscode-notebook-cell:/f%3A/tai_lieu/Nam_4/semester%207th/Parallel%20and%20distributed%20computing/assignment/DS104.N11/Slide%205-6/Tutorial%207/number_producer.ipynb#W2sZmlsZQ%3D%3D?line=8'>9</a>\u001b[0m sleep(\u001b[39m5\u001b[39;49m)\n",
      "\u001b[1;31mKeyboardInterrupt\u001b[0m: "
     ]
    }
   ],
   "source": [
    "from math import prod\n",
    "\n",
    "\n",
    "for e in range(1000):\n",
    "    data={\n",
    "        'number':e\n",
    "    }\n",
    "    producer.send(topic_name,value=data)\n",
    "    sleep(5)"
   ]
  }
 ],
 "metadata": {
  "kernelspec": {
   "display_name": "Python 3.10.6 ('cs231')",
   "language": "python",
   "name": "python3"
  },
  "language_info": {
   "codemirror_mode": {
    "name": "ipython",
    "version": 3
   },
   "file_extension": ".py",
   "mimetype": "text/x-python",
   "name": "python",
   "nbconvert_exporter": "python",
   "pygments_lexer": "ipython3",
   "version": "3.10.6"
  },
  "orig_nbformat": 4,
  "vscode": {
   "interpreter": {
    "hash": "59f5416c96fce867bc11ba5bb5439836c52143b711d913ce74fb5702e89c709d"
   }
  }
 },
 "nbformat": 4,
 "nbformat_minor": 2
}
